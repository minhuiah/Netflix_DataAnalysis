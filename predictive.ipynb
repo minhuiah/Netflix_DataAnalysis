{
 "cells": [
  {
   "cell_type": "code",
   "execution_count": 1,
   "metadata": {},
   "outputs": [],
   "source": [
    "import pandas as pd \n",
    "import numpy as np\n",
    "import matplotlib.pyplot as plt\n",
    "import plotly.express as px\n",
    "from rake_nltk import Rake\n",
    "from sklearn.metrics.pairwise import cosine_similarity\n",
    "from sklearn.feature_extraction.text import CountVectorizer\n"
   ]
  },
  {
   "cell_type": "code",
   "execution_count": 2,
   "metadata": {},
   "outputs": [],
   "source": [
    "netflix_data = pd.read_csv('netfix_cleaned.csv')"
   ]
  },
  {
   "cell_type": "code",
   "execution_count": 3,
   "metadata": {},
   "outputs": [
    {
     "data": {
      "text/html": [
       "<div>\n",
       "<style scoped>\n",
       "    .dataframe tbody tr th:only-of-type {\n",
       "        vertical-align: middle;\n",
       "    }\n",
       "\n",
       "    .dataframe tbody tr th {\n",
       "        vertical-align: top;\n",
       "    }\n",
       "\n",
       "    .dataframe thead th {\n",
       "        text-align: right;\n",
       "    }\n",
       "</style>\n",
       "<table border=\"1\" class=\"dataframe\">\n",
       "  <thead>\n",
       "    <tr style=\"text-align: right;\">\n",
       "      <th></th>\n",
       "      <th>names</th>\n",
       "      <th>release_year</th>\n",
       "      <th>maturity_rating</th>\n",
       "      <th>duration</th>\n",
       "      <th>description</th>\n",
       "      <th>genre</th>\n",
       "      <th>mood</th>\n",
       "      <th>cast</th>\n",
       "      <th>subtitles</th>\n",
       "      <th>audio</th>\n",
       "    </tr>\n",
       "  </thead>\n",
       "  <tbody>\n",
       "    <tr>\n",
       "      <th>0</th>\n",
       "      <td>Mission Majnu</td>\n",
       "      <td>2023</td>\n",
       "      <td>U/A 16+</td>\n",
       "      <td>2h 9m</td>\n",
       "      <td>In the 1970s, an undercover Indian spy takes o...</td>\n",
       "      <td>['Spy Movies', 'Hindi-Language Movies', 'Bolly...</td>\n",
       "      <td>Suspenseful</td>\n",
       "      <td>['Sidharth Malhotra', 'Rashmika Mandanna', 'Pa...</td>\n",
       "      <td>['English,', 'English,', 'Hindi']</td>\n",
       "      <td>['English,', 'Hindi - Audio Description,', 'Hi...</td>\n",
       "    </tr>\n",
       "    <tr>\n",
       "      <th>1</th>\n",
       "      <td>Cirkus</td>\n",
       "      <td>2022</td>\n",
       "      <td>U/A 7+</td>\n",
       "      <td>2h 14m</td>\n",
       "      <td>Chaos and comedy take the spotlight when a rin...</td>\n",
       "      <td>['Hindi-Language Movies', 'Bollywood Movies', ...</td>\n",
       "      <td>Goofy</td>\n",
       "      <td>['Ranveer Singh', 'Varun Sharma', 'Pooja Hegde...</td>\n",
       "      <td>['English,', 'Hindi']</td>\n",
       "      <td>['Hindi [Original]']</td>\n",
       "    </tr>\n",
       "    <tr>\n",
       "      <th>2</th>\n",
       "      <td>Gangubai Kathiawadi</td>\n",
       "      <td>2022</td>\n",
       "      <td>U/A 16+</td>\n",
       "      <td>2h 33m</td>\n",
       "      <td>Duped and sold to a brothel, a young woman fea...</td>\n",
       "      <td>['Hindi-Language Movies', 'Movies Based on Boo...</td>\n",
       "      <td>Provocative</td>\n",
       "      <td>['Alia Bhatt', 'Vijay Raaz', 'Seema Pahwa', 'A...</td>\n",
       "      <td>['English,', 'Hindi']</td>\n",
       "      <td>['Hindi [Original],', 'Telugu']</td>\n",
       "    </tr>\n",
       "    <tr>\n",
       "      <th>3</th>\n",
       "      <td>Thunivu</td>\n",
       "      <td>2023</td>\n",
       "      <td>U/A 16+</td>\n",
       "      <td>2h 22m</td>\n",
       "      <td>A major bank heist takes an unnerving turn whe...</td>\n",
       "      <td>['Crime Movies', 'Action &amp; Adventure']</td>\n",
       "      <td>Exciting</td>\n",
       "      <td>['Ajith Kumar', 'Manju Warrier', 'Samuthirakan...</td>\n",
       "      <td>['English,', 'Hindi']</td>\n",
       "      <td>['Tamil [Original]']</td>\n",
       "    </tr>\n",
       "    <tr>\n",
       "      <th>4</th>\n",
       "      <td>Bhool Bhulaiyaa 2</td>\n",
       "      <td>2022</td>\n",
       "      <td>U/A 13+</td>\n",
       "      <td>2h 21m</td>\n",
       "      <td>When strangers Reet and Ruhan cross paths, the...</td>\n",
       "      <td>['Hindi-Language Movies', 'Bollywood Movies', ...</td>\n",
       "      <td>Offbeat</td>\n",
       "      <td>['Tabu', 'Kartik Aaryan', 'Kiara Advani', 'Raj...</td>\n",
       "      <td>['English,', 'Hindi']</td>\n",
       "      <td>['Hindi [Original]']</td>\n",
       "    </tr>\n",
       "  </tbody>\n",
       "</table>\n",
       "</div>"
      ],
      "text/plain": [
       "                 names  release_year maturity_rating duration  \\\n",
       "0        Mission Majnu          2023        U/A 16+     2h 9m   \n",
       "1               Cirkus          2022         U/A 7+    2h 14m   \n",
       "2  Gangubai Kathiawadi          2022        U/A 16+    2h 33m   \n",
       "3              Thunivu          2023        U/A 16+    2h 22m   \n",
       "4    Bhool Bhulaiyaa 2          2022        U/A 13+    2h 21m   \n",
       "\n",
       "                                         description  \\\n",
       "0  In the 1970s, an undercover Indian spy takes o...   \n",
       "1  Chaos and comedy take the spotlight when a rin...   \n",
       "2  Duped and sold to a brothel, a young woman fea...   \n",
       "3  A major bank heist takes an unnerving turn whe...   \n",
       "4  When strangers Reet and Ruhan cross paths, the...   \n",
       "\n",
       "                                               genre         mood  \\\n",
       "0  ['Spy Movies', 'Hindi-Language Movies', 'Bolly...  Suspenseful   \n",
       "1  ['Hindi-Language Movies', 'Bollywood Movies', ...        Goofy   \n",
       "2  ['Hindi-Language Movies', 'Movies Based on Boo...  Provocative   \n",
       "3             ['Crime Movies', 'Action & Adventure']     Exciting   \n",
       "4  ['Hindi-Language Movies', 'Bollywood Movies', ...      Offbeat   \n",
       "\n",
       "                                                cast  \\\n",
       "0  ['Sidharth Malhotra', 'Rashmika Mandanna', 'Pa...   \n",
       "1  ['Ranveer Singh', 'Varun Sharma', 'Pooja Hegde...   \n",
       "2  ['Alia Bhatt', 'Vijay Raaz', 'Seema Pahwa', 'A...   \n",
       "3  ['Ajith Kumar', 'Manju Warrier', 'Samuthirakan...   \n",
       "4  ['Tabu', 'Kartik Aaryan', 'Kiara Advani', 'Raj...   \n",
       "\n",
       "                           subtitles  \\\n",
       "0  ['English,', 'English,', 'Hindi']   \n",
       "1              ['English,', 'Hindi']   \n",
       "2              ['English,', 'Hindi']   \n",
       "3              ['English,', 'Hindi']   \n",
       "4              ['English,', 'Hindi']   \n",
       "\n",
       "                                               audio  \n",
       "0  ['English,', 'Hindi - Audio Description,', 'Hi...  \n",
       "1                               ['Hindi [Original]']  \n",
       "2                    ['Hindi [Original],', 'Telugu']  \n",
       "3                               ['Tamil [Original]']  \n",
       "4                               ['Hindi [Original]']  "
      ]
     },
     "execution_count": 3,
     "metadata": {},
     "output_type": "execute_result"
    }
   ],
   "source": [
    "netflix_data.head()"
   ]
  },
  {
   "cell_type": "code",
   "execution_count": 4,
   "metadata": {},
   "outputs": [
    {
     "data": {
      "text/html": [
       "<div>\n",
       "<style scoped>\n",
       "    .dataframe tbody tr th:only-of-type {\n",
       "        vertical-align: middle;\n",
       "    }\n",
       "\n",
       "    .dataframe tbody tr th {\n",
       "        vertical-align: top;\n",
       "    }\n",
       "\n",
       "    .dataframe thead th {\n",
       "        text-align: right;\n",
       "    }\n",
       "</style>\n",
       "<table border=\"1\" class=\"dataframe\">\n",
       "  <thead>\n",
       "    <tr style=\"text-align: right;\">\n",
       "      <th></th>\n",
       "      <th>release_year</th>\n",
       "    </tr>\n",
       "  </thead>\n",
       "  <tbody>\n",
       "    <tr>\n",
       "      <th>count</th>\n",
       "      <td>560.000000</td>\n",
       "    </tr>\n",
       "    <tr>\n",
       "      <th>mean</th>\n",
       "      <td>2016.521429</td>\n",
       "    </tr>\n",
       "    <tr>\n",
       "      <th>std</th>\n",
       "      <td>6.282517</td>\n",
       "    </tr>\n",
       "    <tr>\n",
       "      <th>min</th>\n",
       "      <td>1993.000000</td>\n",
       "    </tr>\n",
       "    <tr>\n",
       "      <th>25%</th>\n",
       "      <td>2012.000000</td>\n",
       "    </tr>\n",
       "    <tr>\n",
       "      <th>50%</th>\n",
       "      <td>2019.000000</td>\n",
       "    </tr>\n",
       "    <tr>\n",
       "      <th>75%</th>\n",
       "      <td>2022.000000</td>\n",
       "    </tr>\n",
       "    <tr>\n",
       "      <th>max</th>\n",
       "      <td>2023.000000</td>\n",
       "    </tr>\n",
       "  </tbody>\n",
       "</table>\n",
       "</div>"
      ],
      "text/plain": [
       "       release_year\n",
       "count    560.000000\n",
       "mean    2016.521429\n",
       "std        6.282517\n",
       "min     1993.000000\n",
       "25%     2012.000000\n",
       "50%     2019.000000\n",
       "75%     2022.000000\n",
       "max     2023.000000"
      ]
     },
     "execution_count": 4,
     "metadata": {},
     "output_type": "execute_result"
    }
   ],
   "source": [
    "netflix_data.describe()"
   ]
  },
  {
   "cell_type": "code",
   "execution_count": 5,
   "metadata": {},
   "outputs": [
    {
     "name": "stdout",
     "output_type": "stream",
     "text": [
      "['mood']\n"
     ]
    }
   ],
   "source": [
    "#finding if there is any nan column\n",
    "nans_indices = netflix_data.columns[netflix_data.isna().any()].tolist()\n",
    "print(nans_indices)"
   ]
  },
  {
   "cell_type": "code",
   "execution_count": 11,
   "metadata": {},
   "outputs": [],
   "source": [
    "#drop duplicate entry\n",
    "netflix_data.drop_duplicates(subset=\"names\", inplace=True)"
   ]
  },
  {
   "cell_type": "code",
   "execution_count": 6,
   "metadata": {},
   "outputs": [
    {
     "data": {
      "text/plain": [
       "(560, 10)"
      ]
     },
     "execution_count": 6,
     "metadata": {},
     "output_type": "execute_result"
    }
   ],
   "source": [
    "# to check if there is duplicate entry\n",
    "netflix_data.shape"
   ]
  },
  {
   "cell_type": "code",
   "execution_count": 7,
   "metadata": {},
   "outputs": [],
   "source": [
    "netflix_data.dropna(inplace=True)"
   ]
  },
  {
   "cell_type": "code",
   "execution_count": 8,
   "metadata": {},
   "outputs": [
    {
     "data": {
      "text/plain": [
       "array(['Suspenseful', 'Goofy', 'Provocative', 'Exciting', 'Offbeat',\n",
       "       'Quirky', 'Feel-Good', 'Emotional', 'Heartfelt', 'Ominous',\n",
       "       'Sentimental', 'Adrenaline Rush', 'Dark', 'Intimate', 'Charming',\n",
       "       'Violent', 'Gritty', 'Romantic', 'Scary', 'Witty', 'Mind-Bending',\n",
       "       'Steamy', 'Understated', 'Swoonworthy', 'Bittersweet', 'Inspiring',\n",
       "       'Raunchy', 'Chilling'], dtype=object)"
      ]
     },
     "execution_count": 8,
     "metadata": {},
     "output_type": "execute_result"
    }
   ],
   "source": [
    "# netflix_data['mood'].values\n",
    "netflix_data['mood'].unique()"
   ]
  },
  {
   "cell_type": "code",
   "execution_count": 9,
   "metadata": {},
   "outputs": [
    {
     "data": {
      "text/plain": [
       "names              0\n",
       "release_year       0\n",
       "maturity_rating    0\n",
       "duration           0\n",
       "description        0\n",
       "genre              0\n",
       "mood               0\n",
       "cast               0\n",
       "subtitles          0\n",
       "audio              0\n",
       "dtype: int64"
      ]
     },
     "execution_count": 9,
     "metadata": {},
     "output_type": "execute_result"
    }
   ],
   "source": [
    "netflix_data.isnull().sum()"
   ]
  },
  {
   "attachments": {},
   "cell_type": "markdown",
   "metadata": {},
   "source": [
    "<h1>Grouping Movies based on Mood</h1>"
   ]
  },
  {
   "cell_type": "code",
   "execution_count": 10,
   "metadata": {},
   "outputs": [
    {
     "name": "stdout",
     "output_type": "stream",
     "text": [
      "[93 48 45 41 36 32 29 22 20 19 18 16 15 14 13 10  8  7  6  5  4  4  4  2\n",
      "  2  2  1  1]\n"
     ]
    },
    {
     "data": {
      "image/png": "[encoded data removed]",
      "text/plain": [
       "<Figure size 432x288 with 1 Axes>"
      ]
     },
     "metadata": {
      "needs_background": "light"
     },
     "output_type": "display_data"
    }
   ],
   "source": [
    "mood = ['Suspenseful', 'Goofy', 'Provocative', 'Exciting', 'Offbeat',\n",
    "       'Quirky', 'Feel-Good', 'Emotional', 'Heartfelt', 'Ominous',\n",
    "       'Sentimental', 'Adrenaline Rush', 'Dark', 'Intimate', 'Charming',\n",
    "       'Violent', 'Gritty', 'Romantic', 'Scary', 'Witty', 'Mind-Bending',\n",
    "       'Steamy', 'Understated', 'Swoonworthy', 'Bittersweet', 'Inspiring',\n",
    "       'Raunchy', 'Chilling']\n",
    "\n",
    "counts = [29, 41, 2, 93, 15, 22,  32, 48, 36, 16,  18, 45, 13, 8, 5, 20, 10, 4, 4, 19, 14, 2, 1, 1, 4, 7,  2, 6]\n",
    "\n",
    "y = np.array(netflix_data['mood'].value_counts())\n",
    "print(y)\n",
    "\n",
    "fig, ax = plt.subplots()\n",
    "ax.bar(mood,counts)\n",
    "\n",
    "ax.set_ylabel('Count')\n",
    "ax.set_title('Movie Count Based on Mood')\n",
    "plt.xticks(rotation=90)\n",
    "plt.show()"
   ]
  },
  {
   "attachments": {},
   "cell_type": "markdown",
   "metadata": {},
   "source": [
    "<h1>Finding Movies Released in 2023</h1>"
   ]
  },
  {
   "cell_type": "code",
   "execution_count": 11,
   "metadata": {},
   "outputs": [
    {
     "data": {
      "text/html": [
       "<div>\n",
       "<style scoped>\n",
       "    .dataframe tbody tr th:only-of-type {\n",
       "        vertical-align: middle;\n",
       "    }\n",
       "\n",
       "    .dataframe tbody tr th {\n",
       "        vertical-align: top;\n",
       "    }\n",
       "\n",
       "    .dataframe thead th {\n",
       "        text-align: right;\n",
       "    }\n",
       "</style>\n",
       "<table border=\"1\" class=\"dataframe\">\n",
       "  <thead>\n",
       "    <tr style=\"text-align: right;\">\n",
       "      <th></th>\n",
       "      <th>names</th>\n",
       "      <th>release_year</th>\n",
       "      <th>maturity_rating</th>\n",
       "      <th>duration</th>\n",
       "      <th>description</th>\n",
       "      <th>genre</th>\n",
       "      <th>mood</th>\n",
       "      <th>cast</th>\n",
       "      <th>subtitles</th>\n",
       "      <th>audio</th>\n",
       "    </tr>\n",
       "  </thead>\n",
       "  <tbody>\n",
       "    <tr>\n",
       "      <th>0</th>\n",
       "      <td>Mission Majnu</td>\n",
       "      <td>2023</td>\n",
       "      <td>U/A 16+</td>\n",
       "      <td>2h 9m</td>\n",
       "      <td>In the 1970s, an undercover Indian spy takes o...</td>\n",
       "      <td>['Spy Movies', 'Hindi-Language Movies', 'Bolly...</td>\n",
       "      <td>Suspenseful</td>\n",
       "      <td>['Sidharth Malhotra', 'Rashmika Mandanna', 'Pa...</td>\n",
       "      <td>['English,', 'English,', 'Hindi']</td>\n",
       "      <td>['English,', 'Hindi - Audio Description,', 'Hi...</td>\n",
       "    </tr>\n",
       "    <tr>\n",
       "      <th>3</th>\n",
       "      <td>Thunivu</td>\n",
       "      <td>2023</td>\n",
       "      <td>U/A 16+</td>\n",
       "      <td>2h 22m</td>\n",
       "      <td>A major bank heist takes an unnerving turn whe...</td>\n",
       "      <td>['Crime Movies', 'Action &amp; Adventure']</td>\n",
       "      <td>Exciting</td>\n",
       "      <td>['Ajith Kumar', 'Manju Warrier', 'Samuthirakan...</td>\n",
       "      <td>['English,', 'Hindi']</td>\n",
       "      <td>['Tamil [Original]']</td>\n",
       "    </tr>\n",
       "    <tr>\n",
       "      <th>36</th>\n",
       "      <td>Nanpakal Nerathu Mayakkam</td>\n",
       "      <td>2023</td>\n",
       "      <td>U/A 13+</td>\n",
       "      <td>1h 47m</td>\n",
       "      <td>In this Malayalam-Tamil drama, an irritable Ja...</td>\n",
       "      <td>['Dramas']</td>\n",
       "      <td>Intimate</td>\n",
       "      <td>['Mammootty', 'Ramya Suvi', 'Ramya Pandian', '...</td>\n",
       "      <td>['English']</td>\n",
       "      <td>['Hindi,', 'Malayalam [Original],', 'Telugu']</td>\n",
       "    </tr>\n",
       "    <tr>\n",
       "      <th>175</th>\n",
       "      <td>Call Me Chihiro</td>\n",
       "      <td>2023</td>\n",
       "      <td>U/A 16+</td>\n",
       "      <td>2h 11m</td>\n",
       "      <td>An unapologetic former sex worker starts worki...</td>\n",
       "      <td>['Dramas']</td>\n",
       "      <td>Understated</td>\n",
       "      <td>['Kasumi Arimura', 'Hana Toyoshima', 'Tetta Sh...</td>\n",
       "      <td>['English,', 'English,', 'French,', 'Japanese']</td>\n",
       "      <td>['English,', 'Japanese - Audio Description,', ...</td>\n",
       "    </tr>\n",
       "    <tr>\n",
       "      <th>179</th>\n",
       "      <td>The Strays</td>\n",
       "      <td>2023</td>\n",
       "      <td>U/A 16+</td>\n",
       "      <td>1h 37m</td>\n",
       "      <td>A woman's meticulously crafted life of privile...</td>\n",
       "      <td>['Dramas', 'Thriller Movies']</td>\n",
       "      <td>Ominous</td>\n",
       "      <td>['Ashley Madekwe', 'Jorden Myrie', 'Bukky Bakr...</td>\n",
       "      <td>['English']</td>\n",
       "      <td>['English - Audio Description,', 'English [Ori...</td>\n",
       "    </tr>\n",
       "    <tr>\n",
       "      <th>181</th>\n",
       "      <td>We Have a Ghost</td>\n",
       "      <td>2023</td>\n",
       "      <td>U/A 13+</td>\n",
       "      <td>2h 7m</td>\n",
       "      <td>After finding a ghost with a murky past haunti...</td>\n",
       "      <td>['Family Features', 'US Movies', 'Teen Movies'...</td>\n",
       "      <td>Heartfelt</td>\n",
       "      <td>['David Harbour', 'Anthony Mackie', \"Jahi Di'A...</td>\n",
       "      <td>['English']</td>\n",
       "      <td>['English - Audio Description,', 'English [Ori...</td>\n",
       "    </tr>\n",
       "    <tr>\n",
       "      <th>182</th>\n",
       "      <td>Nanpakal Nerathu Mayakkam</td>\n",
       "      <td>2023</td>\n",
       "      <td>U/A 13+</td>\n",
       "      <td>1h 47m</td>\n",
       "      <td>In this Malayalam-Tamil drama, an irritable Ja...</td>\n",
       "      <td>['Dramas']</td>\n",
       "      <td>Intimate</td>\n",
       "      <td>['Mammootty', 'Ramya Suvi', 'Ramya Pandian', '...</td>\n",
       "      <td>['English']</td>\n",
       "      <td>['Hindi,', 'Malayalam [Original],', 'Telugu']</td>\n",
       "    </tr>\n",
       "    <tr>\n",
       "      <th>193</th>\n",
       "      <td>Dog Gone</td>\n",
       "      <td>2023</td>\n",
       "      <td>U/A 7+</td>\n",
       "      <td>1h 35m</td>\n",
       "      <td>When his beloved dog goes missing, a young man...</td>\n",
       "      <td>['Family Features', 'Movies Based on Real Life...</td>\n",
       "      <td>Inspiring</td>\n",
       "      <td>['Rob Lowe', 'Johnny Berchtold', 'Kimberly Wil...</td>\n",
       "      <td>['English']</td>\n",
       "      <td>['English - Audio Description,', 'English [Ori...</td>\n",
       "    </tr>\n",
       "    <tr>\n",
       "      <th>230</th>\n",
       "      <td>We Have a Ghost</td>\n",
       "      <td>2023</td>\n",
       "      <td>U/A 13+</td>\n",
       "      <td>2h 7m</td>\n",
       "      <td>After finding a ghost with a murky past haunti...</td>\n",
       "      <td>['Family Features', 'US Movies', 'Teen Movies'...</td>\n",
       "      <td>Heartfelt</td>\n",
       "      <td>['David Harbour', 'Anthony Mackie', \"Jahi Di'A...</td>\n",
       "      <td>['English']</td>\n",
       "      <td>['English - Audio Description,', 'English [Ori...</td>\n",
       "    </tr>\n",
       "    <tr>\n",
       "      <th>430</th>\n",
       "      <td>We Have a Ghost</td>\n",
       "      <td>2023</td>\n",
       "      <td>U/A 13+</td>\n",
       "      <td>2h 7m</td>\n",
       "      <td>After finding a ghost with a murky past haunti...</td>\n",
       "      <td>['Family Features', 'US Movies', 'Teen Movies'...</td>\n",
       "      <td>Heartfelt</td>\n",
       "      <td>['David Harbour', 'Anthony Mackie', \"Jahi Di'A...</td>\n",
       "      <td>['English']</td>\n",
       "      <td>['English - Audio Description,', 'English [Ori...</td>\n",
       "    </tr>\n",
       "    <tr>\n",
       "      <th>503</th>\n",
       "      <td>We Have a Ghost</td>\n",
       "      <td>2023</td>\n",
       "      <td>U/A 13+</td>\n",
       "      <td>2h 7m</td>\n",
       "      <td>After finding a ghost with a murky past haunti...</td>\n",
       "      <td>['Family Features', 'US Movies', 'Teen Movies'...</td>\n",
       "      <td>Heartfelt</td>\n",
       "      <td>['David Harbour', 'Anthony Mackie', \"Jahi Di'A...</td>\n",
       "      <td>['English']</td>\n",
       "      <td>['English - Audio Description,', 'English [Ori...</td>\n",
       "    </tr>\n",
       "    <tr>\n",
       "      <th>516</th>\n",
       "      <td>Dog Gone</td>\n",
       "      <td>2023</td>\n",
       "      <td>U/A 7+</td>\n",
       "      <td>1h 35m</td>\n",
       "      <td>When his beloved dog goes missing, a young man...</td>\n",
       "      <td>['Family Features', 'Movies Based on Real Life...</td>\n",
       "      <td>Inspiring</td>\n",
       "      <td>['Rob Lowe', 'Johnny Berchtold', 'Kimberly Wil...</td>\n",
       "      <td>['English']</td>\n",
       "      <td>['English - Audio Description,', 'English [Ori...</td>\n",
       "    </tr>\n",
       "    <tr>\n",
       "      <th>529</th>\n",
       "      <td>Nanpakal Nerathu Mayakkam</td>\n",
       "      <td>2023</td>\n",
       "      <td>U/A 13+</td>\n",
       "      <td>1h 47m</td>\n",
       "      <td>In this Malayalam-Tamil drama, an irritable Ja...</td>\n",
       "      <td>['Dramas']</td>\n",
       "      <td>Intimate</td>\n",
       "      <td>['Mammootty', 'Ramya Suvi', 'Ramya Pandian', '...</td>\n",
       "      <td>['English']</td>\n",
       "      <td>['Hindi,', 'Malayalam [Original],', 'Telugu']</td>\n",
       "    </tr>\n",
       "  </tbody>\n",
       "</table>\n",
       "</div>"
      ],
      "text/plain": [
       "                         names  release_year maturity_rating duration  \\\n",
       "0                Mission Majnu          2023        U/A 16+     2h 9m   \n",
       "3                      Thunivu          2023        U/A 16+    2h 22m   \n",
       "36   Nanpakal Nerathu Mayakkam          2023        U/A 13+    1h 47m   \n",
       "175            Call Me Chihiro          2023        U/A 16+    2h 11m   \n",
       "179                 The Strays          2023        U/A 16+    1h 37m   \n",
       "181            We Have a Ghost          2023        U/A 13+     2h 7m   \n",
       "182  Nanpakal Nerathu Mayakkam          2023        U/A 13+    1h 47m   \n",
       "193                   Dog Gone          2023         U/A 7+    1h 35m   \n",
       "230            We Have a Ghost          2023        U/A 13+     2h 7m   \n",
       "430            We Have a Ghost          2023        U/A 13+     2h 7m   \n",
       "503            We Have a Ghost          2023        U/A 13+     2h 7m   \n",
       "516                   Dog Gone          2023         U/A 7+    1h 35m   \n",
       "529  Nanpakal Nerathu Mayakkam          2023        U/A 13+    1h 47m   \n",
       "\n",
       "                                           description  \\\n",
       "0    In the 1970s, an undercover Indian spy takes o...   \n",
       "3    A major bank heist takes an unnerving turn whe...   \n",
       "36   In this Malayalam-Tamil drama, an irritable Ja...   \n",
       "175  An unapologetic former sex worker starts worki...   \n",
       "179  A woman's meticulously crafted life of privile...   \n",
       "181  After finding a ghost with a murky past haunti...   \n",
       "182  In this Malayalam-Tamil drama, an irritable Ja...   \n",
       "193  When his beloved dog goes missing, a young man...   \n",
       "230  After finding a ghost with a murky past haunti...   \n",
       "430  After finding a ghost with a murky past haunti...   \n",
       "503  After finding a ghost with a murky past haunti...   \n",
       "516  When his beloved dog goes missing, a young man...   \n",
       "529  In this Malayalam-Tamil drama, an irritable Ja...   \n",
       "\n",
       "                                                 genre         mood  \\\n",
       "0    ['Spy Movies', 'Hindi-Language Movies', 'Bolly...  Suspenseful   \n",
       "3               ['Crime Movies', 'Action & Adventure']     Exciting   \n",
       "36                                          ['Dramas']     Intimate   \n",
       "175                                         ['Dramas']  Understated   \n",
       "179                      ['Dramas', 'Thriller Movies']      Ominous   \n",
       "181  ['Family Features', 'US Movies', 'Teen Movies'...    Heartfelt   \n",
       "182                                         ['Dramas']     Intimate   \n",
       "193  ['Family Features', 'Movies Based on Real Life...    Inspiring   \n",
       "230  ['Family Features', 'US Movies', 'Teen Movies'...    Heartfelt   \n",
       "430  ['Family Features', 'US Movies', 'Teen Movies'...    Heartfelt   \n",
       "503  ['Family Features', 'US Movies', 'Teen Movies'...    Heartfelt   \n",
       "516  ['Family Features', 'Movies Based on Real Life...    Inspiring   \n",
       "529                                         ['Dramas']     Intimate   \n",
       "\n",
       "                                                  cast  \\\n",
       "0    ['Sidharth Malhotra', 'Rashmika Mandanna', 'Pa...   \n",
       "3    ['Ajith Kumar', 'Manju Warrier', 'Samuthirakan...   \n",
       "36   ['Mammootty', 'Ramya Suvi', 'Ramya Pandian', '...   \n",
       "175  ['Kasumi Arimura', 'Hana Toyoshima', 'Tetta Sh...   \n",
       "179  ['Ashley Madekwe', 'Jorden Myrie', 'Bukky Bakr...   \n",
       "181  ['David Harbour', 'Anthony Mackie', \"Jahi Di'A...   \n",
       "182  ['Mammootty', 'Ramya Suvi', 'Ramya Pandian', '...   \n",
       "193  ['Rob Lowe', 'Johnny Berchtold', 'Kimberly Wil...   \n",
       "230  ['David Harbour', 'Anthony Mackie', \"Jahi Di'A...   \n",
       "430  ['David Harbour', 'Anthony Mackie', \"Jahi Di'A...   \n",
       "503  ['David Harbour', 'Anthony Mackie', \"Jahi Di'A...   \n",
       "516  ['Rob Lowe', 'Johnny Berchtold', 'Kimberly Wil...   \n",
       "529  ['Mammootty', 'Ramya Suvi', 'Ramya Pandian', '...   \n",
       "\n",
       "                                           subtitles  \\\n",
       "0                  ['English,', 'English,', 'Hindi']   \n",
       "3                              ['English,', 'Hindi']   \n",
       "36                                       ['English']   \n",
       "175  ['English,', 'English,', 'French,', 'Japanese']   \n",
       "179                                      ['English']   \n",
       "181                                      ['English']   \n",
       "182                                      ['English']   \n",
       "193                                      ['English']   \n",
       "230                                      ['English']   \n",
       "430                                      ['English']   \n",
       "503                                      ['English']   \n",
       "516                                      ['English']   \n",
       "529                                      ['English']   \n",
       "\n",
       "                                                 audio  \n",
       "0    ['English,', 'Hindi - Audio Description,', 'Hi...  \n",
       "3                                 ['Tamil [Original]']  \n",
       "36       ['Hindi,', 'Malayalam [Original],', 'Telugu']  \n",
       "175  ['English,', 'Japanese - Audio Description,', ...  \n",
       "179  ['English - Audio Description,', 'English [Ori...  \n",
       "181  ['English - Audio Description,', 'English [Ori...  \n",
       "182      ['Hindi,', 'Malayalam [Original],', 'Telugu']  \n",
       "193  ['English - Audio Description,', 'English [Ori...  \n",
       "230  ['English - Audio Description,', 'English [Ori...  \n",
       "430  ['English - Audio Description,', 'English [Ori...  \n",
       "503  ['English - Audio Description,', 'English [Ori...  \n",
       "516  ['English - Audio Description,', 'English [Ori...  \n",
       "529      ['Hindi,', 'Malayalam [Original],', 'Telugu']  "
      ]
     },
     "execution_count": 11,
     "metadata": {},
     "output_type": "execute_result"
    }
   ],
   "source": [
    "movies_2023 = netflix_data[netflix_data['release_year'] == 2023]\n",
    "movies_2023"
   ]
  },
  {
   "attachments": {},
   "cell_type": "markdown",
   "metadata": {},
   "source": [
    "<h1>Grouping Shows Based on Maturity Rating</h1>"
   ]
  },
  {
   "cell_type": "code",
   "execution_count": 12,
   "metadata": {},
   "outputs": [
    {
     "name": "stdout",
     "output_type": "stream",
     "text": [
      "[7 4 2]\n"
     ]
    },
    {
     "data": {
      "image/png": "[encoded data removed]",
      "text/plain": [
       "<Figure size 432x432 with 1 Axes>"
      ]
     },
     "metadata": {},
     "output_type": "display_data"
    }
   ],
   "source": [
    "#group the movies based on maturity rating\n",
    "maturity_cat = ['U/A 16+', 'U/A 13+', 'U/A 7+']\n",
    "maturity_rating_count = np.array(movies_2023['maturity_rating'].value_counts())\n",
    "print(maturity_rating_count)\n",
    "\n",
    "# movies_2023.plot.pie(y=maturity_rating_count,figsize=(5, 5))\n",
    "\n",
    "\n",
    "df = pd.DataFrame({'maturity_rating_count' : np.array(movies_2023['maturity_rating'].value_counts())},\n",
    "                   index=['U/A 16+', 'U/A 13+', 'U/A 7+'])\n",
    "\n",
    "plot = df.plot.pie(y='maturity_rating_count', figsize=(6, 6))"
   ]
  },
  {
   "cell_type": "code",
   "execution_count": 13,
   "metadata": {},
   "outputs": [
    {
     "data": {
      "text/html": [
       "<div>\n",
       "<style scoped>\n",
       "    .dataframe tbody tr th:only-of-type {\n",
       "        vertical-align: middle;\n",
       "    }\n",
       "\n",
       "    .dataframe tbody tr th {\n",
       "        vertical-align: top;\n",
       "    }\n",
       "\n",
       "    .dataframe thead th {\n",
       "        text-align: right;\n",
       "    }\n",
       "</style>\n",
       "<table border=\"1\" class=\"dataframe\">\n",
       "  <thead>\n",
       "    <tr style=\"text-align: right;\">\n",
       "      <th></th>\n",
       "      <th>names</th>\n",
       "      <th>release_year</th>\n",
       "      <th>mood</th>\n",
       "    </tr>\n",
       "  </thead>\n",
       "  <tbody>\n",
       "    <tr>\n",
       "      <th>0</th>\n",
       "      <td>Mission Majnu</td>\n",
       "      <td>2023</td>\n",
       "      <td>Suspenseful</td>\n",
       "    </tr>\n",
       "    <tr>\n",
       "      <th>1</th>\n",
       "      <td>Cirkus</td>\n",
       "      <td>2022</td>\n",
       "      <td>Goofy</td>\n",
       "    </tr>\n",
       "    <tr>\n",
       "      <th>2</th>\n",
       "      <td>Gangubai Kathiawadi</td>\n",
       "      <td>2022</td>\n",
       "      <td>Provocative</td>\n",
       "    </tr>\n",
       "    <tr>\n",
       "      <th>3</th>\n",
       "      <td>Thunivu</td>\n",
       "      <td>2023</td>\n",
       "      <td>Exciting</td>\n",
       "    </tr>\n",
       "    <tr>\n",
       "      <th>4</th>\n",
       "      <td>Bhool Bhulaiyaa 2</td>\n",
       "      <td>2022</td>\n",
       "      <td>Offbeat</td>\n",
       "    </tr>\n",
       "    <tr>\n",
       "      <th>...</th>\n",
       "      <td>...</td>\n",
       "      <td>...</td>\n",
       "      <td>...</td>\n",
       "    </tr>\n",
       "    <tr>\n",
       "      <th>555</th>\n",
       "      <td>Happy New Year</td>\n",
       "      <td>2014</td>\n",
       "      <td>Feel-Good</td>\n",
       "    </tr>\n",
       "    <tr>\n",
       "      <th>556</th>\n",
       "      <td>RRR (Hindi)</td>\n",
       "      <td>2022</td>\n",
       "      <td>Adrenaline Rush</td>\n",
       "    </tr>\n",
       "    <tr>\n",
       "      <th>557</th>\n",
       "      <td>Major (Telugu)</td>\n",
       "      <td>2022</td>\n",
       "      <td>Bittersweet</td>\n",
       "    </tr>\n",
       "    <tr>\n",
       "      <th>558</th>\n",
       "      <td>Om Shanti Om</td>\n",
       "      <td>2007</td>\n",
       "      <td>Emotional</td>\n",
       "    </tr>\n",
       "    <tr>\n",
       "      <th>559</th>\n",
       "      <td>Kabhi Khushi Kabhie Gham</td>\n",
       "      <td>2001</td>\n",
       "      <td>Sentimental</td>\n",
       "    </tr>\n",
       "  </tbody>\n",
       "</table>\n",
       "<p>517 rows × 3 columns</p>\n",
       "</div>"
      ],
      "text/plain": [
       "                        names  release_year             mood\n",
       "0               Mission Majnu          2023      Suspenseful\n",
       "1                      Cirkus          2022            Goofy\n",
       "2         Gangubai Kathiawadi          2022      Provocative\n",
       "3                     Thunivu          2023         Exciting\n",
       "4           Bhool Bhulaiyaa 2          2022          Offbeat\n",
       "..                        ...           ...              ...\n",
       "555            Happy New Year          2014        Feel-Good\n",
       "556               RRR (Hindi)          2022  Adrenaline Rush\n",
       "557            Major (Telugu)          2022      Bittersweet\n",
       "558              Om Shanti Om          2007        Emotional\n",
       "559  Kabhi Khushi Kabhie Gham          2001      Sentimental\n",
       "\n",
       "[517 rows x 3 columns]"
      ]
     },
     "execution_count": 13,
     "metadata": {},
     "output_type": "execute_result"
    }
   ],
   "source": [
    "#to get the movie, with its year released and also the casts\n",
    "\n",
    "netflix_data.iloc[:, [0,1,6]]"
   ]
  },
  {
   "cell_type": "code",
   "execution_count": 14,
   "metadata": {},
   "outputs": [
    {
     "data": {
      "text/html": [
       "<div>\n",
       "<style scoped>\n",
       "    .dataframe tbody tr th:only-of-type {\n",
       "        vertical-align: middle;\n",
       "    }\n",
       "\n",
       "    .dataframe tbody tr th {\n",
       "        vertical-align: top;\n",
       "    }\n",
       "\n",
       "    .dataframe thead th {\n",
       "        text-align: right;\n",
       "    }\n",
       "</style>\n",
       "<table border=\"1\" class=\"dataframe\">\n",
       "  <thead>\n",
       "    <tr style=\"text-align: right;\">\n",
       "      <th></th>\n",
       "      <th>names</th>\n",
       "      <th>release_year</th>\n",
       "      <th>maturity_rating</th>\n",
       "      <th>duration</th>\n",
       "      <th>description</th>\n",
       "      <th>genre</th>\n",
       "      <th>mood</th>\n",
       "      <th>cast</th>\n",
       "      <th>subtitles</th>\n",
       "      <th>audio</th>\n",
       "    </tr>\n",
       "  </thead>\n",
       "  <tbody>\n",
       "    <tr>\n",
       "      <th>555</th>\n",
       "      <td>Happy New Year</td>\n",
       "      <td>2014</td>\n",
       "      <td>U/A 13+</td>\n",
       "      <td>2h 58m</td>\n",
       "      <td>A revenge-seeking diamond thief gathers a ragt...</td>\n",
       "      <td>['Hindi-Language Movies', 'Bollywood Movies', ...</td>\n",
       "      <td>Feel-Good</td>\n",
       "      <td>['Shah Rukh Khan', 'Deepika Padukone', 'Abhish...</td>\n",
       "      <td>['English']</td>\n",
       "      <td>['Hindi [Original]']</td>\n",
       "    </tr>\n",
       "    <tr>\n",
       "      <th>556</th>\n",
       "      <td>RRR (Hindi)</td>\n",
       "      <td>2022</td>\n",
       "      <td>A</td>\n",
       "      <td>3h 5m</td>\n",
       "      <td>A fearless warrior on a perilous mission comes...</td>\n",
       "      <td>['Action &amp; Adventure', 'Dramas']</td>\n",
       "      <td>Adrenaline Rush</td>\n",
       "      <td>['NTR Jr.', 'Ram Charan', 'Ajay Devgn', 'Alia ...</td>\n",
       "      <td>['English,', 'Hindi']</td>\n",
       "      <td>['English,', 'Hindi']</td>\n",
       "    </tr>\n",
       "    <tr>\n",
       "      <th>557</th>\n",
       "      <td>Major (Telugu)</td>\n",
       "      <td>2022</td>\n",
       "      <td>U/A 16+</td>\n",
       "      <td>2h 25m</td>\n",
       "      <td>This biopic follows the life of Indian Army of...</td>\n",
       "      <td>['Movies Based on Real Life', 'Action &amp; Advent...</td>\n",
       "      <td>Bittersweet</td>\n",
       "      <td>['Adivi Sesh', 'Prakash Raj', 'Sobhita Dhulipa...</td>\n",
       "      <td>['English']</td>\n",
       "      <td>['Telugu [Original]']</td>\n",
       "    </tr>\n",
       "    <tr>\n",
       "      <th>558</th>\n",
       "      <td>Om Shanti Om</td>\n",
       "      <td>2007</td>\n",
       "      <td>U/A 16+</td>\n",
       "      <td>2h 48m</td>\n",
       "      <td>Reincarnated 30 years after being killed in a ...</td>\n",
       "      <td>['Romantic Comedies', 'Hindi-Language Movies',...</td>\n",
       "      <td>Emotional</td>\n",
       "      <td>['Shah Rukh Khan', 'Deepika Padukone', 'Shreya...</td>\n",
       "      <td>['English']</td>\n",
       "      <td>['Hindi [Original]']</td>\n",
       "    </tr>\n",
       "    <tr>\n",
       "      <th>559</th>\n",
       "      <td>Kabhi Khushi Kabhie Gham</td>\n",
       "      <td>2001</td>\n",
       "      <td>U/A 13+</td>\n",
       "      <td>3h 29m</td>\n",
       "      <td>Years after his father disowns his adopted bro...</td>\n",
       "      <td>['Hindi-Language Movies', 'Bollywood Movies', ...</td>\n",
       "      <td>Sentimental</td>\n",
       "      <td>['Amitabh Bachchan', 'Jaya Bhaduri', 'Shah Ruk...</td>\n",
       "      <td>['English']</td>\n",
       "      <td>['Hindi [Original]']</td>\n",
       "    </tr>\n",
       "  </tbody>\n",
       "</table>\n",
       "</div>"
      ],
      "text/plain": [
       "                        names  release_year maturity_rating duration  \\\n",
       "555            Happy New Year          2014        U/A 13+    2h 58m   \n",
       "556               RRR (Hindi)          2022              A     3h 5m   \n",
       "557            Major (Telugu)          2022        U/A 16+    2h 25m   \n",
       "558              Om Shanti Om          2007        U/A 16+    2h 48m   \n",
       "559  Kabhi Khushi Kabhie Gham          2001        U/A 13+    3h 29m   \n",
       "\n",
       "                                           description  \\\n",
       "555  A revenge-seeking diamond thief gathers a ragt...   \n",
       "556  A fearless warrior on a perilous mission comes...   \n",
       "557  This biopic follows the life of Indian Army of...   \n",
       "558  Reincarnated 30 years after being killed in a ...   \n",
       "559  Years after his father disowns his adopted bro...   \n",
       "\n",
       "                                                 genre             mood  \\\n",
       "555  ['Hindi-Language Movies', 'Bollywood Movies', ...        Feel-Good   \n",
       "556                   ['Action & Adventure', 'Dramas']  Adrenaline Rush   \n",
       "557  ['Movies Based on Real Life', 'Action & Advent...      Bittersweet   \n",
       "558  ['Romantic Comedies', 'Hindi-Language Movies',...        Emotional   \n",
       "559  ['Hindi-Language Movies', 'Bollywood Movies', ...      Sentimental   \n",
       "\n",
       "                                                  cast              subtitles  \\\n",
       "555  ['Shah Rukh Khan', 'Deepika Padukone', 'Abhish...            ['English']   \n",
       "556  ['NTR Jr.', 'Ram Charan', 'Ajay Devgn', 'Alia ...  ['English,', 'Hindi']   \n",
       "557  ['Adivi Sesh', 'Prakash Raj', 'Sobhita Dhulipa...            ['English']   \n",
       "558  ['Shah Rukh Khan', 'Deepika Padukone', 'Shreya...            ['English']   \n",
       "559  ['Amitabh Bachchan', 'Jaya Bhaduri', 'Shah Ruk...            ['English']   \n",
       "\n",
       "                     audio  \n",
       "555   ['Hindi [Original]']  \n",
       "556  ['English,', 'Hindi']  \n",
       "557  ['Telugu [Original]']  \n",
       "558   ['Hindi [Original]']  \n",
       "559   ['Hindi [Original]']  "
      ]
     },
     "execution_count": 14,
     "metadata": {},
     "output_type": "execute_result"
    }
   ],
   "source": [
    "netflix_data.tail(5)"
   ]
  },
  {
   "attachments": {},
   "cell_type": "markdown",
   "metadata": {},
   "source": [
    "<h1>Finding Shows casted by Kiara Advani :) </h1>"
   ]
  },
  {
   "cell_type": "code",
   "execution_count": 15,
   "metadata": {},
   "outputs": [
    {
     "name": "stdout",
     "output_type": "stream",
     "text": [
      "['Bhool Bhulaiyaa 2', 'Kabir Singh', 'Lust Stories', 'Indoo Ki Jawani', 'Bhool Bhulaiyaa 2', 'Lust Stories', 'Bhool Bhulaiyaa 2', 'Kabir Singh', 'Lust Stories']\n"
     ]
    }
   ],
   "source": [
    "# Kiara Advani is my fav actress <333 , so i am gg to find which show she casts in\n",
    "\n",
    "casts = netflix_data['cast']\n",
    "cast_nparr = np.array(casts)\n",
    "movie_nparr = np.array(netflix_data['names'])\n",
    "# cast_nparr\n",
    "# movie_nparr\n",
    "\n",
    "new_arr = [movie_nparr,cast_nparr]\n",
    "movie_list = []\n",
    "for i in range(len(movie_nparr)):\n",
    "    if 'Kiara Advani' in new_arr[1][i]:\n",
    "        movie_list.append(new_arr[0][i])\n",
    "print(movie_list)\n"
   ]
  },
  {
   "cell_type": "code",
   "execution_count": 16,
   "metadata": {},
   "outputs": [
    {
     "data": {
      "text/html": [
       "<div>\n",
       "<style scoped>\n",
       "    .dataframe tbody tr th:only-of-type {\n",
       "        vertical-align: middle;\n",
       "    }\n",
       "\n",
       "    .dataframe tbody tr th {\n",
       "        vertical-align: top;\n",
       "    }\n",
       "\n",
       "    .dataframe thead th {\n",
       "        text-align: right;\n",
       "    }\n",
       "</style>\n",
       "<table border=\"1\" class=\"dataframe\">\n",
       "  <thead>\n",
       "    <tr style=\"text-align: right;\">\n",
       "      <th></th>\n",
       "      <th>names</th>\n",
       "      <th>release_year</th>\n",
       "      <th>maturity_rating</th>\n",
       "      <th>duration</th>\n",
       "      <th>description</th>\n",
       "      <th>genre</th>\n",
       "      <th>mood</th>\n",
       "      <th>cast</th>\n",
       "      <th>subtitles</th>\n",
       "      <th>audio</th>\n",
       "    </tr>\n",
       "  </thead>\n",
       "  <tbody>\n",
       "    <tr>\n",
       "      <th>0</th>\n",
       "      <td>Mission Majnu</td>\n",
       "      <td>2023</td>\n",
       "      <td>U/A 16+</td>\n",
       "      <td>2h 9m</td>\n",
       "      <td>In the 1970s, an undercover Indian spy takes o...</td>\n",
       "      <td>['Spy Movies', 'Hindi-Language Movies', 'Bolly...</td>\n",
       "      <td>Suspenseful</td>\n",
       "      <td>['Sidharth Malhotra', 'Rashmika Mandanna', 'Pa...</td>\n",
       "      <td>['English,', 'English,', 'Hindi']</td>\n",
       "      <td>['English,', 'Hindi - Audio Description,', 'Hi...</td>\n",
       "    </tr>\n",
       "    <tr>\n",
       "      <th>182</th>\n",
       "      <td>Nanpakal Nerathu Mayakkam</td>\n",
       "      <td>2023</td>\n",
       "      <td>U/A 13+</td>\n",
       "      <td>1h 47m</td>\n",
       "      <td>In this Malayalam-Tamil drama, an irritable Ja...</td>\n",
       "      <td>['Dramas']</td>\n",
       "      <td>Intimate</td>\n",
       "      <td>['Mammootty', 'Ramya Suvi', 'Ramya Pandian', '...</td>\n",
       "      <td>['English']</td>\n",
       "      <td>['Hindi,', 'Malayalam [Original],', 'Telugu']</td>\n",
       "    </tr>\n",
       "    <tr>\n",
       "      <th>503</th>\n",
       "      <td>We Have a Ghost</td>\n",
       "      <td>2023</td>\n",
       "      <td>U/A 13+</td>\n",
       "      <td>2h 7m</td>\n",
       "      <td>After finding a ghost with a murky past haunti...</td>\n",
       "      <td>['Family Features', 'US Movies', 'Teen Movies'...</td>\n",
       "      <td>Heartfelt</td>\n",
       "      <td>['David Harbour', 'Anthony Mackie', \"Jahi Di'A...</td>\n",
       "      <td>['English']</td>\n",
       "      <td>['English - Audio Description,', 'English [Ori...</td>\n",
       "    </tr>\n",
       "    <tr>\n",
       "      <th>529</th>\n",
       "      <td>Nanpakal Nerathu Mayakkam</td>\n",
       "      <td>2023</td>\n",
       "      <td>U/A 13+</td>\n",
       "      <td>1h 47m</td>\n",
       "      <td>In this Malayalam-Tamil drama, an irritable Ja...</td>\n",
       "      <td>['Dramas']</td>\n",
       "      <td>Intimate</td>\n",
       "      <td>['Mammootty', 'Ramya Suvi', 'Ramya Pandian', '...</td>\n",
       "      <td>['English']</td>\n",
       "      <td>['Hindi,', 'Malayalam [Original],', 'Telugu']</td>\n",
       "    </tr>\n",
       "    <tr>\n",
       "      <th>230</th>\n",
       "      <td>We Have a Ghost</td>\n",
       "      <td>2023</td>\n",
       "      <td>U/A 13+</td>\n",
       "      <td>2h 7m</td>\n",
       "      <td>After finding a ghost with a murky past haunti...</td>\n",
       "      <td>['Family Features', 'US Movies', 'Teen Movies'...</td>\n",
       "      <td>Heartfelt</td>\n",
       "      <td>['David Harbour', 'Anthony Mackie', \"Jahi Di'A...</td>\n",
       "      <td>['English']</td>\n",
       "      <td>['English - Audio Description,', 'English [Ori...</td>\n",
       "    </tr>\n",
       "    <tr>\n",
       "      <th>...</th>\n",
       "      <td>...</td>\n",
       "      <td>...</td>\n",
       "      <td>...</td>\n",
       "      <td>...</td>\n",
       "      <td>...</td>\n",
       "      <td>...</td>\n",
       "      <td>...</td>\n",
       "      <td>...</td>\n",
       "      <td>...</td>\n",
       "      <td>...</td>\n",
       "    </tr>\n",
       "    <tr>\n",
       "      <th>75</th>\n",
       "      <td>Jurassic Park III</td>\n",
       "      <td>2001</td>\n",
       "      <td>U/A 16+</td>\n",
       "      <td>1h 32m</td>\n",
       "      <td>An aerial tour of an infamous dinosaur island ...</td>\n",
       "      <td>['Sci-Fi Movies', 'US Movies', 'Movies Based o...</td>\n",
       "      <td>Exciting</td>\n",
       "      <td>['Sam Neill', 'Téa Leoni', 'William H. Macy', ...</td>\n",
       "      <td>['English,', 'Hindi']</td>\n",
       "      <td>['English - Audio Description,', 'English [Ori...</td>\n",
       "    </tr>\n",
       "    <tr>\n",
       "      <th>291</th>\n",
       "      <td>Final Destination</td>\n",
       "      <td>2000</td>\n",
       "      <td>A</td>\n",
       "      <td>1h 37m</td>\n",
       "      <td>After narrowly avoiding a fatal plane explosio...</td>\n",
       "      <td>['US Movies', 'Horror Movies']</td>\n",
       "      <td>Scary</td>\n",
       "      <td>['Devon Sawa', 'Ali Larter', 'Seann William Sc...</td>\n",
       "      <td>['English']</td>\n",
       "      <td>['English [Original],', 'Hindi']</td>\n",
       "    </tr>\n",
       "    <tr>\n",
       "      <th>333</th>\n",
       "      <td>Stuart Little</td>\n",
       "      <td>1999</td>\n",
       "      <td>U/A 7+</td>\n",
       "      <td>1h 24m</td>\n",
       "      <td>When his parents adopt a mouse instead of a li...</td>\n",
       "      <td>['Family Features', 'US Movies', 'Movies Based...</td>\n",
       "      <td>Heartfelt</td>\n",
       "      <td>['Michael J. Fox', 'Jonathan Lipnicki', 'Geena...</td>\n",
       "      <td>['English,', 'English,', 'Hindi']</td>\n",
       "      <td>['English [Original],', 'Hindi']</td>\n",
       "    </tr>\n",
       "    <tr>\n",
       "      <th>206</th>\n",
       "      <td>Stuart Little</td>\n",
       "      <td>1999</td>\n",
       "      <td>U/A 7+</td>\n",
       "      <td>1h 24m</td>\n",
       "      <td>When his parents adopt a mouse instead of a li...</td>\n",
       "      <td>['Family Features', 'US Movies', 'Movies Based...</td>\n",
       "      <td>Heartfelt</td>\n",
       "      <td>['Michael J. Fox', 'Jonathan Lipnicki', 'Geena...</td>\n",
       "      <td>['English,', 'English,', 'Hindi']</td>\n",
       "      <td>['English [Original],', 'Hindi']</td>\n",
       "    </tr>\n",
       "    <tr>\n",
       "      <th>84</th>\n",
       "      <td>Stuart Little</td>\n",
       "      <td>1999</td>\n",
       "      <td>U/A 7+</td>\n",
       "      <td>1h 24m</td>\n",
       "      <td>When his parents adopt a mouse instead of a li...</td>\n",
       "      <td>['Family Features', 'US Movies', 'Movies Based...</td>\n",
       "      <td>Heartfelt</td>\n",
       "      <td>['Michael J. Fox', 'Jonathan Lipnicki', 'Geena...</td>\n",
       "      <td>['English,', 'English,', 'Hindi']</td>\n",
       "      <td>['English [Original],', 'Hindi']</td>\n",
       "    </tr>\n",
       "  </tbody>\n",
       "</table>\n",
       "<p>517 rows × 10 columns</p>\n",
       "</div>"
      ],
      "text/plain": [
       "                         names  release_year maturity_rating duration  \\\n",
       "0                Mission Majnu          2023        U/A 16+     2h 9m   \n",
       "182  Nanpakal Nerathu Mayakkam          2023        U/A 13+    1h 47m   \n",
       "503            We Have a Ghost          2023        U/A 13+     2h 7m   \n",
       "529  Nanpakal Nerathu Mayakkam          2023        U/A 13+    1h 47m   \n",
       "230            We Have a Ghost          2023        U/A 13+     2h 7m   \n",
       "..                         ...           ...             ...      ...   \n",
       "75           Jurassic Park III          2001        U/A 16+    1h 32m   \n",
       "291          Final Destination          2000              A    1h 37m   \n",
       "333              Stuart Little          1999         U/A 7+    1h 24m   \n",
       "206              Stuart Little          1999         U/A 7+    1h 24m   \n",
       "84               Stuart Little          1999         U/A 7+    1h 24m   \n",
       "\n",
       "                                           description  \\\n",
       "0    In the 1970s, an undercover Indian spy takes o...   \n",
       "182  In this Malayalam-Tamil drama, an irritable Ja...   \n",
       "503  After finding a ghost with a murky past haunti...   \n",
       "529  In this Malayalam-Tamil drama, an irritable Ja...   \n",
       "230  After finding a ghost with a murky past haunti...   \n",
       "..                                                 ...   \n",
       "75   An aerial tour of an infamous dinosaur island ...   \n",
       "291  After narrowly avoiding a fatal plane explosio...   \n",
       "333  When his parents adopt a mouse instead of a li...   \n",
       "206  When his parents adopt a mouse instead of a li...   \n",
       "84   When his parents adopt a mouse instead of a li...   \n",
       "\n",
       "                                                 genre         mood  \\\n",
       "0    ['Spy Movies', 'Hindi-Language Movies', 'Bolly...  Suspenseful   \n",
       "182                                         ['Dramas']     Intimate   \n",
       "503  ['Family Features', 'US Movies', 'Teen Movies'...    Heartfelt   \n",
       "529                                         ['Dramas']     Intimate   \n",
       "230  ['Family Features', 'US Movies', 'Teen Movies'...    Heartfelt   \n",
       "..                                                 ...          ...   \n",
       "75   ['Sci-Fi Movies', 'US Movies', 'Movies Based o...     Exciting   \n",
       "291                     ['US Movies', 'Horror Movies']        Scary   \n",
       "333  ['Family Features', 'US Movies', 'Movies Based...    Heartfelt   \n",
       "206  ['Family Features', 'US Movies', 'Movies Based...    Heartfelt   \n",
       "84   ['Family Features', 'US Movies', 'Movies Based...    Heartfelt   \n",
       "\n",
       "                                                  cast  \\\n",
       "0    ['Sidharth Malhotra', 'Rashmika Mandanna', 'Pa...   \n",
       "182  ['Mammootty', 'Ramya Suvi', 'Ramya Pandian', '...   \n",
       "503  ['David Harbour', 'Anthony Mackie', \"Jahi Di'A...   \n",
       "529  ['Mammootty', 'Ramya Suvi', 'Ramya Pandian', '...   \n",
       "230  ['David Harbour', 'Anthony Mackie', \"Jahi Di'A...   \n",
       "..                                                 ...   \n",
       "75   ['Sam Neill', 'Téa Leoni', 'William H. Macy', ...   \n",
       "291  ['Devon Sawa', 'Ali Larter', 'Seann William Sc...   \n",
       "333  ['Michael J. Fox', 'Jonathan Lipnicki', 'Geena...   \n",
       "206  ['Michael J. Fox', 'Jonathan Lipnicki', 'Geena...   \n",
       "84   ['Michael J. Fox', 'Jonathan Lipnicki', 'Geena...   \n",
       "\n",
       "                             subtitles  \\\n",
       "0    ['English,', 'English,', 'Hindi']   \n",
       "182                        ['English']   \n",
       "503                        ['English']   \n",
       "529                        ['English']   \n",
       "230                        ['English']   \n",
       "..                                 ...   \n",
       "75               ['English,', 'Hindi']   \n",
       "291                        ['English']   \n",
       "333  ['English,', 'English,', 'Hindi']   \n",
       "206  ['English,', 'English,', 'Hindi']   \n",
       "84   ['English,', 'English,', 'Hindi']   \n",
       "\n",
       "                                                 audio  \n",
       "0    ['English,', 'Hindi - Audio Description,', 'Hi...  \n",
       "182      ['Hindi,', 'Malayalam [Original],', 'Telugu']  \n",
       "503  ['English - Audio Description,', 'English [Ori...  \n",
       "529      ['Hindi,', 'Malayalam [Original],', 'Telugu']  \n",
       "230  ['English - Audio Description,', 'English [Ori...  \n",
       "..                                                 ...  \n",
       "75   ['English - Audio Description,', 'English [Ori...  \n",
       "291                   ['English [Original],', 'Hindi']  \n",
       "333                   ['English [Original],', 'Hindi']  \n",
       "206                   ['English [Original],', 'Hindi']  \n",
       "84                    ['English [Original],', 'Hindi']  \n",
       "\n",
       "[517 rows x 10 columns]"
      ]
     },
     "execution_count": 16,
     "metadata": {},
     "output_type": "execute_result"
    }
   ],
   "source": [
    "netflix_data_sorted_years = netflix_data.sort_values(by = 'release_year', axis=0, ascending=False)\n",
    "netflix_data_sorted_years"
   ]
  },
  {
   "cell_type": "code",
   "execution_count": 17,
   "metadata": {},
   "outputs": [
    {
     "data": {
      "application/vnd.plotly.v1+json": {
       "config": {
        "plotlyServerURL": "https://plot.ly"
       },
       "data": [
        {
         "alignmentgroup": "True",
         "hovertemplate": "Year=%{x}<br>Count per Year=%{y}<br>color=%{marker.color}<extra></extra>",
         "legendgroup": "",
         "marker": {
          "color": [
           2023,
           2022,
           2019,
           2021,
           2012,
           2006,
           2018,
           2009,
           2011,
           2013,
           2015,
           2004,
           2010,
           2007,
           2014,
           2016,
           2020,
           2017,
           2001,
           1999,
           2005,
           2008,
           2003,
           2000
          ],
          "coloraxis": "coloraxis",
          "pattern": {
           "shape": ""
          }
         },
         "name": "",
         "offsetgroup": "",
         "orientation": "v",
         "showlegend": false,
         "textposition": "auto",
         "type": "bar",
         "x": [
          2023,
          2022,
          2019,
          2021,
          2012,
          2006,
          2018,
          2009,
          2011,
          2013,
          2015,
          2004,
          2010,
          2007,
          2014,
          2016,
          2020,
          2017,
          2001,
          1999,
          2005,
          2008,
          2003,
          2000
         ],
         "xaxis": "x",
         "y": [
          142,
          56,
          35,
          32,
          30,
          27,
          20,
          20,
          19,
          14,
          13,
          13,
          12,
          12,
          12,
          11,
          11,
          11,
          9,
          9,
          3,
          3,
          2,
          1
         ],
         "yaxis": "y"
        }
       ],
       "layout": {
        "barmode": "relative",
        "coloraxis": {
         "colorbar": {
          "title": {
           "text": "color"
          }
         },
         "colorscale": [
          [
           0,
           "#0d0887"
          ],
          [
           0.1111111111111111,
           "#46039f"
          ],
          [
           0.2222222222222222,
           "#7201a8"
          ],
          [
           0.3333333333333333,
           "#9c179e"
          ],
          [
           0.4444444444444444,
           "#bd3786"
          ],
          [
           0.5555555555555556,
           "#d8576b"
          ],
          [
           0.6666666666666666,
           "#ed7953"
          ],
          [
           0.7777777777777778,
           "#fb9f3a"
          ],
          [
           0.8888888888888888,
           "#fdca26"
          ],
          [
           1,
           "#f0f921"
          ]
         ]
        },
        "legend": {
         "tracegroupgap": 0
        },
        "template": {
         "data": {
          "bar": [
           {
            "error_x": {
             "color": "#2a3f5f"
            },
            "error_y": {
             "color": "#2a3f5f"
            },
            "marker": {
             "line": {
              "color": "#E5ECF6",
              "width": 0.5
             },
             "pattern": {
              "fillmode": "overlay",
              "size": 10,
              "solidity": 0.2
             }
            },
            "type": "bar"
           }
          ],
          "barpolar": [
           {
            "marker": {
             "line": {
              "color": "#E5ECF6",
              "width": 0.5
             },
             "pattern": {
              "fillmode": "overlay",
              "size": 10,
              "solidity": 0.2
             }
            },
            "type": "barpolar"
           }
          ],
          "carpet": [
           {
            "aaxis": {
             "endlinecolor": "#2a3f5f",
             "gridcolor": "white",
             "linecolor": "white",
             "minorgridcolor": "white",
             "startlinecolor": "#2a3f5f"
            },
            "baxis": {
             "endlinecolor": "#2a3f5f",
             "gridcolor": "white",
             "linecolor": "white",
             "minorgridcolor": "white",
             "startlinecolor": "#2a3f5f"
            },
            "type": "carpet"
           }
          ],
          "choropleth": [
           {
            "colorbar": {
             "outlinewidth": 0,
             "ticks": ""
            },
            "type": "choropleth"
           }
          ],
          "contour": [
           {
            "colorbar": {
             "outlinewidth": 0,
             "ticks": ""
            },
            "colorscale": [
             [
              0,
              "#0d0887"
             ],
             [
              0.1111111111111111,
              "#46039f"
             ],
             [
              0.2222222222222222,
              "#7201a8"
             ],
             [
              0.3333333333333333,
              "#9c179e"
             ],
             [
              0.4444444444444444,
              "#bd3786"
             ],
             [
              0.5555555555555556,
              "#d8576b"
             ],
             [
              0.6666666666666666,
              "#ed7953"
             ],
             [
              0.7777777777777778,
              "#fb9f3a"
             ],
             [
              0.8888888888888888,
              "#fdca26"
             ],
             [
              1,
              "#f0f921"
             ]
            ],
            "type": "contour"
           }
          ],
          "contourcarpet": [
           {
            "colorbar": {
             "outlinewidth": 0,
             "ticks": ""
            },
            "type": "contourcarpet"
           }
          ],
          "heatmap": [
           {
            "colorbar": {
             "outlinewidth": 0,
             "ticks": ""
            },
            "colorscale": [
             [
              0,
              "#0d0887"
             ],
             [
              0.1111111111111111,
              "#46039f"
             ],
             [
              0.2222222222222222,
              "#7201a8"
             ],
             [
              0.3333333333333333,
              "#9c179e"
             ],
             [
              0.4444444444444444,
              "#bd3786"
             ],
             [
              0.5555555555555556,
              "#d8576b"
             ],
             [
              0.6666666666666666,
              "#ed7953"
             ],
             [
              0.7777777777777778,
              "#fb9f3a"
             ],
             [
              0.8888888888888888,
              "#fdca26"
             ],
             [
              1,
              "#f0f921"
             ]
            ],
            "type": "heatmap"
           }
          ],
          "heatmapgl": [
           {
            "colorbar": {
             "outlinewidth": 0,
             "ticks": ""
            },
            "colorscale": [
             [
              0,
              "#0d0887"
             ],
             [
              0.1111111111111111,
              "#46039f"
             ],
             [
              0.2222222222222222,
              "#7201a8"
             ],
             [
              0.3333333333333333,
              "#9c179e"
             ],
             [
              0.4444444444444444,
              "#bd3786"
             ],
             [
              0.5555555555555556,
              "#d8576b"
             ],
             [
              0.6666666666666666,
              "#ed7953"
             ],
             [
              0.7777777777777778,
              "#fb9f3a"
             ],
             [
              0.8888888888888888,
              "#fdca26"
             ],
             [
              1,
              "#f0f921"
             ]
            ],
            "type": "heatmapgl"
           }
          ],
          "histogram": [
           {
            "marker": {
             "pattern": {
              "fillmode": "overlay",
              "size": 10,
              "solidity": 0.2
             }
            },
            "type": "histogram"
           }
          ],
          "histogram2d": [
           {
            "colorbar": {
             "outlinewidth": 0,
             "ticks": ""
            },
            "colorscale": [
             [
              0,
              "#0d0887"
             ],
             [
              0.1111111111111111,
              "#46039f"
             ],
             [
              0.2222222222222222,
              "#7201a8"
             ],
             [
              0.3333333333333333,
              "#9c179e"
             ],
             [
              0.4444444444444444,
              "#bd3786"
             ],
             [
              0.5555555555555556,
              "#d8576b"
             ],
             [
              0.6666666666666666,
              "#ed7953"
             ],
             [
              0.7777777777777778,
              "#fb9f3a"
             ],
             [
              0.8888888888888888,
              "#fdca26"
             ],
             [
              1,
              "#f0f921"
             ]
            ],
            "type": "histogram2d"
           }
          ],
          "histogram2dcontour": [
           {
            "colorbar": {
             "outlinewidth": 0,
             "ticks": ""
            },
            "colorscale": [
             [
              0,
              "#0d0887"
             ],
             [
              0.1111111111111111,
              "#46039f"
             ],
             [
              0.2222222222222222,
              "#7201a8"
             ],
             [
              0.3333333333333333,
              "#9c179e"
             ],
             [
              0.4444444444444444,
              "#bd3786"
             ],
             [
              0.5555555555555556,
              "#d8576b"
             ],
             [
              0.6666666666666666,
              "#ed7953"
             ],
             [
              0.7777777777777778,
              "#fb9f3a"
             ],
             [
              0.8888888888888888,
              "#fdca26"
             ],
             [
              1,
              "#f0f921"
             ]
            ],
            "type": "histogram2dcontour"
           }
          ],
          "mesh3d": [
           {
            "colorbar": {
             "outlinewidth": 0,
             "ticks": ""
            },
            "type": "mesh3d"
           }
          ],
          "parcoords": [
           {
            "line": {
             "colorbar": {
              "outlinewidth": 0,
              "ticks": ""
             }
            },
            "type": "parcoords"
           }
          ],
          "pie": [
           {
            "automargin": true,
            "type": "pie"
           }
          ],
          "scatter": [
           {
            "fillpattern": {
             "fillmode": "overlay",
             "size": 10,
             "solidity": 0.2
            },
            "type": "scatter"
           }
          ],
          "scatter3d": [
           {
            "line": {
             "colorbar": {
              "outlinewidth": 0,
              "ticks": ""
             }
            },
            "marker": {
             "colorbar": {
              "outlinewidth": 0,
              "ticks": ""
             }
            },
            "type": "scatter3d"
           }
          ],
          "scattercarpet": [
           {
            "marker": {
             "colorbar": {
              "outlinewidth": 0,
              "ticks": ""
             }
            },
            "type": "scattercarpet"
           }
          ],
          "scattergeo": [
           {
            "marker": {
             "colorbar": {
              "outlinewidth": 0,
              "ticks": ""
             }
            },
            "type": "scattergeo"
           }
          ],
          "scattergl": [
           {
            "marker": {
             "colorbar": {
              "outlinewidth": 0,
              "ticks": ""
             }
            },
            "type": "scattergl"
           }
          ],
          "scattermapbox": [
           {
            "marker": {
             "colorbar": {
              "outlinewidth": 0,
              "ticks": ""
             }
            },
            "type": "scattermapbox"
           }
          ],
          "scatterpolar": [
           {
            "marker": {
             "colorbar": {
              "outlinewidth": 0,
              "ticks": ""
             }
            },
            "type": "scatterpolar"
           }
          ],
          "scatterpolargl": [
           {
            "marker": {
             "colorbar": {
              "outlinewidth": 0,
              "ticks": ""
             }
            },
            "type": "scatterpolargl"
           }
          ],
          "scatterternary": [
           {
            "marker": {
             "colorbar": {
              "outlinewidth": 0,
              "ticks": ""
             }
            },
            "type": "scatterternary"
           }
          ],
          "surface": [
           {
            "colorbar": {
             "outlinewidth": 0,
             "ticks": ""
            },
            "colorscale": [
             [
              0,
              "#0d0887"
             ],
             [
              0.1111111111111111,
              "#46039f"
             ],
             [
              0.2222222222222222,
              "#7201a8"
             ],
             [
              0.3333333333333333,
              "#9c179e"
             ],
             [
              0.4444444444444444,
              "#bd3786"
             ],
             [
              0.5555555555555556,
              "#d8576b"
             ],
             [
              0.6666666666666666,
              "#ed7953"
             ],
             [
              0.7777777777777778,
              "#fb9f3a"
             ],
             [
              0.8888888888888888,
              "#fdca26"
             ],
             [
              1,
              "#f0f921"
             ]
            ],
            "type": "surface"
           }
          ],
          "table": [
           {
            "cells": {
             "fill": {
              "color": "#EBF0F8"
             },
             "line": {
              "color": "white"
             }
            },
            "header": {
             "fill": {
              "color": "#C8D4E3"
             },
             "line": {
              "color": "white"
             }
            },
            "type": "table"
           }
          ]
         },
         "layout": {
          "annotationdefaults": {
           "arrowcolor": "#2a3f5f",
           "arrowhead": 0,
           "arrowwidth": 1
          },
          "autotypenumbers": "strict",
          "coloraxis": {
           "colorbar": {
            "outlinewidth": 0,
            "ticks": ""
           }
          },
          "colorscale": {
           "diverging": [
            [
             0,
             "#8e0152"
            ],
            [
             0.1,
             "#c51b7d"
            ],
            [
             0.2,
             "#de77ae"
            ],
            [
             0.3,
             "#f1b6da"
            ],
            [
             0.4,
             "#fde0ef"
            ],
            [
             0.5,
             "#f7f7f7"
            ],
            [
             0.6,
             "#e6f5d0"
            ],
            [
             0.7,
             "#b8e186"
            ],
            [
             0.8,
             "#7fbc41"
            ],
            [
             0.9,
             "#4d9221"
            ],
            [
             1,
             "#276419"
            ]
           ],
           "sequential": [
            [
             0,
             "#0d0887"
            ],
            [
             0.1111111111111111,
             "#46039f"
            ],
            [
             0.2222222222222222,
             "#7201a8"
            ],
            [
             0.3333333333333333,
             "#9c179e"
            ],
            [
             0.4444444444444444,
             "#bd3786"
            ],
            [
             0.5555555555555556,
             "#d8576b"
            ],
            [
             0.6666666666666666,
             "#ed7953"
            ],
            [
             0.7777777777777778,
             "#fb9f3a"
            ],
            [
             0.8888888888888888,
             "#fdca26"
            ],
            [
             1,
             "#f0f921"
            ]
           ],
           "sequentialminus": [
            [
             0,
             "#0d0887"
            ],
            [
             0.1111111111111111,
             "#46039f"
            ],
            [
             0.2222222222222222,
             "#7201a8"
            ],
            [
             0.3333333333333333,
             "#9c179e"
            ],
            [
             0.4444444444444444,
             "#bd3786"
            ],
            [
             0.5555555555555556,
             "#d8576b"
            ],
            [
             0.6666666666666666,
             "#ed7953"
            ],
            [
             0.7777777777777778,
             "#fb9f3a"
            ],
            [
             0.8888888888888888,
             "#fdca26"
            ],
            [
             1,
             "#f0f921"
            ]
           ]
          },
          "colorway": [
           "#636efa",
           "#EF553B",
           "#00cc96",
           "#ab63fa",
           "#FFA15A",
           "#19d3f3",
           "#FF6692",
           "#B6E880",
           "#FF97FF",
           "#FECB52"
          ],
          "font": {
           "color": "#2a3f5f"
          },
          "geo": {
           "bgcolor": "white",
           "lakecolor": "white",
           "landcolor": "#E5ECF6",
           "showlakes": true,
           "showland": true,
           "subunitcolor": "white"
          },
          "hoverlabel": {
           "align": "left"
          },
          "hovermode": "closest",
          "mapbox": {
           "style": "light"
          },
          "paper_bgcolor": "white",
          "plot_bgcolor": "#E5ECF6",
          "polar": {
           "angularaxis": {
            "gridcolor": "white",
            "linecolor": "white",
            "ticks": ""
           },
           "bgcolor": "#E5ECF6",
           "radialaxis": {
            "gridcolor": "white",
            "linecolor": "white",
            "ticks": ""
           }
          },
          "scene": {
           "xaxis": {
            "backgroundcolor": "#E5ECF6",
            "gridcolor": "white",
            "gridwidth": 2,
            "linecolor": "white",
            "showbackground": true,
            "ticks": "",
            "zerolinecolor": "white"
           },
           "yaxis": {
            "backgroundcolor": "#E5ECF6",
            "gridcolor": "white",
            "gridwidth": 2,
            "linecolor": "white",
            "showbackground": true,
            "ticks": "",
            "zerolinecolor": "white"
           },
           "zaxis": {
            "backgroundcolor": "#E5ECF6",
            "gridcolor": "white",
            "gridwidth": 2,
            "linecolor": "white",
            "showbackground": true,
            "ticks": "",
            "zerolinecolor": "white"
           }
          },
          "shapedefaults": {
           "line": {
            "color": "#2a3f5f"
           }
          },
          "ternary": {
           "aaxis": {
            "gridcolor": "white",
            "linecolor": "white",
            "ticks": ""
           },
           "baxis": {
            "gridcolor": "white",
            "linecolor": "white",
            "ticks": ""
           },
           "bgcolor": "#E5ECF6",
           "caxis": {
            "gridcolor": "white",
            "linecolor": "white",
            "ticks": ""
           }
          },
          "title": {
           "x": 0.05
          },
          "xaxis": {
           "automargin": true,
           "gridcolor": "white",
           "linecolor": "white",
           "ticks": "",
           "title": {
            "standoff": 15
           },
           "zerolinecolor": "white",
           "zerolinewidth": 2
          },
          "yaxis": {
           "automargin": true,
           "gridcolor": "white",
           "linecolor": "white",
           "ticks": "",
           "title": {
            "standoff": 15
           },
           "zerolinecolor": "white",
           "zerolinewidth": 2
          }
         }
        },
        "title": {
         "text": "Number of Netflix Shows Released Per Year"
        },
        "xaxis": {
         "anchor": "y",
         "domain": [
          0,
          1
         ],
         "title": {
          "text": "Year"
         }
        },
        "yaxis": {
         "anchor": "x",
         "domain": [
          0,
          1
         ],
         "title": {
          "text": "Count per Year"
         }
        }
       }
      }
     },
     "metadata": {},
     "output_type": "display_data"
    }
   ],
   "source": [
    "year = netflix_data['release_year'].unique()\n",
    "# print(year)\n",
    "count_per_year = netflix_data['release_year'].value_counts()\n",
    "# print(count_per_year)\n",
    "\n",
    "fig = px.bar(y =count_per_year, x=year, \n",
    "             orientation='v', color=year, \n",
    "             title='Number of Netflix Shows Released Per Year',\n",
    "             labels={'x': 'Year', 'y': 'Count per Year'}\n",
    "            )\n",
    "fig.show()\n"
   ]
  },
  {
   "attachments": {},
   "cell_type": "markdown",
   "metadata": {},
   "source": [
    "<h1>Recommend Shows based on Genre</h1>"
   ]
  },
  {
   "cell_type": "code",
   "execution_count": 181,
   "metadata": {},
   "outputs": [
    {
     "data": {
      "text/html": [
       "<div>\n",
       "<style scoped>\n",
       "    .dataframe tbody tr th:only-of-type {\n",
       "        vertical-align: middle;\n",
       "    }\n",
       "\n",
       "    .dataframe tbody tr th {\n",
       "        vertical-align: top;\n",
       "    }\n",
       "\n",
       "    .dataframe thead th {\n",
       "        text-align: right;\n",
       "    }\n",
       "</style>\n",
       "<table border=\"1\" class=\"dataframe\">\n",
       "  <thead>\n",
       "    <tr style=\"text-align: right;\">\n",
       "      <th></th>\n",
       "      <th>names</th>\n",
       "      <th>cast</th>\n",
       "      <th>genre</th>\n",
       "    </tr>\n",
       "  </thead>\n",
       "  <tbody>\n",
       "    <tr>\n",
       "      <th>0</th>\n",
       "      <td>Mission Majnu</td>\n",
       "      <td>['Sidharth Malhotra', 'Rashmika Mandanna', 'Pa...</td>\n",
       "      <td>['Spy Movies', 'Hindi-Language Movies', 'Bolly...</td>\n",
       "    </tr>\n",
       "    <tr>\n",
       "      <th>1</th>\n",
       "      <td>Cirkus</td>\n",
       "      <td>['Ranveer Singh', 'Varun Sharma', 'Pooja Hegde...</td>\n",
       "      <td>['Hindi-Language Movies', 'Bollywood Movies', ...</td>\n",
       "    </tr>\n",
       "    <tr>\n",
       "      <th>2</th>\n",
       "      <td>Gangubai Kathiawadi</td>\n",
       "      <td>['Alia Bhatt', 'Vijay Raaz', 'Seema Pahwa', 'A...</td>\n",
       "      <td>['Hindi-Language Movies', 'Movies Based on Boo...</td>\n",
       "    </tr>\n",
       "    <tr>\n",
       "      <th>3</th>\n",
       "      <td>Thunivu</td>\n",
       "      <td>['Ajith Kumar', 'Manju Warrier', 'Samuthirakan...</td>\n",
       "      <td>['Crime Movies', 'Action &amp; Adventure']</td>\n",
       "    </tr>\n",
       "    <tr>\n",
       "      <th>4</th>\n",
       "      <td>Bhool Bhulaiyaa 2</td>\n",
       "      <td>['Tabu', 'Kartik Aaryan', 'Kiara Advani', 'Raj...</td>\n",
       "      <td>['Hindi-Language Movies', 'Bollywood Movies', ...</td>\n",
       "    </tr>\n",
       "  </tbody>\n",
       "</table>\n",
       "</div>"
      ],
      "text/plain": [
       "                 names                                               cast  \\\n",
       "0        Mission Majnu  ['Sidharth Malhotra', 'Rashmika Mandanna', 'Pa...   \n",
       "1               Cirkus  ['Ranveer Singh', 'Varun Sharma', 'Pooja Hegde...   \n",
       "2  Gangubai Kathiawadi  ['Alia Bhatt', 'Vijay Raaz', 'Seema Pahwa', 'A...   \n",
       "3              Thunivu  ['Ajith Kumar', 'Manju Warrier', 'Samuthirakan...   \n",
       "4    Bhool Bhulaiyaa 2  ['Tabu', 'Kartik Aaryan', 'Kiara Advani', 'Raj...   \n",
       "\n",
       "                                               genre  \n",
       "0  ['Spy Movies', 'Hindi-Language Movies', 'Bolly...  \n",
       "1  ['Hindi-Language Movies', 'Bollywood Movies', ...  \n",
       "2  ['Hindi-Language Movies', 'Movies Based on Boo...  \n",
       "3             ['Crime Movies', 'Action & Adventure']  \n",
       "4  ['Hindi-Language Movies', 'Bollywood Movies', ...  "
      ]
     },
     "execution_count": 181,
     "metadata": {},
     "output_type": "execute_result"
    }
   ],
   "source": [
    "#Decide which features to use to do recommendation\n",
    "\n",
    "reco_df= netflix_data[['names', 'cast', 'genre']]\n",
    "reco_df.head()"
   ]
  },
  {
   "cell_type": "code",
   "execution_count": 182,
   "metadata": {},
   "outputs": [
    {
     "data": {
      "text/html": [
       "<div>\n",
       "<style scoped>\n",
       "    .dataframe tbody tr th:only-of-type {\n",
       "        vertical-align: middle;\n",
       "    }\n",
       "\n",
       "    .dataframe tbody tr th {\n",
       "        vertical-align: top;\n",
       "    }\n",
       "\n",
       "    .dataframe thead th {\n",
       "        text-align: right;\n",
       "    }\n",
       "</style>\n",
       "<table border=\"1\" class=\"dataframe\">\n",
       "  <thead>\n",
       "    <tr style=\"text-align: right;\">\n",
       "      <th></th>\n",
       "      <th>names</th>\n",
       "    </tr>\n",
       "  </thead>\n",
       "  <tbody>\n",
       "    <tr>\n",
       "      <th>0</th>\n",
       "      <td>Mission Majnu</td>\n",
       "    </tr>\n",
       "    <tr>\n",
       "      <th>1</th>\n",
       "      <td>Cirkus</td>\n",
       "    </tr>\n",
       "    <tr>\n",
       "      <th>2</th>\n",
       "      <td>Gangubai Kathiawadi</td>\n",
       "    </tr>\n",
       "    <tr>\n",
       "      <th>3</th>\n",
       "      <td>Thunivu</td>\n",
       "    </tr>\n",
       "    <tr>\n",
       "      <th>4</th>\n",
       "      <td>Bhool Bhulaiyaa 2</td>\n",
       "    </tr>\n",
       "    <tr>\n",
       "      <th>...</th>\n",
       "      <td>...</td>\n",
       "    </tr>\n",
       "    <tr>\n",
       "      <th>538</th>\n",
       "      <td>Taare Zameen Par</td>\n",
       "    </tr>\n",
       "    <tr>\n",
       "      <th>539</th>\n",
       "      <td>18 Pages</td>\n",
       "    </tr>\n",
       "    <tr>\n",
       "      <th>550</th>\n",
       "      <td>Kung-Fu Kings 4: The Challenge of Kung Fu Brot...</td>\n",
       "    </tr>\n",
       "    <tr>\n",
       "      <th>553</th>\n",
       "      <td>Haseen Dillruba</td>\n",
       "    </tr>\n",
       "    <tr>\n",
       "      <th>559</th>\n",
       "      <td>Kabhi Khushi Kabhie Gham</td>\n",
       "    </tr>\n",
       "  </tbody>\n",
       "</table>\n",
       "<p>225 rows × 1 columns</p>\n",
       "</div>"
      ],
      "text/plain": [
       "                                                 names\n",
       "0                                        Mission Majnu\n",
       "1                                               Cirkus\n",
       "2                                  Gangubai Kathiawadi\n",
       "3                                              Thunivu\n",
       "4                                    Bhool Bhulaiyaa 2\n",
       "..                                                 ...\n",
       "538                                   Taare Zameen Par\n",
       "539                                           18 Pages\n",
       "550  Kung-Fu Kings 4: The Challenge of Kung Fu Brot...\n",
       "553                                    Haseen Dillruba\n",
       "559                           Kabhi Khushi Kabhie Gham\n",
       "\n",
       "[225 rows x 1 columns]"
      ]
     },
     "execution_count": 182,
     "metadata": {},
     "output_type": "execute_result"
    }
   ],
   "source": [
    "# reco_df.iloc[0]['genre']\n",
    "reco_df[['names']]"
   ]
  },
  {
   "cell_type": "code",
   "execution_count": 183,
   "metadata": {},
   "outputs": [
    {
     "data": {
      "text/plain": [
       "0    ['Sidharth Malhotra', 'Rashmika Mandanna', 'Pa...\n",
       "1    ['Ranveer Singh', 'Varun Sharma', 'Pooja Hegde...\n",
       "2    ['Alia Bhatt', 'Vijay Raaz', 'Seema Pahwa', 'A...\n",
       "3    ['Ajith Kumar', 'Manju Warrier', 'Samuthirakan...\n",
       "4    ['Tabu', 'Kartik Aaryan', 'Kiara Advani', 'Raj...\n",
       "Name: cast, dtype: object"
      ]
     },
     "execution_count": 183,
     "metadata": {},
     "output_type": "execute_result"
    }
   ],
   "source": [
    "#Suggest a Similar Content based on certain actress\n",
    "reco_df['cast'].head()\n"
   ]
  },
  {
   "cell_type": "code",
   "execution_count": 184,
   "metadata": {},
   "outputs": [
    {
     "name": "stdout",
     "output_type": "stream",
     "text": [
      "names                                        Mission Majnu\n",
      "cast     [sidharthmalhotra, rashmikamandanna, parmeetse...\n",
      "genre    ['Spy Movies', 'Hindi-Language Movies', 'Bolly...\n",
      "Name: 0, dtype: object\n",
      "names                                               Cirkus\n",
      "cast     [ranveersingh, varunsharma, poojahegde, jacque...\n",
      "genre    ['Hindi-Language Movies', 'Bollywood Movies', ...\n",
      "Name: 1, dtype: object\n",
      "names                                  Gangubai Kathiawadi\n",
      "cast     [aliabhatt, vijayraaz, seemapahwa, ajaydevgn, ...\n",
      "genre    ['Hindi-Language Movies', 'Movies Based on Boo...\n",
      "Name: 2, dtype: object\n",
      "names                                              Thunivu\n",
      "cast     [ajithkumar, manjuwarrier, samuthirakani, john...\n",
      "genre               ['Crime Movies', 'Action & Adventure']\n",
      "Name: 3, dtype: object\n",
      "names                                    Bhool Bhulaiyaa 2\n",
      "cast     [tabu, kartikaaryan, kiaraadvani, rajpalyadav,...\n",
      "genre    ['Hindi-Language Movies', 'Bollywood Movies', ...\n",
      "Name: 4, dtype: object\n",
      "names                                             Doctor G\n",
      "cast     [ayushmannkhurrana, rakulpreetsingh, sheebacha...\n",
      "genre    ['Hindi-Language Movies', 'Bollywood Movies', ...\n",
      "Name: 5, dtype: object\n",
      "names                                            Double XL\n",
      "cast     [sonakshisinha, humaqureshi, zaheeriqbal, maha...\n",
      "genre    ['Hindi-Language Movies', 'Bollywood Movies', ...\n",
      "Name: 6, dtype: object\n",
      "names                                          Kabir Singh\n",
      "cast     [shahidkapoor, kiaraadvani, sureshoberoi, arja...\n",
      "genre    ['Hindi-Language Movies', 'Bollywood Movies', ...\n",
      "Name: 7, dtype: object\n",
      "names                                         Sooryavanshi\n",
      "cast     ['Akshay Kumar', 'Katrina Kaif', 'Abhimanyu Si...\n",
      "genre    ['Hindi-Language Movies', 'Bollywood Movies', ...\n",
      "Name: 9, dtype: object\n",
      "names                              The Elephant Whisperers\n",
      "cast                                                    []\n",
      "genre    ['Documentaries', 'Science & Nature Docs', 'Na...\n",
      "Name: 10, dtype: object\n",
      "names                                      Kantara (Hindi)\n",
      "cast     ['Rishab Shetty', 'Kishore Kumar G.', 'Achyuth...\n",
      "genre                               ['Action & Adventure']\n",
      "Name: 11, dtype: object\n",
      "names                                  Student of the Year\n",
      "cast     ['Sidharth Malhotra', 'Alia Bhatt', 'Varun Dha...\n",
      "genre    ['Romantic Comedies', 'Hindi-Language Movies',...\n",
      "Name: 12, dtype: object\n",
      "names                                      Phir Hera Pheri\n",
      "cast     ['Akshay Kumar', 'Sunil Shetty', 'Paresh Rawal...\n",
      "genre    ['Hindi-Language Movies', 'Bollywood Movies', ...\n",
      "Name: 13, dtype: object\n",
      "names                                       An Action Hero\n",
      "cast     ['Ayushmann Khurrana', 'Jaideep Ahlawat', 'Nee...\n",
      "genre    ['Hindi-Language Movies', 'Bollywood Movies', ...\n",
      "Name: 14, dtype: object\n",
      "names                                              Goodbye\n",
      "cast     ['Amitabh Bachchan', 'Rashmika Mandanna', 'Nee...\n",
      "genre    ['Hindi-Language Movies', 'Bollywood Movies', ...\n",
      "Name: 15, dtype: object\n",
      "names                                            Honeymoon\n",
      "cast     ['Gippy Grewal', 'Jasmin Bhasin', 'Nirmal Rish...\n",
      "genre                                         ['Comedies']\n",
      "Name: 16, dtype: object\n",
      "names                                     CBI 5: The Brain\n",
      "cast     ['Mammootty', 'Soubin Shahir', 'Jagathy Sreeku...\n",
      "genre    ['Mysteries', 'Crime Movies', 'Dramas', 'Thril...\n",
      "Name: 17, dtype: object\n",
      "names                                         Chup Chup Ke\n",
      "cast     ['Kareena Kapoor', 'Shahid Kapoor', 'Paresh Ra...\n",
      "genre    ['Romantic Comedies', 'Hindi-Language Movies',...\n",
      "Name: 18, dtype: object\n",
      "names                                          RRR (Hindi)\n",
      "cast     ['NTR Jr.', 'Ram Charan', 'Ajay Devgn', 'Alia ...\n",
      "genre                     ['Action & Adventure', 'Dramas']\n",
      "Name: 19, dtype: object\n",
      "names                                         Lust Stories\n",
      "cast     ['Vicky Kaushal', 'Bhumi Pednekar', 'Radhika A...\n",
      "genre    ['Romantic Comedies', 'Hindi-Language Movies',...\n",
      "Name: 20, dtype: object\n",
      "names                             Chhota Bheem aur Krishna\n",
      "cast     ['Vatsal Dubey', 'Julie Tejwani', 'Rupa Bhiman...\n",
      "genre    ['Hindi-Language Movies', 'Children & Family M...\n",
      "Name: 21, dtype: object\n",
      "names                                                Don 2\n",
      "cast     ['Shah Rukh Khan', 'Priyanka Chopra Jonas', 'B...\n",
      "genre    ['Hindi-Language Movies', 'Bollywood Movies', ...\n",
      "Name: 22, dtype: object\n",
      "names                                      Chennai Express\n",
      "cast     ['Shah Rukh Khan', 'Deepika Padukone', 'Nikiti...\n",
      "genre    ['Romantic Comedies', 'Hindi-Language Movies',...\n",
      "Name: 23, dtype: object\n",
      "names                                          Skater Girl\n",
      "cast     ['Rachel Saanchita Gupta', 'Amy Maghera', 'Sha...\n",
      "genre    ['Family Features', 'Children & Family Movies'...\n",
      "Name: 24, dtype: object\n",
      "names                                              Dilwale\n",
      "cast     ['Shah Rukh Khan', 'Kajol', 'Varun Dhawan', 'K...\n",
      "genre    ['Hindi-Language Movies', 'Bollywood Movies', ...\n",
      "Name: 25, dtype: object\n",
      "names                                               Jersey\n",
      "cast     ['Shahid Kapoor', 'Mrunal Thakur', 'Pankaj Kap...\n",
      "genre    ['Hindi-Language Movies', 'Bollywood Movies', ...\n",
      "Name: 26, dtype: object\n",
      "names                                        Chillar Party\n",
      "cast     ['Irfan Khan', 'Raju', 'Sanath Menon', 'Rohan ...\n",
      "genre    ['Family Features', 'Hindi-Language Movies', '...\n",
      "Name: 27, dtype: object\n",
      "names                                         Main Hoon Na\n",
      "cast     ['Shah Rukh Khan', 'Sunil Shetty', 'Sushmita S...\n",
      "genre    ['Romantic Comedies', 'Hindi-Language Movies',...\n",
      "Name: 28, dtype: object\n",
      "names                                                 Mili\n",
      "cast     ['Janhvi Kapoor', 'Sunny Kaushal', 'Manoj Pahw...\n",
      "genre    ['Hindi-Language Movies', 'Bollywood Movies', ...\n",
      "Name: 29, dtype: object\n",
      "names                                       Shabaash Mithu\n",
      "cast     ['Taapsee Pannu', 'Vijay Raaz', 'Geeta Agrawal...\n",
      "genre    ['Movies Based on Real Life', 'Hindi-Language ...\n",
      "Name: 30, dtype: object\n",
      "names                                             Darlings\n",
      "cast     ['Alia Bhatt', 'Shefali Shah', 'Vijay Varma', ...\n",
      "genre    ['Hindi-Language Movies', 'Bollywood Movies', ...\n",
      "Name: 31, dtype: object\n",
      "names                                                 Vadh\n",
      "cast     ['Sanjay Mishra', 'Neena Gupta', 'Manav Vij', ...\n",
      "genre    ['Hindi-Language Movies', 'Crime Movies', 'Dra...\n",
      "Name: 32, dtype: object\n",
      "names                                             3 Idiots\n",
      "cast     ['Aamir Khan', 'Kareena Kapoor', 'Madhavan', '...\n",
      "genre    ['Hindi-Language Movies', 'Movies Based on Boo...\n",
      "Name: 33, dtype: object\n",
      "names    Chhota Bheem & Krishna: Pataliputra- City of t...\n",
      "cast     ['Vatsal Dubey', 'Julie Tejwani', 'Rupa Bhiman...\n",
      "genre    ['Hindi-Language Movies', 'Children & Family M...\n",
      "Name: 34, dtype: object\n",
      "names                                           Jab We Met\n",
      "cast     ['Shahid Kapoor', 'Kareena Kapoor', 'Tarun Aro...\n",
      "genre    ['Romantic Comedies', 'Hindi-Language Movies',...\n",
      "Name: 35, dtype: object\n",
      "names                            Nanpakal Nerathu Mayakkam\n",
      "cast     ['Mammootty', 'Ramya Suvi', 'Ramya Pandian', '...\n",
      "genre                                           ['Dramas']\n",
      "Name: 36, dtype: object\n",
      "names                                     Toolsidas Junior\n",
      "cast     ['Sanjay Dutt', 'Varun Buddhadev', 'Rajiv Kapo...\n",
      "genre    ['Family Features', 'Hindi-Language Movies', '...\n",
      "Name: 37, dtype: object\n",
      "names                             Zindagi Na Milegi Dobara\n",
      "cast     ['Hrithik Roshan', 'Abhay Deol', 'Farhan Akhta...\n",
      "genre    ['Romantic Comedies', 'Hindi-Language Movies',...\n",
      "Name: 38, dtype: object\n",
      "names                            Motu Patlu: Kung Fu Kings\n",
      "cast     ['Saurav Chakraborty', 'Shailendra Pandey', 'S...\n",
      "genre    ['Martial Arts Movies', 'Hindi-Language Movies...\n",
      "Name: 39, dtype: object\n",
      "names                       Guillermo del Toro’s Pinocchio\n",
      "cast     ['Ewan McGregor', 'David Bradley', 'Gregory Ma...\n",
      "genre    ['Family Features', 'US Movies', 'Movies Based...\n",
      "Name: 40, dtype: object\n",
      "names                                 The Legend of Tarzan\n",
      "cast     ['Alexander Skarsgård', 'Samuel L. Jackson', '...\n",
      "genre    ['US Movies', 'Period Pieces', 'Movies Based o...\n",
      "Name: 41, dtype: object\n",
      "names                                           Red Notice\n",
      "cast     ['Dwayne Johnson', 'Ryan Reynolds', 'Gal Gadot...\n",
      "genre    ['US Movies', 'Crime Movies', 'Action & Advent...\n",
      "Name: 42, dtype: object\n",
      "names                                       Knight and Day\n",
      "cast     ['Tom Cruise', 'Cameron Diaz', 'Peter Sarsgaar...\n",
      "genre    ['Romantic Comedies', 'Spy Movies', 'US Movies...\n",
      "Name: 43, dtype: object\n",
      "names                                            Uncharted\n",
      "cast     ['Tom Holland', 'Mark Wahlberg', 'Antonio Band...\n",
      "genre                  ['US Movies', 'Action & Adventure']\n",
      "Name: 44, dtype: object\n",
      "names                                                Troll\n",
      "cast     ['Ine Marie Wilmann', 'Kim Falck', 'Mads Sjøgå...\n",
      "genre                               ['Action & Adventure']\n",
      "Name: 45, dtype: object\n",
      "names                    Spider-Man: Into the Spider-Verse\n",
      "cast     ['Shameik Moore', 'Jake Johnson', 'Hailee Stei...\n",
      "genre      ['US Movies', 'Action & Adventure', 'Comedies']\n",
      "Name: 46, dtype: object\n",
      "names                                    Wonder Woman 1984\n",
      "cast     ['Gal Gadot', 'Chris Pine', 'Kristen Wiig', 'P...\n",
      "genre                  ['US Movies', 'Action & Adventure']\n",
      "Name: 48, dtype: object\n",
      "names                                    Godzilla vs. Kong\n",
      "cast     ['Alexander Skarsgård', 'Millie Bobby Brown', ...\n",
      "genre    ['Sci-Fi Movies', 'US Movies', 'Action & Adven...\n",
      "Name: 49, dtype: object\n",
      "names                                            The Mummy\n",
      "cast     ['Tom Cruise', 'Annabelle Wallis', 'Sofia Bout...\n",
      "genre                  ['US Movies', 'Action & Adventure']\n",
      "Name: 50, dtype: object\n",
      "names                               300: Rise of an Empire\n",
      "cast     ['Sullivan Stapleton', 'Eva Green', 'Lena Head...\n",
      "genre    ['Movies Based on Real Life', 'US Movies', 'Ac...\n",
      "Name: 51, dtype: object\n",
      "names                                      Against The Ice\n",
      "cast     ['Nikolaj Coster-Waldau', 'Joe Cole', 'Heida R...\n",
      "genre    ['Movies Based on Real Life', 'Period Pieces',...\n",
      "Name: 52, dtype: object\n",
      "names                                        Mortal Kombat\n",
      "cast     ['Lewis Tan', 'Jessica McNamee', 'Josh Lawson'...\n",
      "genre    ['Martial Arts Movies', 'US Movies', 'Action &...\n",
      "Name: 53, dtype: object\n",
      "names                         Snake Eyes: G.I. Joe Origins\n",
      "cast     ['Henry Golding', 'Andrew Koji', 'Úrsula Corbe...\n",
      "genre    ['Sci-Fi Movies', 'US Movies', 'Action & Adven...\n",
      "Name: 54, dtype: object\n",
      "names                          Venom: Let There Be Carnage\n",
      "cast     ['Tom Hardy', 'Woody Harrelson', 'Michelle Wil...\n",
      "genre    ['Sci-Fi Movies', 'US Movies', 'Action & Adven...\n",
      "Name: 55, dtype: object\n",
      "names                                        Gods of Egypt\n",
      "cast     ['Nikolaj Coster-Waldau', 'Brenton Thwaites', ...\n",
      "genre                  ['US Movies', 'Action & Adventure']\n",
      "Name: 56, dtype: object\n",
      "names                                       Jurassic World\n",
      "cast     ['Chris Pratt', 'Bryce Dallas Howard', \"Vincen...\n",
      "genre    ['Sci-Fi Movies', 'US Movies', 'Action & Adven...\n",
      "Name: 57, dtype: object\n",
      "names                                   The Last Airbender\n",
      "cast     ['Noah Ringer', 'Dev Patel', 'Nicola Peltz', '...\n",
      "genre    ['Sci-Fi Movies', 'Family Features', 'US Movie...\n",
      "Name: 58, dtype: object\n",
      "names                     Journey 2: The Mysterious Island\n",
      "cast     ['Dwayne Johnson', 'Josh Hutcherson', 'Michael...\n",
      "genre    ['Family Features', 'US Movies', 'Movies Based...\n",
      "Name: 59, dtype: object\n",
      "names                         Mowgli: Legend of the Jungle\n",
      "cast     ['Christian Bale', 'Cate Blanchett', 'Benedict...\n",
      "genre    ['Family Features', 'Movies Based on Books', '...\n",
      "Name: 60, dtype: object\n",
      "names                   Batman v Superman: Dawn of Justice\n",
      "cast     ['Ben Affleck', 'Henry Cavill', 'Amy Adams', '...\n",
      "genre    ['Sci-Fi Movies', 'US Movies', 'Action & Adven...\n",
      "Name: 61, dtype: object\n",
      "names                                        Minnal Murali\n",
      "cast     ['Tovino Thomas', 'Guru Somasundaram', 'Aju Va...\n",
      "genre         ['Action & Adventure', 'Comedies', 'Dramas']\n",
      "Name: 62, dtype: object\n",
      "names                                     A Dog's Way Home\n",
      "cast     ['Ben Ratner', 'Jonah Hauer-King', 'Spencer Dr...\n",
      "genre    ['Family Features', 'Movies Based on Real Life...\n",
      "Name: 63, dtype: object\n",
      "names                              Jumanji: The Next Level\n",
      "cast     ['Dwayne Johnson', 'Jack Black', 'Kevin Hart',...\n",
      "genre    ['Family Features', 'US Movies', 'Movies Based...\n",
      "Name: 64, dtype: object\n",
      "names                                      Indoo Ki Jawani\n",
      "cast     ['Kiara Advani', 'Aditya Seal', 'Mallika Dua',...\n",
      "genre    ['Romantic Comedies', 'Hindi-Language Movies',...\n",
      "Name: 65, dtype: object\n",
      "names                                G.I. Joe: Retaliation\n",
      "cast     ['Dwayne Johnson', 'Channing Tatum', 'Lee Byun...\n",
      "genre    ['Sci-Fi Movies', 'US Movies', 'Action & Adven...\n",
      "Name: 66, dtype: object\n",
      "names                                        The Old Guard\n",
      "cast     ['Charlize Theron', 'KiKi Layne', 'Marwan Kenz...\n",
      "genre    ['US Movies', 'Movies Based on Books', 'Action...\n",
      "Name: 67, dtype: object\n",
      "names             Anacondas: The Hunt for the Blood Orchid\n",
      "cast     ['Johnny Messner', 'KaDee Strickland', 'Matthe...\n",
      "genre    ['US Movies', 'Action & Adventure', 'Horror Mo...\n",
      "Name: 69, dtype: object\n",
      "names                                            Bumblebee\n",
      "cast     ['Hailee Steinfeld', 'John Cena', 'Jorge Lende...\n",
      "genre    ['Sci-Fi Movies', 'US Movies', 'Action & Adven...\n",
      "Name: 70, dtype: object\n",
      "names                                       Enola Holmes 2\n",
      "cast     ['Millie Bobby Brown', 'Henry Cavill', 'David ...\n",
      "genre    ['Mysteries', 'Family Features', 'US Movies', ...\n",
      "Name: 71, dtype: object\n",
      "names                                Jack the Giant Slayer\n",
      "cast     ['Nicholas Hoult', 'Eleanor Tomlinson', 'Ewan ...\n",
      "genre    ['US Movies', 'Action & Adventure', 'Romantic ...\n",
      "Name: 72, dtype: object\n",
      "names          Baahubali 2: The Conclusion (Hindi Version)\n",
      "cast     ['Prabhas', 'Rana Daggubati', 'Anushka Shetty'...\n",
      "genre    ['Hindi-Language Movies', 'Action & Adventure'...\n",
      "Name: 73, dtype: object\n",
      "names                                   Terminator Genisys\n",
      "cast     ['Arnold Schwarzenegger', 'Jason Clarke', 'Emi...\n",
      "genre    ['Sci-Fi Movies', 'US Movies', 'Action & Adven...\n",
      "Name: 74, dtype: object\n",
      "names                                    Jurassic Park III\n",
      "cast     ['Sam Neill', 'Téa Leoni', 'William H. Macy', ...\n",
      "genre    ['Sci-Fi Movies', 'US Movies', 'Movies Based o...\n",
      "Name: 75, dtype: object\n",
      "names                                             Warcraft\n",
      "cast     ['Travis Fimmel', 'Paula Patton', 'Ben Foster'...\n",
      "genre    ['Sci-Fi Movies', 'US Movies', 'Action & Adven...\n",
      "Name: 76, dtype: object\n",
      "names                                             47 Ronin\n",
      "cast     ['Keanu Reeves', 'Hiroyuki Sanada', 'Ko Shibas...\n",
      "genre                  ['US Movies', 'Action & Adventure']\n",
      "Name: 78, dtype: object\n",
      "names                 The Pirates: The Last Royal Treasure\n",
      "cast     ['Kang Ha-neul', 'Han Hyo-joo', 'Lee Kwang-soo...\n",
      "genre                   ['Action & Adventure', 'Comedies']\n",
      "Name: 79, dtype: object\n",
      "names                                        The Boss Baby\n",
      "cast     ['Alec Baldwin', 'Lisa Kudrow', 'Jimmy Kimmel'...\n",
      "genre    ['Spy Movies', 'Family Features', 'US Movies',...\n",
      "Name: 80, dtype: object\n",
      "names                                The Croods: A New Age\n",
      "cast     ['Nicolas Cage', 'Emma Stone', 'Ryan Reynolds'...\n",
      "genre    ['Family Features', 'US Movies', 'Children & F...\n",
      "Name: 81, dtype: object\n",
      "names                                        Tom and Jerry\n",
      "cast     ['Chloë Grace Moretz', 'Michael Peña', 'Colin ...\n",
      "genre    ['Family Features', 'US Movies', 'Children & F...\n",
      "Name: 82, dtype: object\n",
      "names                                   Sonic the Hedgehog\n",
      "cast     ['James Marsden', 'Jim Carrey', 'Ben Schwartz'...\n",
      "genre    ['Family Features', 'US Movies', 'Children & F...\n",
      "Name: 83, dtype: object\n",
      "names                                        Stuart Little\n",
      "cast     ['Michael J. Fox', 'Jonathan Lipnicki', 'Geena...\n",
      "genre    ['Family Features', 'US Movies', 'Movies Based...\n",
      "Name: 84, dtype: object\n",
      "names                                Lyle, Lyle, Crocodile\n",
      "cast     ['Javier Bardem', 'Constance Wu', 'Shawn Mende...\n",
      "genre    ['Family Features', 'US Movies', 'Movies Based...\n",
      "Name: 86, dtype: object\n",
      "names                                        Puss in Boots\n",
      "cast     ['Antonio Banderas', 'Salma Hayek', 'Zach Gali...\n",
      "genre    ['Family Features', 'US Movies', 'Children & F...\n",
      "Name: 87, dtype: object\n",
      "names                                           Madagascar\n",
      "cast     ['Ben Stiller', 'Chris Rock', 'David Schwimmer...\n",
      "genre    ['Family Features', 'US Movies', 'Children & F...\n",
      "Name: 88, dtype: object\n",
      "names                                        Monster House\n",
      "cast     ['Mitchel Musso', 'Sam Lerner', 'Spencer Locke...\n",
      "genre    ['Mysteries', 'Family Features', 'US Movies', ...\n",
      "Name: 89, dtype: object\n",
      "names                    Charlie and the Chocolate Factory\n",
      "cast     ['Johnny Depp', 'Freddie Highmore', 'David Kel...\n",
      "genre    ['Family Features', 'US Movies', 'Movies Based...\n",
      "Name: 90, dtype: object\n",
      "names                Hotel Transylvania 3: Summer Vacation\n",
      "cast     ['Adam Sandler', 'Selena Gomez', 'Kevin James'...\n",
      "genre    ['Family Features', 'US Movies', 'Children & F...\n",
      "Name: 91, dtype: object\n",
      "names                                           The Croods\n",
      "cast     ['Nicolas Cage', 'Emma Stone', 'Ryan Reynolds'...\n",
      "genre    ['Family Features', 'US Movies', 'Children & F...\n",
      "Name: 92, dtype: object\n",
      "names                                               Scoob!\n",
      "cast     ['Will Forte', 'Mark Wahlberg', 'Zac Efron', '...\n",
      "genre    ['Mysteries', 'Family Features', 'US Movies', ...\n",
      "Name: 93, dtype: object\n",
      "names                                        Kung Fu Panda\n",
      "cast     ['Jack Black', 'Dustin Hoffman', 'Angelina Jol...\n",
      "genre    ['Martial Arts Movies', 'Family Features', 'US...\n",
      "Name: 94, dtype: object\n",
      "names                                 Hotel Transylvania 2\n",
      "cast     ['Adam Sandler', 'Andy Samberg', 'Selena Gomez...\n",
      "genre    ['Family Features', 'US Movies', 'Children & F...\n",
      "Name: 96, dtype: object\n",
      "names                                      Kung Fu Panda 2\n",
      "cast     ['Jack Black', 'Angelina Jolie', 'Dustin Hoffm...\n",
      "genre    ['Martial Arts Movies', 'Family Features', 'US...\n",
      "Name: 97, dtype: object\n",
      "names                                     We Can Be Heroes\n",
      "cast     ['YaYa Gosselin', 'Pedro Pascal', 'Priyanka Ch...\n",
      "genre    ['Family Features', 'US Movies', 'Children & F...\n",
      "Name: 98, dtype: object\n",
      "names                                The Angry Birds Movie\n",
      "cast     ['Jason Sudeikis', 'Josh Gad', 'Danny McBride'...\n",
      "genre    ['Family Features', 'US Movies', 'Children & F...\n",
      "Name: 99, dtype: object\n",
      "names                              Space Jam: A New Legacy\n",
      "cast     ['LeBron James', 'Don Cheadle', 'Khris Davis',...\n",
      "genre    ['Family Features', 'US Movies', 'Children & F...\n",
      "Name: 100, dtype: object\n",
      "names                                       Finding ‘Ohana\n",
      "cast     ['Kea Peahu', 'Alex Aiono', 'Lindsay Watson', ...\n",
      "genre    ['Family Features', 'US Movies', 'Children & F...\n",
      "Name: 101, dtype: object\n",
      "names                                      Son of the Mask\n",
      "cast     ['Jamie Kennedy', 'Alan Cumming', 'Liam Falcon...\n",
      "genre         ['Family Features', 'US Movies', 'Comedies']\n",
      "Name: 102, dtype: object\n",
      "names                                  The Royal Treatment\n",
      "cast     ['Laura Marano', 'Mena Massoud', 'Chelsie Pres...\n",
      "genre    ['Romantic Comedies', 'Family Features', 'US M...\n",
      "Name: 103, dtype: object\n",
      "names                                                Shrek\n",
      "cast     ['Mike Myers', 'Eddie Murphy', 'Cameron Diaz',...\n",
      "genre    ['Family Features', 'US Movies', 'Movies Based...\n",
      "Name: 104, dtype: object\n",
      "names                              Minions & More Volume 2\n",
      "cast     ['Pierre Coffin', 'Reese Witherspoon', 'Jenny ...\n",
      "genre    ['Family Features', 'US Movies', 'Children & F...\n",
      "Name: 107, dtype: object\n",
      "names               The SpongeBob Movie: Sponge on the Run\n",
      "cast     ['Tom Kenny', 'Bill Fagerbakke', 'Rodger Bumpa...\n",
      "genre    ['Family Features', 'US Movies', 'Children & F...\n",
      "Name: 108, dtype: object\n",
      "names                          Madagascar: Escape 2 Africa\n",
      "cast     ['Ben Stiller', 'Chris Rock', 'David Schwimmer...\n",
      "genre    ['Family Features', 'US Movies', 'Children & F...\n",
      "Name: 109, dtype: object\n",
      "names                   Madagascar 3: Europe's Most Wanted\n",
      "cast     ['Ben Stiller', 'Chris Rock', 'David Schwimmer...\n",
      "genre    ['Family Features', 'US Movies', 'Children & F...\n",
      "Name: 111, dtype: object\n",
      "names                                                Rango\n",
      "cast     ['Johnny Depp', 'Isla Fisher', 'Abigail Bresli...\n",
      "genre    ['Family Features', 'US Movies', 'Westerns', '...\n",
      "Name: 112, dtype: object\n",
      "names                                                Dasvi\n",
      "cast     ['Abhishek Bachchan', 'Yami Gautam', 'Nimrat K...\n",
      "genre    ['Family Features', 'Hindi-Language Movies', '...\n",
      "Name: 113, dtype: object\n",
      "names                  Cloudy with a Chance of Meatballs 2\n",
      "cast     ['Bill Hader', 'Anna Faris', 'James Caan', 'Wi...\n",
      "genre    ['Family Features', 'US Movies', 'Movies Based...\n",
      "Name: 114, dtype: object\n",
      "names                                Johnny English Reborn\n",
      "cast     ['Rowan Atkinson', 'Dominic West', 'Gillian An...\n",
      "genre    ['Spy Movies', 'Family Features', 'Action & Ad...\n",
      "Name: 116, dtype: object\n",
      "names                              Minions & More Volume 1\n",
      "cast     ['Pierre Coffin', 'Miranda Cosgrove', 'Dana Ga...\n",
      "genre         ['Family Features', 'US Movies', 'Comedies']\n",
      "Name: 117, dtype: object\n",
      "names                              Ghostbusters: Afterlife\n",
      "cast     ['Carrie Coon', 'Finn Wolfhard', 'Paul Rudd', ...\n",
      "genre    ['Sci-Fi Movies', 'Family Features', 'US Movie...\n",
      "Name: 118, dtype: object\n",
      "names                                          The Witches\n",
      "cast     ['Anne Hathaway', 'Octavia Spencer', 'Stanley ...\n",
      "genre    ['Family Features', 'US Movies', 'Movies Based...\n",
      "Name: 119, dtype: object\n",
      "names                                          Interceptor\n",
      "cast     ['Elsa Pataky', 'Luke Bracey', 'Aaron Glenane'...\n",
      "genre                               ['Action & Adventure']\n",
      "Name: 120, dtype: object\n",
      "names                                    GodFather (Hindi)\n",
      "cast     ['Chiranjeevi', 'Salman Khan', 'Nayanthara', '...\n",
      "genre     ['Crime Movies', 'Action & Adventure', 'Dramas']\n",
      "Name: 121, dtype: object\n",
      "names                                        6 Underground\n",
      "cast     ['Ryan Reynolds', 'Mélanie Laurent', 'Corey Ha...\n",
      "genre                  ['US Movies', 'Action & Adventure']\n",
      "Name: 124, dtype: object\n",
      "names                                               Malang\n",
      "cast     ['Anil Kapoor', 'Aditya Roy Kapur', 'Disha Pat...\n",
      "genre    ['Hindi-Language Movies', 'Bollywood Movies', ...\n",
      "Name: 127, dtype: object\n",
      "names                                         Wrath of Man\n",
      "cast     ['Jason Statham', 'Holt McCallany', 'Jeffrey D...\n",
      "genre    ['US Movies', 'Crime Movies', 'Action & Advent...\n",
      "Name: 128, dtype: object\n",
      "names                                           Extraction\n",
      "cast     ['Chris Hemsworth', 'Rudhraksh Jaiswal', 'Rand...\n",
      "genre    ['US Movies', 'Movies Based on Books', 'Action...\n",
      "Name: 129, dtype: object\n",
      "names                                                Mosul\n",
      "cast     ['Suhail Dabbach', 'Adam Bessa', \"Is'haq Elias...\n",
      "genre    ['Movies Based on Real Life', 'Action & Advent...\n",
      "Name: 130, dtype: object\n",
      "names                                     White House Down\n",
      "cast     ['Channing Tatum', 'Jamie Foxx', 'Maggie Gylle...\n",
      "genre                  ['US Movies', 'Action & Adventure']\n",
      "Name: 132, dtype: object\n",
      "names                                               Wanted\n",
      "cast     ['James McAvoy', 'Angelina Jolie', 'Morgan Fre...\n",
      "genre    ['US Movies', 'Crime Movies', 'Action & Advent...\n",
      "Name: 133, dtype: object\n",
      "names                   Mission: Impossible - Rogue Nation\n",
      "cast     ['Tom Cruise', 'Jeremy Renner', 'Ving Rhames',...\n",
      "genre    ['Spy Movies', 'US Movies', 'Action & Adventure']\n",
      "Name: 134, dtype: object\n",
      "names                                      The Italian Job\n",
      "cast     ['Mark Wahlberg', 'Charlize Theron', 'Edward N...\n",
      "genre    ['US Movies', 'Crime Movies', 'Action & Advent...\n",
      "Name: 135, dtype: object\n",
      "names                               The Night Comes for Us\n",
      "cast     ['Joe Taslim', 'Iko Uwais', 'Asha Kenyeri Berm...\n",
      "genre    ['Martial Arts Movies', 'Crime Movies', 'Actio...\n",
      "Name: 136, dtype: object\n",
      "names                        Mission: Impossible - Fallout\n",
      "cast     ['Tom Cruise', 'Henry Cavill', 'Ving Rhames', ...\n",
      "genre    ['Spy Movies', 'US Movies', 'Action & Adventure']\n",
      "Name: 138, dtype: object\n",
      "names                                      The Equalizer 2\n",
      "cast     ['Denzel Washington', 'Pedro Pascal', 'Ashton ...\n",
      "genre    ['US Movies', 'Crime Movies', 'Action & Advent...\n",
      "Name: 140, dtype: object\n",
      "names                                                 Lucy\n",
      "cast     ['Scarlett Johansson', 'Morgan Freeman', 'Choi...\n",
      "genre              ['Sci-Fi Movies', 'Action & Adventure']\n",
      "Name: 141, dtype: object\n",
      "names                                                Saaho\n",
      "cast     ['Prabhas', 'Shraddha Kapoor', 'Jackie Shroff'...\n",
      "genre    ['Hindi-Language Movies', 'Bollywood Movies', ...\n",
      "Name: 142, dtype: object\n",
      "names                                               Baaghi\n",
      "cast     ['Tiger Shroff', 'Shraddha Kapoor', 'Sudheer B...\n",
      "genre    ['Martial Arts Movies', 'Hindi-Language Movies...\n",
      "Name: 143, dtype: object\n",
      "names                                             Blackhat\n",
      "cast     ['Chris Hemsworth', 'Wang Leehom', 'Tang Wei',...\n",
      "genre        ['US Movies', 'Action & Adventure', 'Dramas']\n",
      "Name: 144, dtype: object\n",
      "names                                               ATHENA\n",
      "cast     ['Dali Benssalah', 'Sami Slimane', 'Anthony Ba...\n",
      "genre                     ['Action & Adventure', 'Dramas']\n",
      "Name: 146, dtype: object\n",
      "names                                       Gabbar Is Back\n",
      "cast     ['Akshay Kumar', 'Shruthi Haasan', 'Sunil Grov...\n",
      "genre    ['Hindi-Language Movies', 'Bollywood Movies', ...\n",
      "Name: 149, dtype: object\n",
      "names                                      Kalagathalaivan\n",
      "cast     ['Udhayanidhi Stalin', 'Nidhhi Agerwal', 'Kala...\n",
      "genre                               ['Action & Adventure']\n",
      "Name: 150, dtype: object\n",
      "names                                            Miss Bala\n",
      "cast     ['Gina Rodriguez', 'Ismael Cruz Cordova', 'Mat...\n",
      "genre    ['US Movies', 'Crime Movies', 'Action & Advent...\n",
      "Name: 151, dtype: object\n",
      "names                                              Force 2\n",
      "cast     ['John Abraham', 'Sonakshi Sinha', 'Tahir Raj ...\n",
      "genre    ['Spy Movies', 'Hindi-Language Movies', 'Bolly...\n",
      "Name: 153, dtype: object\n",
      "names                                                Tenet\n",
      "cast     ['John David Washington', 'Robert Pattinson', ...\n",
      "genre    ['Spy Movies', 'Sci-Fi Movies', 'Action & Adve...\n",
      "Name: 154, dtype: object\n",
      "names                                    Codename: Tiranga\n",
      "cast     ['Parineeti Chopra', 'Harrdy Sandhu', 'Sharad ...\n",
      "genre    ['Spy Movies', 'Hindi-Language Movies', 'Bolly...\n",
      "Name: 155, dtype: object\n",
      "names                 Mission: Impossible - Ghost Protocol\n",
      "cast     ['Tom Cruise', 'Jeremy Renner', 'Simon Pegg', ...\n",
      "genre    ['Spy Movies', 'US Movies', 'Action & Adventure']\n",
      "Name: 156, dtype: object\n",
      "names                          Jack Reacher: Never Go Back\n",
      "cast     ['Tom Cruise', 'Cobie Smulders', 'Aldis Hodge'...\n",
      "genre    ['US Movies', 'Movies Based on Books', 'Crime ...\n",
      "Name: 157, dtype: object\n",
      "names                                    Bad Boys for Life\n",
      "cast     ['Will Smith', 'Martin Lawrence', 'Vanessa Hud...\n",
      "genre    ['US Movies', 'Crime Movies', 'Action & Advent...\n",
      "Name: 158, dtype: object\n",
      "names               Mumbai Mafia: Police vs The Underworld\n",
      "cast                                                    []\n",
      "genre    ['Documentaries', 'True Crime Documentaries', ...\n",
      "Name: 161, dtype: object\n",
      "names                                   Ek Villain Returns\n",
      "cast     ['John Abraham', 'Arjun Kapoor', 'Disha Patani...\n",
      "genre    ['Hindi-Language Movies', 'Bollywood Movies', ...\n",
      "Name: 162, dtype: object\n",
      "names                                          DSP (Hindi)\n",
      "cast     ['Vijay Sethupathi', 'Anukreethy Vas', 'Prabha...\n",
      "genre    ['Crime Movies', 'Action & Adventure', 'Comedi...\n",
      "Name: 166, dtype: object\n",
      "names                                          Slumberland\n",
      "cast     ['Jason Momoa', 'Marlow Barkley', \"Chris O'Dow...\n",
      "genre    ['Family Features', 'US Movies', 'Children & F...\n",
      "Name: 168, dtype: object\n",
      "names                                        The Sea Beast\n",
      "cast     ['Karl Urban', 'Zaris-Angel Hator', 'Jared Har...\n",
      "genre    ['Family Features', 'US Movies', 'Children & F...\n",
      "Name: 169, dtype: object\n",
      "names                              Lady Chatterley's Lover\n",
      "cast     ['Emma Corrin', \"Jack O'Connell\", 'Matthew Duc...\n",
      "genre    ['US Movies', 'Period Pieces', 'Movies Based o...\n",
      "Name: 170, dtype: object\n",
      "names                                                  Don\n",
      "cast     ['Sivakarthikeyan', 'S. J. Suryah', 'Samuthira...\n",
      "genre                               ['Comedies', 'Dramas']\n",
      "Name: 171, dtype: object\n",
      "names                                          Thallumaala\n",
      "cast     ['Tovino Thomas', 'Kalyani Priyadarshan', 'Shi...\n",
      "genre                   ['Action & Adventure', 'Comedies']\n",
      "Name: 174, dtype: object\n",
      "names                                      Call Me Chihiro\n",
      "cast     ['Kasumi Arimura', 'Hana Toyoshima', 'Tetta Sh...\n",
      "genre                                           ['Dramas']\n",
      "Name: 175, dtype: object\n",
      "names                            The Soccer Football Movie\n",
      "cast     ['Zlatan Ibrahimović', 'Megan Rapinoe', 'Weird...\n",
      "genre    ['US Movies', 'Children & Family Movies', 'Com...\n",
      "Name: 178, dtype: object\n",
      "names                                           The Strays\n",
      "cast     ['Ashley Madekwe', 'Jorden Myrie', 'Bukky Bakr...\n",
      "genre                        ['Dramas', 'Thriller Movies']\n",
      "Name: 179, dtype: object\n",
      "names                                      We Have a Ghost\n",
      "cast     ['David Harbour', 'Anthony Mackie', \"Jahi Di'A...\n",
      "genre    ['Family Features', 'US Movies', 'Teen Movies'...\n",
      "Name: 181, dtype: object\n",
      "names                                 An Inconvenient Love\n",
      "cast     ['Belle Mariano', 'Donny Pangilinan', 'JC Alca...\n",
      "genre    ['Romantic Comedies', 'Comedies', 'Romantic Mo...\n",
      "Name: 187, dtype: object\n",
      "names                       All Quiet on the Western Front\n",
      "cast     ['Felix Kammerer', 'Albrecht Schuch', 'Aaron H...\n",
      "genre    ['Period Pieces', 'Movies Based on Books', 'Dr...\n",
      "Name: 189, dtype: object\n",
      "names                                       Major (Telugu)\n",
      "cast     ['Adivi Sesh', 'Prakash Raj', 'Sobhita Dhulipa...\n",
      "genre    ['Movies Based on Real Life', 'Action & Advent...\n",
      "Name: 191, dtype: object\n",
      "names                     Roald Dahl's Matilda The Musical\n",
      "cast     ['Alisha Weir', 'Emma Thompson', 'Lashana Lync...\n",
      "genre    ['Family Features', 'US Movies', 'Movies Based...\n",
      "Name: 192, dtype: object\n",
      "names                                             Dog Gone\n",
      "cast     ['Rob Lowe', 'Johnny Berchtold', 'Kimberly Wil...\n",
      "genre    ['Family Features', 'Movies Based on Real Life...\n",
      "Name: 193, dtype: object\n",
      "names                                  HIT: The First Case\n",
      "cast     ['Rajkummar Rao', 'Sanya Malhotra', 'Dalip Tah...\n",
      "genre    ['Hindi-Language Movies', 'Bollywood Movies', ...\n",
      "Name: 194, dtype: object\n",
      "names                                        Purple Hearts\n",
      "cast     ['Sofia Carson', 'Nicholas Galitzine', 'Chosen...\n",
      "genre    ['Music', 'US Movies', 'Dramas', 'Romantic Mov...\n",
      "Name: 196, dtype: object\n",
      "names                                           Love Today\n",
      "cast     ['Pradeep Ranganathan', 'Ivana', 'Yogi Babu', ...\n",
      "genre    ['Romantic Comedies', 'Comedies', 'Dramas', 'R...\n",
      "Name: 197, dtype: object\n",
      "names                                         The Dictator\n",
      "cast     ['Sacha Baron Cohen', 'Anna Faris', 'Ben Kings...\n",
      "genre                            ['US Movies', 'Comedies']\n",
      "Name: 200, dtype: object\n",
      "names                              Yeh Jawaani Hai Deewani\n",
      "cast     ['Ranbir Kapoor', 'Deepika Padukone', 'Aditya ...\n",
      "genre    ['Romantic Comedies', 'Hindi-Language Movies',...\n",
      "Name: 224, dtype: object\n",
      "names                                         Dear Zindagi\n",
      "cast     ['Alia Bhatt', 'Shah Rukh Khan', 'Ira Dubey', ...\n",
      "genre    ['Hindi-Language Movies', 'Bollywood Movies', ...\n",
      "Name: 225, dtype: object\n",
      "names                      Goosebumps 2: Haunted Halloween\n",
      "cast     ['Jeremy Ray Taylor', 'Madison Iseman', 'Calee...\n",
      "genre    ['Family Features', 'US Movies', 'Movies Based...\n",
      "Name: 226, dtype: object\n",
      "names                                              YES DAY\n",
      "cast     ['Jennifer Garner', 'Edgar Ramírez', 'Jenna Or...\n",
      "genre    ['Family Features', 'US Movies', 'Movies Based...\n",
      "Name: 228, dtype: object\n",
      "names                    Cloudy with a Chance of Meatballs\n",
      "cast     ['Bill Hader', 'Anna Faris', 'James Caan', 'An...\n",
      "genre    ['Family Features', 'US Movies', 'Movies Based...\n",
      "Name: 236, dtype: object\n",
      "names                                         Om Shanti Om\n",
      "cast     ['Shah Rukh Khan', 'Deepika Padukone', 'Shreya...\n",
      "genre    ['Romantic Comedies', 'Hindi-Language Movies',...\n",
      "Name: 238, dtype: object\n",
      "names                                          Rush Hour 3\n",
      "cast     ['Chris Tucker', 'Jackie Chan', 'Max von Sydow...\n",
      "genre    ['Martial Arts Movies', 'US Movies', 'Crime Mo...\n",
      "Name: 240, dtype: object\n",
      "names                                              Lakshya\n",
      "cast     ['Amitabh Bachchan', 'Hrithik Roshan', 'Preity...\n",
      "genre    ['Hindi-Language Movies', 'Bollywood Movies', ...\n",
      "Name: 245, dtype: object\n",
      "names                                         Jodhaa Akbar\n",
      "cast     ['Hrithik Roshan', 'Aishwarya Rai Bachchan', '...\n",
      "genre    ['Hindi-Language Movies', 'Period Pieces', 'Bo...\n",
      "Name: 260, dtype: object\n",
      "names                                       Sarkar (Tamil)\n",
      "cast     ['Vijay', 'Varalakshmi Sarathkumar', 'Keerthy ...\n",
      "genre                     ['Action & Adventure', 'Dramas']\n",
      "Name: 266, dtype: object\n",
      "names                              Spider-Man: No Way Home\n",
      "cast     ['Tom Holland', 'Zendaya', 'Benedict Cumberbat...\n",
      "genre    ['Sci-Fi Movies', 'Family Features', 'US Movie...\n",
      "Name: 275, dtype: object\n",
      "names                                               Mersal\n",
      "cast     ['Vijay', 'S.J. Surya', 'Kajal Aggarwal', 'Sam...\n",
      "genre                     ['Action & Adventure', 'Dramas']\n",
      "Name: 277, dtype: object\n",
      "names           Spider-Man: No Way Home (Extended Version)\n",
      "cast     ['Tom Holland', 'Zendaya', 'Benedict Cumberbat...\n",
      "genre    ['Sci-Fi Movies', 'Family Features', 'US Movie...\n",
      "Name: 279, dtype: object\n",
      "names                                          Escape Room\n",
      "cast     ['Taylor Russell', 'Logan Miller', 'Jay Ellis'...\n",
      "genre                       ['US Movies', 'Horror Movies']\n",
      "Name: 280, dtype: object\n",
      "names                                A Quiet Place Part II\n",
      "cast     ['Emily Blunt', 'Cillian Murphy', 'Millie Simm...\n",
      "genre                       ['US Movies', 'Horror Movies']\n",
      "Name: 281, dtype: object\n",
      "names                                       Now You See Me\n",
      "cast     ['Jesse Eisenberg', 'Mark Ruffalo', 'Woody Har...\n",
      "genre    ['Mysteries', 'US Movies', 'Crime Movies', 'Th...\n",
      "Name: 282, dtype: object\n",
      "names                                No One Gets Out Alive\n",
      "cast     ['Cristina Rodlo', 'Marc Menchaca', 'David Fig...\n",
      "genre    ['Mysteries', 'US Movies', 'Movies Based on Bo...\n",
      "Name: 283, dtype: object\n",
      "names                                          The Silence\n",
      "cast     ['Stanley Tucci', 'Kiernan Shipka', 'Miranda O...\n",
      "genre    ['US Movies', 'Movies Based on Books', 'Horror...\n",
      "Name: 285, dtype: object\n",
      "names                                             Dobaaraa\n",
      "cast     ['Taapsee Pannu', 'Pavail Gulati', 'Nassar', '...\n",
      "genre    ['Mysteries', 'Hindi-Language Movies', 'Bollyw...\n",
      "Name: 288, dtype: object\n",
      "names                                           Nightbooks\n",
      "cast     ['Winslow Fegley', 'Lidya Jewett', 'Krysten Ri...\n",
      "genre    ['Mysteries', 'Family Features', 'US Movies', ...\n",
      "Name: 289, dtype: object\n",
      "names                                       Cult of Chucky\n",
      "cast     ['Fiona Dourif', 'Michael Therriault', 'Adam H...\n",
      "genre                       ['US Movies', 'Horror Movies']\n",
      "Name: 290, dtype: object\n",
      "names                                    Final Destination\n",
      "cast     ['Devon Sawa', 'Ali Larter', 'Seann William Sc...\n",
      "genre                       ['US Movies', 'Horror Movies']\n",
      "Name: 291, dtype: object\n",
      "names                                             The Body\n",
      "cast     ['Rishi Kapoor', 'Emraan Hashmi', 'Sobhita Dhu...\n",
      "genre    ['Hindi-Language Movies', 'Bollywood Movies', ...\n",
      "Name: 292, dtype: object\n",
      "names                                              Get Out\n",
      "cast     ['Daniel Kaluuya', 'Allison Williams', 'Cather...\n",
      "genre    ['US Movies', 'Horror Movies', 'Independent Mo...\n",
      "Name: 293, dtype: object\n",
      "names               The Conjuring: The Devil Made Me Do It\n",
      "cast     ['Patrick Wilson', 'Vera Farmiga', \"Ruairí O'C...\n",
      "genre          ['Mysteries', 'US Movies', 'Horror Movies']\n",
      "Name: 295, dtype: object\n",
      "names                                              Ittefaq\n",
      "cast     ['Sidharth Malhotra', 'Sonakshi Sinha', 'Aksha...\n",
      "genre    ['Hindi-Language Movies', 'Bollywood Movies', ...\n",
      "Name: 300, dtype: object\n",
      "names                                        Don't Breathe\n",
      "cast     ['Jane Levy', 'Stephen Lang', 'Daniel Zovatto'...\n",
      "genre                       ['US Movies', 'Horror Movies']\n",
      "Name: 301, dtype: object\n",
      "names                                           The Guilty\n",
      "cast     ['Jake Gyllenhaal', 'Ethan Hawke', 'Riley Keou...\n",
      "genre    ['US Movies', 'Crime Movies', 'Dramas', 'Thril...\n",
      "Name: 303, dtype: object\n",
      "names                                        The Conjuring\n",
      "cast     ['Vera Farmiga', 'Patrick Wilson', 'Lili Taylo...\n",
      "genre                       ['US Movies', 'Horror Movies']\n",
      "Name: 306, dtype: object\n",
      "names                                       Shutter Island\n",
      "cast     ['Leonardo DiCaprio', 'Mark Ruffalo', 'Ben Kin...\n",
      "genre    ['Mysteries', 'US Movies', 'Movies Based on Bo...\n",
      "Name: 310, dtype: object\n",
      "names             The Twilight Saga: Breaking Dawn: Part 2\n",
      "cast     ['Kristen Stewart', 'Robert Pattinson', 'Taylo...\n",
      "genre    ['US Movies', 'Teen Movies', 'Movies Based on ...\n",
      "Name: 311, dtype: object\n",
      "names                                             Bird Box\n",
      "cast     ['Sandra Bullock', 'Trevante Rhodes', 'John Ma...\n",
      "genre    ['Sci-Fi Movies', 'US Movies', 'Movies Based o...\n",
      "Name: 312, dtype: object\n",
      "names                                        A Quiet Place\n",
      "cast     ['John Krasinski', 'Emily Blunt', 'Millie Simm...\n",
      "genre                       ['US Movies', 'Horror Movies']\n",
      "Name: 313, dtype: object\n",
      "names                                  Annabelle: Creation\n",
      "cast     ['Stephanie Sigman', 'Talitha Eliana Bateman',...\n",
      "genre                       ['US Movies', 'Horror Movies']\n",
      "Name: 315, dtype: object\n",
      "names                                      The Conjuring 2\n",
      "cast     ['Patrick Wilson', 'Vera Farmiga', 'Madison Wo...\n",
      "genre                       ['US Movies', 'Horror Movies']\n",
      "Name: 316, dtype: object\n",
      "names                                       The Good Nurse\n",
      "cast     ['Jessica Chastain', 'Eddie Redmayne', 'Nnamdi...\n",
      "genre    ['Movies Based on Real Life', 'US Movies', 'Mo...\n",
      "Name: 317, dtype: object\n",
      "names                                    The Da Vinci Code\n",
      "cast     ['Tom Hanks', 'Audrey Tautou', 'Ian McKellen',...\n",
      "genre    ['Mysteries', 'US Movies', 'Movies Based on Bo...\n",
      "Name: 318, dtype: object\n",
      "names                                       The Invitation\n",
      "cast     ['Nathalie Emmanuel', 'Thomas Doherty', 'Sean ...\n",
      "genre    ['US Movies', 'Thriller Movies', 'Horror Movies']\n",
      "Name: 319, dtype: object\n",
      "names             Pokémon the Movie: Secrets of the Jungle\n",
      "cast     ['Ikue Otani', 'Sarah Natochenny', 'Kimlinh Tr...\n",
      "genre    ['Family Features', 'Anime Features', 'Childre...\n",
      "Name: 320, dtype: object\n",
      "names                               STAND BY ME Doraemon 2\n",
      "cast     ['Wasabi Mizuta', 'Megumi Oohara', 'Yumi Kakaz...\n",
      "genre    ['Family Features', 'Anime Features', 'Childre...\n",
      "Name: 321, dtype: object\n",
      "names                   Chhota Bheem & Krishna: Mayanagari\n",
      "cast     ['Vatsal Dubey', 'Julie Tejwani', 'Rupa Bhiman...\n",
      "genre    ['Hindi-Language Movies', 'Children & Family M...\n",
      "Name: 322, dtype: object\n",
      "names                                    Shiva VS Autobots\n",
      "cast                                                    []\n",
      "genre    ['Hindi-Language Movies', 'Children & Family M...\n",
      "Name: 323, dtype: object\n",
      "names                   Keymon and Nani in Space Adventure\n",
      "cast                                                    []\n",
      "genre    ['Hindi-Language Movies', 'Children & Family M...\n",
      "Name: 325, dtype: object\n",
      "names                             Motu Patlu in Wonderland\n",
      "cast     ['Saurav Chakraborty', 'Omi Sharma', 'Sankalp'...\n",
      "genre    ['Hindi-Language Movies', 'Children & Family M...\n",
      "Name: 334, dtype: object\n",
      "names                    Chhota Bheem: The Rise of Kirmada\n",
      "cast     ['Vatsal Dubey', 'Julie Tejwani', 'Rupa Bhiman...\n",
      "genre    ['Hindi-Language Movies', 'Children & Family M...\n",
      "Name: 336, dtype: object\n",
      "names                      The SpongeBob SquarePants Movie\n",
      "cast     ['Tom Kenny', 'Clancy Brown', 'Rodger Bumpass'...\n",
      "genre    ['US Movies', 'Children & Family Movies', 'Com...\n",
      "Name: 338, dtype: object\n",
      "names                      Chhota Bheem: Master of Shaolin\n",
      "cast     ['Pooja Punabi', 'Mausam', 'Julie Tejwani', 'R...\n",
      "genre    ['Hindi-Language Movies', 'Children & Family M...\n",
      "Name: 342, dtype: object\n",
      "names                                       The Karate Kid\n",
      "cast     ['Jaden Smith', 'Jackie Chan', 'Taraji P. Hens...\n",
      "genre    ['Martial Arts Movies', 'Family Features', 'US...\n",
      "Name: 347, dtype: object\n",
      "names                                        Over the Moon\n",
      "cast     ['Cathy Ang', 'Phillipa Soo', 'Ken Jeong', 'Ro...\n",
      "genre    ['Family Features', 'US Movies', 'Children & F...\n",
      "Name: 355, dtype: object\n",
      "names                                 Fifty Shades of Grey\n",
      "cast     ['Dakota Johnson', 'Jamie Dornan', 'Jennifer E...\n",
      "genre    ['US Movies', 'Movies Based on Books', 'Dramas...\n",
      "Name: 361, dtype: object\n",
      "names                                    Jagame Thandhiram\n",
      "cast     ['Dhanush', 'Aishwarya Lekshmi', 'James Cosmo'...\n",
      "genre     ['Crime Movies', 'Action & Adventure', 'Dramas']\n",
      "Name: 373, dtype: object\n",
      "names                                 Central Intelligence\n",
      "cast     ['Kevin Hart', 'Dwayne Johnson', 'Amy Ryan', '...\n",
      "genre    ['Spy Movies', 'US Movies', 'Action & Adventur...\n",
      "Name: 374, dtype: object\n",
      "names                                                  300\n",
      "cast     ['Gerard Butler', 'Lena Headey', 'Dominic West...\n",
      "genre                  ['US Movies', 'Action & Adventure']\n",
      "Name: 384, dtype: object\n",
      "names                                       Murder Mystery\n",
      "cast     ['Adam Sandler', 'Jennifer Aniston', 'Luke Eva...\n",
      "genre    ['Mysteries', 'US Movies', 'Action & Adventure...\n",
      "Name: 387, dtype: object\n",
      "names                                         The Hangover\n",
      "cast     ['Bradley Cooper', 'Ed Helms', 'Zach Galifiana...\n",
      "genre                            ['US Movies', 'Comedies']\n",
      "Name: 398, dtype: object\n",
      "names                                       Happy New Year\n",
      "cast     ['Shah Rukh Khan', 'Deepika Padukone', 'Abhish...\n",
      "genre    ['Hindi-Language Movies', 'Bollywood Movies', ...\n",
      "Name: 399, dtype: object\n",
      "names              A Babysitter's Guide to Monster Hunting\n",
      "cast     ['Tamara Smart', 'Oona Laurence', 'Tom Felton'...\n",
      "genre    ['Family Features', 'US Movies', 'Movies Based...\n",
      "Name: 414, dtype: object\n",
      "names                           How to Train Your Dragon 2\n",
      "cast     ['Jay Baruchel', 'Cate Blanchett', 'Gerard But...\n",
      "genre    ['Family Features', 'US Movies', 'Movies Based...\n",
      "Name: 428, dtype: object\n",
      "names                       Gunjan Saxena: The Kargil Girl\n",
      "cast     ['Janhvi Kapoor', 'Pankaj Tripathi', 'Angad Be...\n",
      "genre    ['Hindi-Language Movies', 'Bollywood Movies', ...\n",
      "Name: 476, dtype: object\n",
      "names                                                Benji\n",
      "cast     ['Gabriel Bateman', 'Darby Camp', 'Kiele Sanch...\n",
      "genre    ['Family Features', 'US Movies', 'Children & F...\n",
      "Name: 514, dtype: object\n",
      "names                               Swades: We, the People\n",
      "cast     ['Shah Rukh Khan', 'Gayatri Joshi', 'Kishori B...\n",
      "genre    ['Hindi-Language Movies', 'Bollywood Movies', ...\n",
      "Name: 533, dtype: object\n",
      "names                                     Taare Zameen Par\n",
      "cast     ['Aamir Khan', 'Darsheel Safary', 'Tanay Chhed...\n",
      "genre    ['Hindi-Language Movies', 'Bollywood Movies', ...\n",
      "Name: 538, dtype: object\n",
      "names                                             18 Pages\n",
      "cast     ['Nikhil Siddharth', 'Anupama Parameswaran', '...\n",
      "genre                        ['Dramas', 'Romantic Movies']\n",
      "Name: 539, dtype: object\n",
      "names    Kung-Fu Kings 4: The Challenge of Kung Fu Brot...\n",
      "cast     ['Saurav Chakraborty', 'Sanket Mhatre', 'Kamal...\n",
      "genre    ['Hindi-Language Movies', 'Children & Family M...\n",
      "Name: 550, dtype: object\n",
      "names                                      Haseen Dillruba\n",
      "cast     ['Taapsee Pannu', 'Vikrant Massey', 'Harshvard...\n",
      "genre    ['Hindi-Language Movies', 'Bollywood Movies', ...\n",
      "Name: 553, dtype: object\n",
      "names                             Kabhi Khushi Kabhie Gham\n",
      "cast     ['Amitabh Bachchan', 'Jaya Bhaduri', 'Shah Ruk...\n",
      "genre    ['Hindi-Language Movies', 'Bollywood Movies', ...\n",
      "Name: 559, dtype: object\n"
     ]
    },
    {
     "name": "stderr",
     "output_type": "stream",
     "text": [
      "/Users/ahminhui/opt/anaconda3/lib/python3.8/site-packages/pandas/core/frame.py:3281: SettingWithCopyWarning:\n",
      "\n",
      "\n",
      "A value is trying to be set on a copy of a slice from a DataFrame\n",
      "\n",
      "See the caveats in the documentation: https://pandas.pydata.org/pandas-docs/stable/user_guide/indexing.html#returning-a-view-versus-a-copy\n",
      "\n"
     ]
    }
   ],
   "source": [
    "for i in range(len(reco_df)):\n",
    "    # extract cast names and clean up formatting\n",
    "    names = reco_df['cast'].iloc[i].lower().lstrip(\"[\").strip(\" \").replace(\"'\",\"\").replace(' ','').rstrip(\"]\").split(\",\")\n",
    "    formatted_names = [name.strip().replace(\"'\",\"\").replace(' ','') for name in names]\n",
    "    \n",
    "    # update cast column for current row\n",
    "    reco_df.at[i, 'cast'] = formatted_names\n",
    "    \n",
    "    # print current row to verify update\n",
    "    print(reco_df.iloc[i])\n"
   ]
  },
  {
   "cell_type": "code",
   "execution_count": 185,
   "metadata": {},
   "outputs": [
    {
     "data": {
      "text/plain": [
       "0    [sidharthmalhotra, rashmikamandanna, parmeetse...\n",
       "1    [ranveersingh, varunsharma, poojahegde, jacque...\n",
       "2    [aliabhatt, vijayraaz, seemapahwa, ajaydevgn, ...\n",
       "3    [ajithkumar, manjuwarrier, samuthirakani, john...\n",
       "4    [tabu, kartikaaryan, kiaraadvani, rajpalyadav,...\n",
       "Name: cast, dtype: object"
      ]
     },
     "execution_count": 185,
     "metadata": {},
     "output_type": "execute_result"
    }
   ],
   "source": [
    "reco_df['cast'].head()"
   ]
  },
  {
   "cell_type": "code",
   "execution_count": 186,
   "metadata": {},
   "outputs": [
    {
     "ename": "TypeError",
     "evalue": "expected string or bytes-like object",
     "output_type": "error",
     "traceback": [
      "\u001b[0;31m---------------------------------------------------------------------------\u001b[0m",
      "\u001b[0;31mTypeError\u001b[0m                                 Traceback (most recent call last)",
      "\u001b[0;32m<ipython-input-186-24537f275bb7>\u001b[0m in \u001b[0;36m<module>\u001b[0;34m\u001b[0m\n\u001b[1;32m     11\u001b[0m \u001b[0;34m\u001b[0m\u001b[0m\n\u001b[1;32m     12\u001b[0m     \u001b[0;31m# extracting the keywords from the text by passing movie names\u001b[0m\u001b[0;34m\u001b[0m\u001b[0;34m\u001b[0m\u001b[0;34m\u001b[0m\u001b[0m\n\u001b[0;32m---> 13\u001b[0;31m     \u001b[0mr\u001b[0m\u001b[0;34m.\u001b[0m\u001b[0mextract_keywords_from_text\u001b[0m\u001b[0;34m(\u001b[0m\u001b[0mgenre\u001b[0m\u001b[0;34m)\u001b[0m\u001b[0;34m\u001b[0m\u001b[0;34m\u001b[0m\u001b[0m\n\u001b[0m\u001b[1;32m     14\u001b[0m \u001b[0;34m\u001b[0m\u001b[0m\n\u001b[1;32m     15\u001b[0m     \u001b[0;31m# getting the dictionary whith key words and their scores\u001b[0m\u001b[0;34m\u001b[0m\u001b[0;34m\u001b[0m\u001b[0;34m\u001b[0m\u001b[0m\n",
      "\u001b[0;32m~/opt/anaconda3/lib/python3.8/site-packages/rake_nltk/rake.py\u001b[0m in \u001b[0;36mextract_keywords_from_text\u001b[0;34m(self, text)\u001b[0m\n\u001b[1;32m    124\u001b[0m         \u001b[0;34m:\u001b[0m\u001b[0mparam\u001b[0m \u001b[0mtext\u001b[0m\u001b[0;34m:\u001b[0m \u001b[0mText\u001b[0m \u001b[0mto\u001b[0m \u001b[0mextract\u001b[0m \u001b[0mkeywords\u001b[0m \u001b[0;32mfrom\u001b[0m\u001b[0;34m,\u001b[0m \u001b[0mprovided\u001b[0m \u001b[0;32mas\u001b[0m \u001b[0ma\u001b[0m \u001b[0mstring\u001b[0m\u001b[0;34m.\u001b[0m\u001b[0;34m\u001b[0m\u001b[0;34m\u001b[0m\u001b[0m\n\u001b[1;32m    125\u001b[0m         \"\"\"\n\u001b[0;32m--> 126\u001b[0;31m         \u001b[0msentences\u001b[0m\u001b[0;34m:\u001b[0m \u001b[0mList\u001b[0m\u001b[0;34m[\u001b[0m\u001b[0mSentence\u001b[0m\u001b[0;34m]\u001b[0m \u001b[0;34m=\u001b[0m \u001b[0mself\u001b[0m\u001b[0;34m.\u001b[0m\u001b[0m_tokenize_text_to_sentences\u001b[0m\u001b[0;34m(\u001b[0m\u001b[0mtext\u001b[0m\u001b[0;34m)\u001b[0m\u001b[0;34m\u001b[0m\u001b[0;34m\u001b[0m\u001b[0m\n\u001b[0m\u001b[1;32m    127\u001b[0m         \u001b[0mself\u001b[0m\u001b[0;34m.\u001b[0m\u001b[0mextract_keywords_from_sentences\u001b[0m\u001b[0;34m(\u001b[0m\u001b[0msentences\u001b[0m\u001b[0;34m)\u001b[0m\u001b[0;34m\u001b[0m\u001b[0;34m\u001b[0m\u001b[0m\n\u001b[1;32m    128\u001b[0m \u001b[0;34m\u001b[0m\u001b[0m\n",
      "\u001b[0;32m~/opt/anaconda3/lib/python3.8/site-packages/rake_nltk/rake.py\u001b[0m in \u001b[0;36m_tokenize_text_to_sentences\u001b[0;34m(self, text)\u001b[0m\n\u001b[1;32m    178\u001b[0m         \u001b[0;34m:\u001b[0m\u001b[0;32mreturn\u001b[0m\u001b[0;34m:\u001b[0m \u001b[0mList\u001b[0m \u001b[0mof\u001b[0m \u001b[0msentences\u001b[0m \u001b[0;32mas\u001b[0m \u001b[0mper\u001b[0m \u001b[0mthe\u001b[0m \u001b[0mtokenizer\u001b[0m \u001b[0mused\u001b[0m\u001b[0;34m.\u001b[0m\u001b[0;34m\u001b[0m\u001b[0;34m\u001b[0m\u001b[0m\n\u001b[1;32m    179\u001b[0m         \"\"\"\n\u001b[0;32m--> 180\u001b[0;31m         \u001b[0;32mreturn\u001b[0m \u001b[0mself\u001b[0m\u001b[0;34m.\u001b[0m\u001b[0msentence_tokenizer\u001b[0m\u001b[0;34m(\u001b[0m\u001b[0mtext\u001b[0m\u001b[0;34m)\u001b[0m\u001b[0;34m\u001b[0m\u001b[0;34m\u001b[0m\u001b[0m\n\u001b[0m\u001b[1;32m    181\u001b[0m \u001b[0;34m\u001b[0m\u001b[0m\n\u001b[1;32m    182\u001b[0m     \u001b[0;32mdef\u001b[0m \u001b[0m_tokenize_sentence_to_words\u001b[0m\u001b[0;34m(\u001b[0m\u001b[0mself\u001b[0m\u001b[0;34m,\u001b[0m \u001b[0msentence\u001b[0m\u001b[0;34m:\u001b[0m \u001b[0mSentence\u001b[0m\u001b[0;34m)\u001b[0m \u001b[0;34m->\u001b[0m \u001b[0mList\u001b[0m\u001b[0;34m[\u001b[0m\u001b[0mWord\u001b[0m\u001b[0;34m]\u001b[0m\u001b[0;34m:\u001b[0m\u001b[0;34m\u001b[0m\u001b[0;34m\u001b[0m\u001b[0m\n",
      "\u001b[0;32m~/opt/anaconda3/lib/python3.8/site-packages/nltk/tokenize/__init__.py\u001b[0m in \u001b[0;36msent_tokenize\u001b[0;34m(text, language)\u001b[0m\n\u001b[1;32m    105\u001b[0m     \"\"\"\n\u001b[1;32m    106\u001b[0m     \u001b[0mtokenizer\u001b[0m \u001b[0;34m=\u001b[0m \u001b[0mload\u001b[0m\u001b[0;34m(\u001b[0m\u001b[0;34mf\"tokenizers/punkt/{language}.pickle\"\u001b[0m\u001b[0;34m)\u001b[0m\u001b[0;34m\u001b[0m\u001b[0;34m\u001b[0m\u001b[0m\n\u001b[0;32m--> 107\u001b[0;31m     \u001b[0;32mreturn\u001b[0m \u001b[0mtokenizer\u001b[0m\u001b[0;34m.\u001b[0m\u001b[0mtokenize\u001b[0m\u001b[0;34m(\u001b[0m\u001b[0mtext\u001b[0m\u001b[0;34m)\u001b[0m\u001b[0;34m\u001b[0m\u001b[0;34m\u001b[0m\u001b[0m\n\u001b[0m\u001b[1;32m    108\u001b[0m \u001b[0;34m\u001b[0m\u001b[0m\n\u001b[1;32m    109\u001b[0m \u001b[0;34m\u001b[0m\u001b[0m\n",
      "\u001b[0;32m~/opt/anaconda3/lib/python3.8/site-packages/nltk/tokenize/punkt.py\u001b[0m in \u001b[0;36mtokenize\u001b[0;34m(self, text, realign_boundaries)\u001b[0m\n\u001b[1;32m   1279\u001b[0m         \u001b[0mGiven\u001b[0m \u001b[0ma\u001b[0m \u001b[0mtext\u001b[0m\u001b[0;34m,\u001b[0m \u001b[0mreturns\u001b[0m \u001b[0ma\u001b[0m \u001b[0mlist\u001b[0m \u001b[0mof\u001b[0m \u001b[0mthe\u001b[0m \u001b[0msentences\u001b[0m \u001b[0;32min\u001b[0m \u001b[0mthat\u001b[0m \u001b[0mtext\u001b[0m\u001b[0;34m.\u001b[0m\u001b[0;34m\u001b[0m\u001b[0;34m\u001b[0m\u001b[0m\n\u001b[1;32m   1280\u001b[0m         \"\"\"\n\u001b[0;32m-> 1281\u001b[0;31m         \u001b[0;32mreturn\u001b[0m \u001b[0mlist\u001b[0m\u001b[0;34m(\u001b[0m\u001b[0mself\u001b[0m\u001b[0;34m.\u001b[0m\u001b[0msentences_from_text\u001b[0m\u001b[0;34m(\u001b[0m\u001b[0mtext\u001b[0m\u001b[0;34m,\u001b[0m \u001b[0mrealign_boundaries\u001b[0m\u001b[0;34m)\u001b[0m\u001b[0;34m)\u001b[0m\u001b[0;34m\u001b[0m\u001b[0;34m\u001b[0m\u001b[0m\n\u001b[0m\u001b[1;32m   1282\u001b[0m \u001b[0;34m\u001b[0m\u001b[0m\n\u001b[1;32m   1283\u001b[0m     \u001b[0;32mdef\u001b[0m \u001b[0mdebug_decisions\u001b[0m\u001b[0;34m(\u001b[0m\u001b[0mself\u001b[0m\u001b[0;34m,\u001b[0m \u001b[0mtext\u001b[0m\u001b[0;34m:\u001b[0m \u001b[0mstr\u001b[0m\u001b[0;34m)\u001b[0m \u001b[0;34m->\u001b[0m \u001b[0mIterator\u001b[0m\u001b[0;34m[\u001b[0m\u001b[0mDict\u001b[0m\u001b[0;34m[\u001b[0m\u001b[0mstr\u001b[0m\u001b[0;34m,\u001b[0m \u001b[0mAny\u001b[0m\u001b[0;34m]\u001b[0m\u001b[0;34m]\u001b[0m\u001b[0;34m:\u001b[0m\u001b[0;34m\u001b[0m\u001b[0;34m\u001b[0m\u001b[0m\n",
      "\u001b[0;32m~/opt/anaconda3/lib/python3.8/site-packages/nltk/tokenize/punkt.py\u001b[0m in \u001b[0;36msentences_from_text\u001b[0;34m(self, text, realign_boundaries)\u001b[0m\n\u001b[1;32m   1339\u001b[0m         \u001b[0mfollows\u001b[0m \u001b[0mthe\u001b[0m \u001b[0mperiod\u001b[0m\u001b[0;34m.\u001b[0m\u001b[0;34m\u001b[0m\u001b[0;34m\u001b[0m\u001b[0m\n\u001b[1;32m   1340\u001b[0m         \"\"\"\n\u001b[0;32m-> 1341\u001b[0;31m         \u001b[0;32mreturn\u001b[0m \u001b[0;34m[\u001b[0m\u001b[0mtext\u001b[0m\u001b[0;34m[\u001b[0m\u001b[0ms\u001b[0m\u001b[0;34m:\u001b[0m\u001b[0me\u001b[0m\u001b[0;34m]\u001b[0m \u001b[0;32mfor\u001b[0m \u001b[0ms\u001b[0m\u001b[0;34m,\u001b[0m \u001b[0me\u001b[0m \u001b[0;32min\u001b[0m \u001b[0mself\u001b[0m\u001b[0;34m.\u001b[0m\u001b[0mspan_tokenize\u001b[0m\u001b[0;34m(\u001b[0m\u001b[0mtext\u001b[0m\u001b[0;34m,\u001b[0m \u001b[0mrealign_boundaries\u001b[0m\u001b[0;34m)\u001b[0m\u001b[0;34m]\u001b[0m\u001b[0;34m\u001b[0m\u001b[0;34m\u001b[0m\u001b[0m\n\u001b[0m\u001b[1;32m   1342\u001b[0m \u001b[0;34m\u001b[0m\u001b[0m\n\u001b[1;32m   1343\u001b[0m     \u001b[0;32mdef\u001b[0m \u001b[0m_get_last_whitespace_index\u001b[0m\u001b[0;34m(\u001b[0m\u001b[0mself\u001b[0m\u001b[0;34m,\u001b[0m \u001b[0mtext\u001b[0m\u001b[0;34m:\u001b[0m \u001b[0mstr\u001b[0m\u001b[0;34m)\u001b[0m \u001b[0;34m->\u001b[0m \u001b[0mint\u001b[0m\u001b[0;34m:\u001b[0m\u001b[0;34m\u001b[0m\u001b[0;34m\u001b[0m\u001b[0m\n",
      "\u001b[0;32m~/opt/anaconda3/lib/python3.8/site-packages/nltk/tokenize/punkt.py\u001b[0m in \u001b[0;36m<listcomp>\u001b[0;34m(.0)\u001b[0m\n\u001b[1;32m   1339\u001b[0m         \u001b[0mfollows\u001b[0m \u001b[0mthe\u001b[0m \u001b[0mperiod\u001b[0m\u001b[0;34m.\u001b[0m\u001b[0;34m\u001b[0m\u001b[0;34m\u001b[0m\u001b[0m\n\u001b[1;32m   1340\u001b[0m         \"\"\"\n\u001b[0;32m-> 1341\u001b[0;31m         \u001b[0;32mreturn\u001b[0m \u001b[0;34m[\u001b[0m\u001b[0mtext\u001b[0m\u001b[0;34m[\u001b[0m\u001b[0ms\u001b[0m\u001b[0;34m:\u001b[0m\u001b[0me\u001b[0m\u001b[0;34m]\u001b[0m \u001b[0;32mfor\u001b[0m \u001b[0ms\u001b[0m\u001b[0;34m,\u001b[0m \u001b[0me\u001b[0m \u001b[0;32min\u001b[0m \u001b[0mself\u001b[0m\u001b[0;34m.\u001b[0m\u001b[0mspan_tokenize\u001b[0m\u001b[0;34m(\u001b[0m\u001b[0mtext\u001b[0m\u001b[0;34m,\u001b[0m \u001b[0mrealign_boundaries\u001b[0m\u001b[0;34m)\u001b[0m\u001b[0;34m]\u001b[0m\u001b[0;34m\u001b[0m\u001b[0;34m\u001b[0m\u001b[0m\n\u001b[0m\u001b[1;32m   1342\u001b[0m \u001b[0;34m\u001b[0m\u001b[0m\n\u001b[1;32m   1343\u001b[0m     \u001b[0;32mdef\u001b[0m \u001b[0m_get_last_whitespace_index\u001b[0m\u001b[0;34m(\u001b[0m\u001b[0mself\u001b[0m\u001b[0;34m,\u001b[0m \u001b[0mtext\u001b[0m\u001b[0;34m:\u001b[0m \u001b[0mstr\u001b[0m\u001b[0;34m)\u001b[0m \u001b[0;34m->\u001b[0m \u001b[0mint\u001b[0m\u001b[0;34m:\u001b[0m\u001b[0;34m\u001b[0m\u001b[0;34m\u001b[0m\u001b[0m\n",
      "\u001b[0;32m~/opt/anaconda3/lib/python3.8/site-packages/nltk/tokenize/punkt.py\u001b[0m in \u001b[0;36mspan_tokenize\u001b[0;34m(self, text, realign_boundaries)\u001b[0m\n\u001b[1;32m   1327\u001b[0m         \u001b[0;32mif\u001b[0m \u001b[0mrealign_boundaries\u001b[0m\u001b[0;34m:\u001b[0m\u001b[0;34m\u001b[0m\u001b[0;34m\u001b[0m\u001b[0m\n\u001b[1;32m   1328\u001b[0m             \u001b[0mslices\u001b[0m \u001b[0;34m=\u001b[0m \u001b[0mself\u001b[0m\u001b[0;34m.\u001b[0m\u001b[0m_realign_boundaries\u001b[0m\u001b[0;34m(\u001b[0m\u001b[0mtext\u001b[0m\u001b[0;34m,\u001b[0m \u001b[0mslices\u001b[0m\u001b[0;34m)\u001b[0m\u001b[0;34m\u001b[0m\u001b[0;34m\u001b[0m\u001b[0m\n\u001b[0;32m-> 1329\u001b[0;31m         \u001b[0;32mfor\u001b[0m \u001b[0msentence\u001b[0m \u001b[0;32min\u001b[0m \u001b[0mslices\u001b[0m\u001b[0;34m:\u001b[0m\u001b[0;34m\u001b[0m\u001b[0;34m\u001b[0m\u001b[0m\n\u001b[0m\u001b[1;32m   1330\u001b[0m             \u001b[0;32myield\u001b[0m \u001b[0;34m(\u001b[0m\u001b[0msentence\u001b[0m\u001b[0;34m.\u001b[0m\u001b[0mstart\u001b[0m\u001b[0;34m,\u001b[0m \u001b[0msentence\u001b[0m\u001b[0;34m.\u001b[0m\u001b[0mstop\u001b[0m\u001b[0;34m)\u001b[0m\u001b[0;34m\u001b[0m\u001b[0;34m\u001b[0m\u001b[0m\n\u001b[1;32m   1331\u001b[0m \u001b[0;34m\u001b[0m\u001b[0m\n",
      "\u001b[0;32m~/opt/anaconda3/lib/python3.8/site-packages/nltk/tokenize/punkt.py\u001b[0m in \u001b[0;36m_realign_boundaries\u001b[0;34m(self, text, slices)\u001b[0m\n\u001b[1;32m   1457\u001b[0m         \"\"\"\n\u001b[1;32m   1458\u001b[0m         \u001b[0mrealign\u001b[0m \u001b[0;34m=\u001b[0m \u001b[0;36m0\u001b[0m\u001b[0;34m\u001b[0m\u001b[0;34m\u001b[0m\u001b[0m\n\u001b[0;32m-> 1459\u001b[0;31m         \u001b[0;32mfor\u001b[0m \u001b[0msentence1\u001b[0m\u001b[0;34m,\u001b[0m \u001b[0msentence2\u001b[0m \u001b[0;32min\u001b[0m \u001b[0m_pair_iter\u001b[0m\u001b[0;34m(\u001b[0m\u001b[0mslices\u001b[0m\u001b[0;34m)\u001b[0m\u001b[0;34m:\u001b[0m\u001b[0;34m\u001b[0m\u001b[0;34m\u001b[0m\u001b[0m\n\u001b[0m\u001b[1;32m   1460\u001b[0m             \u001b[0msentence1\u001b[0m \u001b[0;34m=\u001b[0m \u001b[0mslice\u001b[0m\u001b[0;34m(\u001b[0m\u001b[0msentence1\u001b[0m\u001b[0;34m.\u001b[0m\u001b[0mstart\u001b[0m \u001b[0;34m+\u001b[0m \u001b[0mrealign\u001b[0m\u001b[0;34m,\u001b[0m \u001b[0msentence1\u001b[0m\u001b[0;34m.\u001b[0m\u001b[0mstop\u001b[0m\u001b[0;34m)\u001b[0m\u001b[0;34m\u001b[0m\u001b[0;34m\u001b[0m\u001b[0m\n\u001b[1;32m   1461\u001b[0m             \u001b[0;32mif\u001b[0m \u001b[0;32mnot\u001b[0m \u001b[0msentence2\u001b[0m\u001b[0;34m:\u001b[0m\u001b[0;34m\u001b[0m\u001b[0;34m\u001b[0m\u001b[0m\n",
      "\u001b[0;32m~/opt/anaconda3/lib/python3.8/site-packages/nltk/tokenize/punkt.py\u001b[0m in \u001b[0;36m_pair_iter\u001b[0;34m(iterator)\u001b[0m\n\u001b[1;32m    319\u001b[0m     \u001b[0miterator\u001b[0m \u001b[0;34m=\u001b[0m \u001b[0miter\u001b[0m\u001b[0;34m(\u001b[0m\u001b[0miterator\u001b[0m\u001b[0;34m)\u001b[0m\u001b[0;34m\u001b[0m\u001b[0;34m\u001b[0m\u001b[0m\n\u001b[1;32m    320\u001b[0m     \u001b[0;32mtry\u001b[0m\u001b[0;34m:\u001b[0m\u001b[0;34m\u001b[0m\u001b[0;34m\u001b[0m\u001b[0m\n\u001b[0;32m--> 321\u001b[0;31m         \u001b[0mprev\u001b[0m \u001b[0;34m=\u001b[0m \u001b[0mnext\u001b[0m\u001b[0;34m(\u001b[0m\u001b[0miterator\u001b[0m\u001b[0;34m)\u001b[0m\u001b[0;34m\u001b[0m\u001b[0;34m\u001b[0m\u001b[0m\n\u001b[0m\u001b[1;32m    322\u001b[0m     \u001b[0;32mexcept\u001b[0m \u001b[0mStopIteration\u001b[0m\u001b[0;34m:\u001b[0m\u001b[0;34m\u001b[0m\u001b[0;34m\u001b[0m\u001b[0m\n\u001b[1;32m    323\u001b[0m         \u001b[0;32mreturn\u001b[0m\u001b[0;34m\u001b[0m\u001b[0;34m\u001b[0m\u001b[0m\n",
      "\u001b[0;32m~/opt/anaconda3/lib/python3.8/site-packages/nltk/tokenize/punkt.py\u001b[0m in \u001b[0;36m_slices_from_text\u001b[0;34m(self, text)\u001b[0m\n\u001b[1;32m   1429\u001b[0m     \u001b[0;32mdef\u001b[0m \u001b[0m_slices_from_text\u001b[0m\u001b[0;34m(\u001b[0m\u001b[0mself\u001b[0m\u001b[0;34m,\u001b[0m \u001b[0mtext\u001b[0m\u001b[0;34m:\u001b[0m \u001b[0mstr\u001b[0m\u001b[0;34m)\u001b[0m \u001b[0;34m->\u001b[0m \u001b[0mIterator\u001b[0m\u001b[0;34m[\u001b[0m\u001b[0mslice\u001b[0m\u001b[0;34m]\u001b[0m\u001b[0;34m:\u001b[0m\u001b[0;34m\u001b[0m\u001b[0;34m\u001b[0m\u001b[0m\n\u001b[1;32m   1430\u001b[0m         \u001b[0mlast_break\u001b[0m \u001b[0;34m=\u001b[0m \u001b[0;36m0\u001b[0m\u001b[0;34m\u001b[0m\u001b[0;34m\u001b[0m\u001b[0m\n\u001b[0;32m-> 1431\u001b[0;31m         \u001b[0;32mfor\u001b[0m \u001b[0mmatch\u001b[0m\u001b[0;34m,\u001b[0m \u001b[0mcontext\u001b[0m \u001b[0;32min\u001b[0m \u001b[0mself\u001b[0m\u001b[0;34m.\u001b[0m\u001b[0m_match_potential_end_contexts\u001b[0m\u001b[0;34m(\u001b[0m\u001b[0mtext\u001b[0m\u001b[0;34m)\u001b[0m\u001b[0;34m:\u001b[0m\u001b[0;34m\u001b[0m\u001b[0;34m\u001b[0m\u001b[0m\n\u001b[0m\u001b[1;32m   1432\u001b[0m             \u001b[0;32mif\u001b[0m \u001b[0mself\u001b[0m\u001b[0;34m.\u001b[0m\u001b[0mtext_contains_sentbreak\u001b[0m\u001b[0;34m(\u001b[0m\u001b[0mcontext\u001b[0m\u001b[0;34m)\u001b[0m\u001b[0;34m:\u001b[0m\u001b[0;34m\u001b[0m\u001b[0;34m\u001b[0m\u001b[0m\n\u001b[1;32m   1433\u001b[0m                 \u001b[0;32myield\u001b[0m \u001b[0mslice\u001b[0m\u001b[0;34m(\u001b[0m\u001b[0mlast_break\u001b[0m\u001b[0;34m,\u001b[0m \u001b[0mmatch\u001b[0m\u001b[0;34m.\u001b[0m\u001b[0mend\u001b[0m\u001b[0;34m(\u001b[0m\u001b[0;34m)\u001b[0m\u001b[0;34m)\u001b[0m\u001b[0;34m\u001b[0m\u001b[0;34m\u001b[0m\u001b[0m\n",
      "\u001b[0;32m~/opt/anaconda3/lib/python3.8/site-packages/nltk/tokenize/punkt.py\u001b[0m in \u001b[0;36m_match_potential_end_contexts\u001b[0;34m(self, text)\u001b[0m\n\u001b[1;32m   1393\u001b[0m         \u001b[0mprevious_slice\u001b[0m \u001b[0;34m=\u001b[0m \u001b[0mslice\u001b[0m\u001b[0;34m(\u001b[0m\u001b[0;36m0\u001b[0m\u001b[0;34m,\u001b[0m \u001b[0;36m0\u001b[0m\u001b[0;34m)\u001b[0m\u001b[0;34m\u001b[0m\u001b[0;34m\u001b[0m\u001b[0m\n\u001b[1;32m   1394\u001b[0m         \u001b[0mprevious_match\u001b[0m \u001b[0;34m=\u001b[0m \u001b[0;32mNone\u001b[0m\u001b[0;34m\u001b[0m\u001b[0;34m\u001b[0m\u001b[0m\n\u001b[0;32m-> 1395\u001b[0;31m         \u001b[0;32mfor\u001b[0m \u001b[0mmatch\u001b[0m \u001b[0;32min\u001b[0m \u001b[0mself\u001b[0m\u001b[0;34m.\u001b[0m\u001b[0m_lang_vars\u001b[0m\u001b[0;34m.\u001b[0m\u001b[0mperiod_context_re\u001b[0m\u001b[0;34m(\u001b[0m\u001b[0;34m)\u001b[0m\u001b[0;34m.\u001b[0m\u001b[0mfinditer\u001b[0m\u001b[0;34m(\u001b[0m\u001b[0mtext\u001b[0m\u001b[0;34m)\u001b[0m\u001b[0;34m:\u001b[0m\u001b[0;34m\u001b[0m\u001b[0;34m\u001b[0m\u001b[0m\n\u001b[0m\u001b[1;32m   1396\u001b[0m \u001b[0;34m\u001b[0m\u001b[0m\n\u001b[1;32m   1397\u001b[0m             \u001b[0;31m# Get the slice of the previous word\u001b[0m\u001b[0;34m\u001b[0m\u001b[0;34m\u001b[0m\u001b[0;34m\u001b[0m\u001b[0m\n",
      "\u001b[0;31mTypeError\u001b[0m: expected string or bytes-like object"
     ]
    }
   ],
   "source": [
    "# creating and initializing the new column to empty string for all rows\n",
    "reco_df['keywords'] = \"\"\n",
    "\n",
    "for index, row in reco_df.iterrows():\n",
    "    genre = row['genre']\n",
    "\n",
    "    # instantiating a Rake object\n",
    "    # by default it uses english stopwords from NLTK (natural language tool kit)\n",
    "    # and discards all puntuation characters\n",
    "    r = Rake()\n",
    "\n",
    "    # extracting the keywords from the text by passing movie names \n",
    "    r.extract_keywords_from_text(genre)\n",
    "\n",
    "    # getting the dictionary whith key words and their scores\n",
    "    key_words_dict_scores = r.get_word_degrees()\n",
    "\n",
    "    # assigning the key words to the new column\n",
    "    row['keywords'] = list(key_words_dict_scores.keys())\n",
    "\n"
   ]
  },
  {
   "cell_type": "code",
   "execution_count": 187,
   "metadata": {},
   "outputs": [
    {
     "data": {
      "text/plain": [
       "0    [[', spy, movies, ',, hindi, language, bollywo...\n",
       "1    [[', hindi, language, movies, ',, bollywood, c...\n",
       "2    [[', hindi, language, movies, ',, based, books...\n",
       "3       [[', crime, movies, ',, action, adventure, ']]\n",
       "4    [[', hindi, language, movies, ',, bollywood, c...\n",
       "Name: keywords, dtype: object"
      ]
     },
     "execution_count": 187,
     "metadata": {},
     "output_type": "execute_result"
    }
   ],
   "source": [
    "reco_df['keywords'].head()\n",
    "# print(type(reco_df['keywords'].iloc[0]))"
   ]
  },
  {
   "cell_type": "code",
   "execution_count": 188,
   "metadata": {},
   "outputs": [],
   "source": [
    "# dropping the movie names column\n",
    "# df.drop(columns = ['Plot'], inplace = True)\n",
    "reco_df.drop('genre', axis=1, inplace=True)"
   ]
  },
  {
   "cell_type": "code",
   "execution_count": 189,
   "metadata": {},
   "outputs": [
    {
     "data": {
      "text/html": [
       "<div>\n",
       "<style scoped>\n",
       "    .dataframe tbody tr th:only-of-type {\n",
       "        vertical-align: middle;\n",
       "    }\n",
       "\n",
       "    .dataframe tbody tr th {\n",
       "        vertical-align: top;\n",
       "    }\n",
       "\n",
       "    .dataframe thead th {\n",
       "        text-align: right;\n",
       "    }\n",
       "</style>\n",
       "<table border=\"1\" class=\"dataframe\">\n",
       "  <thead>\n",
       "    <tr style=\"text-align: right;\">\n",
       "      <th></th>\n",
       "      <th>names</th>\n",
       "      <th>cast</th>\n",
       "      <th>keywords</th>\n",
       "    </tr>\n",
       "  </thead>\n",
       "  <tbody>\n",
       "    <tr>\n",
       "      <th>0</th>\n",
       "      <td>Mission Majnu</td>\n",
       "      <td>[sidharthmalhotra, rashmikamandanna, parmeetse...</td>\n",
       "      <td>[[', spy, movies, ',, hindi, language, bollywo...</td>\n",
       "    </tr>\n",
       "    <tr>\n",
       "      <th>1</th>\n",
       "      <td>Cirkus</td>\n",
       "      <td>[ranveersingh, varunsharma, poojahegde, jacque...</td>\n",
       "      <td>[[', hindi, language, movies, ',, bollywood, c...</td>\n",
       "    </tr>\n",
       "    <tr>\n",
       "      <th>2</th>\n",
       "      <td>Gangubai Kathiawadi</td>\n",
       "      <td>[aliabhatt, vijayraaz, seemapahwa, ajaydevgn, ...</td>\n",
       "      <td>[[', hindi, language, movies, ',, based, books...</td>\n",
       "    </tr>\n",
       "    <tr>\n",
       "      <th>3</th>\n",
       "      <td>Thunivu</td>\n",
       "      <td>[ajithkumar, manjuwarrier, samuthirakani, john...</td>\n",
       "      <td>[[', crime, movies, ',, action, adventure, ']]</td>\n",
       "    </tr>\n",
       "    <tr>\n",
       "      <th>4</th>\n",
       "      <td>Bhool Bhulaiyaa 2</td>\n",
       "      <td>[tabu, kartikaaryan, kiaraadvani, rajpalyadav,...</td>\n",
       "      <td>[[', hindi, language, movies, ',, bollywood, c...</td>\n",
       "    </tr>\n",
       "  </tbody>\n",
       "</table>\n",
       "</div>"
      ],
      "text/plain": [
       "                 names                                               cast  \\\n",
       "0        Mission Majnu  [sidharthmalhotra, rashmikamandanna, parmeetse...   \n",
       "1               Cirkus  [ranveersingh, varunsharma, poojahegde, jacque...   \n",
       "2  Gangubai Kathiawadi  [aliabhatt, vijayraaz, seemapahwa, ajaydevgn, ...   \n",
       "3              Thunivu  [ajithkumar, manjuwarrier, samuthirakani, john...   \n",
       "4    Bhool Bhulaiyaa 2  [tabu, kartikaaryan, kiaraadvani, rajpalyadav,...   \n",
       "\n",
       "                                            keywords  \n",
       "0  [[', spy, movies, ',, hindi, language, bollywo...  \n",
       "1  [[', hindi, language, movies, ',, bollywood, c...  \n",
       "2  [[', hindi, language, movies, ',, based, books...  \n",
       "3     [[', crime, movies, ',, action, adventure, ']]  \n",
       "4  [[', hindi, language, movies, ',, bollywood, c...  "
      ]
     },
     "execution_count": 189,
     "metadata": {},
     "output_type": "execute_result"
    }
   ],
   "source": [
    "reco_df.head()"
   ]
  },
  {
   "cell_type": "code",
   "execution_count": 190,
   "metadata": {},
   "outputs": [],
   "source": [
    "reco_df['keywords'] = reco_df['keywords'].apply(lambda x: ' '.join(map(str, x)))"
   ]
  },
  {
   "cell_type": "code",
   "execution_count": null,
   "metadata": {},
   "outputs": [
    {
     "data": {
      "text/plain": [
       "str"
      ]
     },
     "execution_count": 123,
     "metadata": {},
     "output_type": "execute_result"
    }
   ],
   "source": [
    "# converting the list to str to do data processing, to remove \"[\" , \"]\" and \",\"\n",
    "type(reco_df['keywords'].iloc[0])"
   ]
  },
  {
   "cell_type": "code",
   "execution_count": 191,
   "metadata": {},
   "outputs": [
    {
     "name": "stderr",
     "output_type": "stream",
     "text": [
      "<ipython-input-191-62e5de7c0550>:1: FutureWarning:\n",
      "\n",
      "The default value of regex will change from True to False in a future version. In addition, single character regular expressions will*not* be treated as literal strings when regex=True.\n",
      "\n"
     ]
    }
   ],
   "source": [
    "reco_df['keywords'] = reco_df['keywords'].str.replace(\"[\",\"\").str.replace(\",\",\"\").str.replace(\"]\",\"\").str.replace(\"'\",\"\")"
   ]
  },
  {
   "cell_type": "code",
   "execution_count": 192,
   "metadata": {},
   "outputs": [
    {
     "data": {
      "text/plain": [
       "' spy movies  hindi language bollywood action adventure '"
      ]
     },
     "execution_count": 192,
     "metadata": {},
     "output_type": "execute_result"
    }
   ],
   "source": [
    "reco_df['keywords'].iloc[0]\n",
    "                         "
   ]
  },
  {
   "cell_type": "code",
   "execution_count": 193,
   "metadata": {},
   "outputs": [],
   "source": [
    "reco_df['keywords'] = reco_df['keywords'].str.split()\n"
   ]
  },
  {
   "cell_type": "code",
   "execution_count": 194,
   "metadata": {},
   "outputs": [
    {
     "data": {
      "text/plain": [
       "0      [spy, movies, hindi, language, bollywood, acti...\n",
       "1         [hindi, language, movies, bollywood, comedies]\n",
       "2        [hindi, language, movies, based, books, dramas]\n",
       "3                     [crime, movies, action, adventure]\n",
       "4      [hindi, language, movies, bollywood, comedies,...\n",
       "                             ...                        \n",
       "219                                                   []\n",
       "220                                                   []\n",
       "221                                                   []\n",
       "222                                                   []\n",
       "223                                                   []\n",
       "Name: keywords, Length: 290, dtype: object"
      ]
     },
     "execution_count": 194,
     "metadata": {},
     "output_type": "execute_result"
    }
   ],
   "source": [
    "reco_df['keywords']"
   ]
  },
  {
   "cell_type": "code",
   "execution_count": 195,
   "metadata": {},
   "outputs": [
    {
     "data": {
      "text/html": [
       "<div>\n",
       "<style scoped>\n",
       "    .dataframe tbody tr th:only-of-type {\n",
       "        vertical-align: middle;\n",
       "    }\n",
       "\n",
       "    .dataframe tbody tr th {\n",
       "        vertical-align: top;\n",
       "    }\n",
       "\n",
       "    .dataframe thead th {\n",
       "        text-align: right;\n",
       "    }\n",
       "</style>\n",
       "<table border=\"1\" class=\"dataframe\">\n",
       "  <thead>\n",
       "    <tr style=\"text-align: right;\">\n",
       "      <th></th>\n",
       "      <th>names</th>\n",
       "      <th>cast</th>\n",
       "      <th>keywords</th>\n",
       "    </tr>\n",
       "  </thead>\n",
       "  <tbody>\n",
       "    <tr>\n",
       "      <th>0</th>\n",
       "      <td>Mission Majnu</td>\n",
       "      <td>[sidharthmalhotra, rashmikamandanna, parmeetse...</td>\n",
       "      <td>[spy, movies, hindi, language, bollywood, acti...</td>\n",
       "    </tr>\n",
       "    <tr>\n",
       "      <th>1</th>\n",
       "      <td>Cirkus</td>\n",
       "      <td>[ranveersingh, varunsharma, poojahegde, jacque...</td>\n",
       "      <td>[hindi, language, movies, bollywood, comedies]</td>\n",
       "    </tr>\n",
       "    <tr>\n",
       "      <th>2</th>\n",
       "      <td>Gangubai Kathiawadi</td>\n",
       "      <td>[aliabhatt, vijayraaz, seemapahwa, ajaydevgn, ...</td>\n",
       "      <td>[hindi, language, movies, based, books, dramas]</td>\n",
       "    </tr>\n",
       "    <tr>\n",
       "      <th>3</th>\n",
       "      <td>Thunivu</td>\n",
       "      <td>[ajithkumar, manjuwarrier, samuthirakani, john...</td>\n",
       "      <td>[crime, movies, action, adventure]</td>\n",
       "    </tr>\n",
       "    <tr>\n",
       "      <th>4</th>\n",
       "      <td>Bhool Bhulaiyaa 2</td>\n",
       "      <td>[tabu, kartikaaryan, kiaraadvani, rajpalyadav,...</td>\n",
       "      <td>[hindi, language, movies, bollywood, comedies,...</td>\n",
       "    </tr>\n",
       "    <tr>\n",
       "      <th>...</th>\n",
       "      <td>...</td>\n",
       "      <td>...</td>\n",
       "      <td>...</td>\n",
       "    </tr>\n",
       "    <tr>\n",
       "      <th>219</th>\n",
       "      <td>NaN</td>\n",
       "      <td>[shahrukhkhan, gayatrijoshi, kishoribalal, smi...</td>\n",
       "      <td>[]</td>\n",
       "    </tr>\n",
       "    <tr>\n",
       "      <th>220</th>\n",
       "      <td>NaN</td>\n",
       "      <td>[aamirkhan, darsheelsafary, tanaychheda, tisca...</td>\n",
       "      <td>[]</td>\n",
       "    </tr>\n",
       "    <tr>\n",
       "      <th>221</th>\n",
       "      <td>NaN</td>\n",
       "      <td>[nikhilsiddharth, anupamaparameswaran, ajay, s...</td>\n",
       "      <td>[]</td>\n",
       "    </tr>\n",
       "    <tr>\n",
       "      <th>222</th>\n",
       "      <td>NaN</td>\n",
       "      <td>[sauravchakraborty, sanketmhatre, kamalchaturv...</td>\n",
       "      <td>[]</td>\n",
       "    </tr>\n",
       "    <tr>\n",
       "      <th>223</th>\n",
       "      <td>NaN</td>\n",
       "      <td>[taapseepannu, vikrantmassey, harshvardhanrane...</td>\n",
       "      <td>[]</td>\n",
       "    </tr>\n",
       "  </tbody>\n",
       "</table>\n",
       "<p>290 rows × 3 columns</p>\n",
       "</div>"
      ],
      "text/plain": [
       "                   names                                               cast  \\\n",
       "0          Mission Majnu  [sidharthmalhotra, rashmikamandanna, parmeetse...   \n",
       "1                 Cirkus  [ranveersingh, varunsharma, poojahegde, jacque...   \n",
       "2    Gangubai Kathiawadi  [aliabhatt, vijayraaz, seemapahwa, ajaydevgn, ...   \n",
       "3                Thunivu  [ajithkumar, manjuwarrier, samuthirakani, john...   \n",
       "4      Bhool Bhulaiyaa 2  [tabu, kartikaaryan, kiaraadvani, rajpalyadav,...   \n",
       "..                   ...                                                ...   \n",
       "219                  NaN  [shahrukhkhan, gayatrijoshi, kishoribalal, smi...   \n",
       "220                  NaN  [aamirkhan, darsheelsafary, tanaychheda, tisca...   \n",
       "221                  NaN  [nikhilsiddharth, anupamaparameswaran, ajay, s...   \n",
       "222                  NaN  [sauravchakraborty, sanketmhatre, kamalchaturv...   \n",
       "223                  NaN  [taapseepannu, vikrantmassey, harshvardhanrane...   \n",
       "\n",
       "                                              keywords  \n",
       "0    [spy, movies, hindi, language, bollywood, acti...  \n",
       "1       [hindi, language, movies, bollywood, comedies]  \n",
       "2      [hindi, language, movies, based, books, dramas]  \n",
       "3                   [crime, movies, action, adventure]  \n",
       "4    [hindi, language, movies, bollywood, comedies,...  \n",
       "..                                                 ...  \n",
       "219                                                 []  \n",
       "220                                                 []  \n",
       "221                                                 []  \n",
       "222                                                 []  \n",
       "223                                                 []  \n",
       "\n",
       "[290 rows x 3 columns]"
      ]
     },
     "execution_count": 195,
     "metadata": {},
     "output_type": "execute_result"
    }
   ],
   "source": [
    "reco_df"
   ]
  },
  {
   "cell_type": "code",
   "execution_count": 196,
   "metadata": {},
   "outputs": [],
   "source": [
    "columns = reco_df.columns[1:]\n",
    "reco_df['bag_of_words'] = \"\"\n",
    "\n",
    "for index, row in reco_df.iterrows():\n",
    "    words = ''\n",
    "    for col in columns:\n",
    "        if col != 'cast':\n",
    "            # to convert the list into a string of words separated by a space\n",
    "            words = words + ' '.join(row[col])+ ' '\n",
    "    row['bag_of_words'] = words\n",
    "\n",
    "# let's keep only the title and the bag of words in the dataframe\n",
    "reco_df = reco_df[['names','bag_of_words']]"
   ]
  },
  {
   "cell_type": "code",
   "execution_count": 197,
   "metadata": {},
   "outputs": [
    {
     "data": {
      "text/plain": [
       "'spy movies hindi language bollywood action adventure '"
      ]
     },
     "execution_count": 197,
     "metadata": {},
     "output_type": "execute_result"
    }
   ],
   "source": [
    "# without data processing, it has [, ] and , \n",
    "reco_df['bag_of_words'].iloc[0]"
   ]
  },
  {
   "cell_type": "code",
   "execution_count": 198,
   "metadata": {},
   "outputs": [
    {
     "data": {
      "text/html": [
       "<div>\n",
       "<style scoped>\n",
       "    .dataframe tbody tr th:only-of-type {\n",
       "        vertical-align: middle;\n",
       "    }\n",
       "\n",
       "    .dataframe tbody tr th {\n",
       "        vertical-align: top;\n",
       "    }\n",
       "\n",
       "    .dataframe thead th {\n",
       "        text-align: right;\n",
       "    }\n",
       "</style>\n",
       "<table border=\"1\" class=\"dataframe\">\n",
       "  <thead>\n",
       "    <tr style=\"text-align: right;\">\n",
       "      <th></th>\n",
       "      <th>names</th>\n",
       "      <th>bag_of_words</th>\n",
       "    </tr>\n",
       "  </thead>\n",
       "  <tbody>\n",
       "    <tr>\n",
       "      <th>0</th>\n",
       "      <td>Mission Majnu</td>\n",
       "      <td>spy movies hindi language bollywood action adv...</td>\n",
       "    </tr>\n",
       "    <tr>\n",
       "      <th>1</th>\n",
       "      <td>Cirkus</td>\n",
       "      <td>hindi language movies bollywood comedies</td>\n",
       "    </tr>\n",
       "    <tr>\n",
       "      <th>2</th>\n",
       "      <td>Gangubai Kathiawadi</td>\n",
       "      <td>hindi language movies based books dramas</td>\n",
       "    </tr>\n",
       "    <tr>\n",
       "      <th>3</th>\n",
       "      <td>Thunivu</td>\n",
       "      <td>crime movies action adventure</td>\n",
       "    </tr>\n",
       "    <tr>\n",
       "      <th>4</th>\n",
       "      <td>Bhool Bhulaiyaa 2</td>\n",
       "      <td>hindi language movies bollywood comedies horror</td>\n",
       "    </tr>\n",
       "  </tbody>\n",
       "</table>\n",
       "</div>"
      ],
      "text/plain": [
       "                 names                                       bag_of_words\n",
       "0        Mission Majnu  spy movies hindi language bollywood action adv...\n",
       "1               Cirkus          hindi language movies bollywood comedies \n",
       "2  Gangubai Kathiawadi          hindi language movies based books dramas \n",
       "3              Thunivu                     crime movies action adventure \n",
       "4    Bhool Bhulaiyaa 2   hindi language movies bollywood comedies horror "
      ]
     },
     "execution_count": 198,
     "metadata": {},
     "output_type": "execute_result"
    }
   ],
   "source": [
    "reco_df.head()"
   ]
  },
  {
   "cell_type": "code",
   "execution_count": 199,
   "metadata": {},
   "outputs": [],
   "source": [
    "# instantiating and generating the count matrix\n",
    "count = CountVectorizer()\n",
    "count_matrix = count.fit_transform(reco_df['bag_of_words'])"
   ]
  },
  {
   "cell_type": "code",
   "execution_count": 200,
   "metadata": {},
   "outputs": [],
   "source": [
    "count = CountVectorizer()\n",
    "count_matrix = count.fit_transform(reco_df['bag_of_words'])"
   ]
  },
  {
   "cell_type": "code",
   "execution_count": 201,
   "metadata": {},
   "outputs": [
    {
     "data": {
      "text/plain": [
       "0          Mission Majnu\n",
       "1                 Cirkus\n",
       "2    Gangubai Kathiawadi\n",
       "3                Thunivu\n",
       "4      Bhool Bhulaiyaa 2\n",
       "Name: names, dtype: object"
      ]
     },
     "execution_count": 201,
     "metadata": {},
     "output_type": "execute_result"
    }
   ],
   "source": [
    "# creating a Series for the movie titles so they are associated to an ordered numerical\n",
    "# list that can be used to match the indexes\n",
    "indices = pd.Series(reco_df['names'])\n",
    "indices[:5]"
   ]
  },
  {
   "cell_type": "code",
   "execution_count": 202,
   "metadata": {},
   "outputs": [
    {
     "data": {
      "text/plain": [
       "0          Mission Majnu\n",
       "1                 Cirkus\n",
       "2    Gangubai Kathiawadi\n",
       "3                Thunivu\n",
       "4      Bhool Bhulaiyaa 2\n",
       "Name: names, dtype: object"
      ]
     },
     "execution_count": 202,
     "metadata": {},
     "output_type": "execute_result"
    }
   ],
   "source": [
    "# creating a Series for the movie titles so they are associated to an ordered numerical\n",
    "# list that can be used to match the indexes\n",
    "indices = pd.Series(reco_df['names'])\n",
    "indices[:5]"
   ]
  },
  {
   "cell_type": "code",
   "execution_count": 203,
   "metadata": {},
   "outputs": [
    {
     "name": "stdout",
     "output_type": "stream",
     "text": [
      "[[1.         0.6761234  0.46291005 ... 0.         0.         0.        ]\n",
      " [0.6761234  1.         0.54772256 ... 0.         0.         0.        ]\n",
      " [0.46291005 0.54772256 1.         ... 0.         0.         0.        ]\n",
      " ...\n",
      " [0.         0.         0.         ... 0.         0.         0.        ]\n",
      " [0.         0.         0.         ... 0.         0.         0.        ]\n",
      " [0.         0.         0.         ... 0.         0.         0.        ]]\n"
     ]
    }
   ],
   "source": [
    "# generating the cosine similarity matrix\n",
    "cosine_sim = cosine_similarity(count_matrix, count_matrix)\n",
    "print(cosine_sim)"
   ]
  },
  {
   "cell_type": "code",
   "execution_count": 204,
   "metadata": {},
   "outputs": [],
   "source": [
    "# function that takes in movie title as input and returns the top 10 recommended movies\n",
    "def recommendations(title, cosine_sim = cosine_sim):\n",
    "    \n",
    "    recommended_movies = []\n",
    "    \n",
    "    # getting the index of the movie that matches the title\n",
    "    idx = indices[indices == title].index[0]\n",
    "\n",
    "    # creating a Series with the similarity scores in descending order\n",
    "    score_series = pd.Series(cosine_sim[idx]).sort_values(ascending = False)\n",
    "\n",
    "    # getting the indexes of the 10 most similar movies\n",
    "    top_10_indexes = list(score_series.iloc[1:11].index)\n",
    "    \n",
    "    # populating the list with the titles of the best 10 matching movies\n",
    "    for i in top_10_indexes:\n",
    "        recommended_movies.append(list(reco_df['names'])[i])\n",
    "        \n",
    "    return recommended_movies"
   ]
  },
  {
   "cell_type": "code",
   "execution_count": 205,
   "metadata": {},
   "outputs": [
    {
     "data": {
      "text/plain": [
       "['Force 2',\n",
       " 'Codename: Tiranga',\n",
       " 'Saaho',\n",
       " 'Happy New Year',\n",
       " 'Gunjan Saxena: The Kargil Girl',\n",
       " 'Sooryavanshi',\n",
       " 'Don 2',\n",
       " 'An Action Hero',\n",
       " 'Malang',\n",
       " 'Gabbar Is Back']"
      ]
     },
     "execution_count": 205,
     "metadata": {},
     "output_type": "execute_result"
    }
   ],
   "source": [
    "recommendations('Mission Majnu')"
   ]
  },
  {
   "cell_type": "code",
   "execution_count": 206,
   "metadata": {},
   "outputs": [
    {
     "data": {
      "text/html": [
       "<div>\n",
       "<style scoped>\n",
       "    .dataframe tbody tr th:only-of-type {\n",
       "        vertical-align: middle;\n",
       "    }\n",
       "\n",
       "    .dataframe tbody tr th {\n",
       "        vertical-align: top;\n",
       "    }\n",
       "\n",
       "    .dataframe thead th {\n",
       "        text-align: right;\n",
       "    }\n",
       "</style>\n",
       "<table border=\"1\" class=\"dataframe\">\n",
       "  <thead>\n",
       "    <tr style=\"text-align: right;\">\n",
       "      <th></th>\n",
       "      <th>names</th>\n",
       "      <th>bag_of_words</th>\n",
       "    </tr>\n",
       "  </thead>\n",
       "  <tbody>\n",
       "    <tr>\n",
       "      <th>0</th>\n",
       "      <td>Mission Majnu</td>\n",
       "      <td>spy movies hindi language bollywood action adv...</td>\n",
       "    </tr>\n",
       "  </tbody>\n",
       "</table>\n",
       "</div>"
      ],
      "text/plain": [
       "           names                                       bag_of_words\n",
       "0  Mission Majnu  spy movies hindi language bollywood action adv..."
      ]
     },
     "execution_count": 206,
     "metadata": {},
     "output_type": "execute_result"
    }
   ],
   "source": [
    "# the genre for mission majnu is spy movies, hindi and bollywood\n",
    "reco_df[reco_df['names'] == 'Mission Majnu']"
   ]
  },
  {
   "cell_type": "code",
   "execution_count": 207,
   "metadata": {},
   "outputs": [
    {
     "data": {
      "text/html": [
       "<div>\n",
       "<style scoped>\n",
       "    .dataframe tbody tr th:only-of-type {\n",
       "        vertical-align: middle;\n",
       "    }\n",
       "\n",
       "    .dataframe tbody tr th {\n",
       "        vertical-align: top;\n",
       "    }\n",
       "\n",
       "    .dataframe thead th {\n",
       "        text-align: right;\n",
       "    }\n",
       "</style>\n",
       "<table border=\"1\" class=\"dataframe\">\n",
       "  <thead>\n",
       "    <tr style=\"text-align: right;\">\n",
       "      <th></th>\n",
       "      <th>names</th>\n",
       "      <th>bag_of_words</th>\n",
       "    </tr>\n",
       "  </thead>\n",
       "  <tbody>\n",
       "    <tr>\n",
       "      <th>153</th>\n",
       "      <td>Force 2</td>\n",
       "      <td>spy movies hindi language bollywood action adv...</td>\n",
       "    </tr>\n",
       "  </tbody>\n",
       "</table>\n",
       "</div>"
      ],
      "text/plain": [
       "       names                                       bag_of_words\n",
       "153  Force 2  spy movies hindi language bollywood action adv..."
      ]
     },
     "execution_count": 207,
     "metadata": {},
     "output_type": "execute_result"
    }
   ],
   "source": [
    "# the genre for Mission: Impossible - Fallout is spy, US and action & adventure\n",
    "reco_df[reco_df['names'] == 'Force 2']\n"
   ]
  },
  {
   "cell_type": "code",
   "execution_count": 208,
   "metadata": {},
   "outputs": [
    {
     "data": {
      "text/html": [
       "<div>\n",
       "<style scoped>\n",
       "    .dataframe tbody tr th:only-of-type {\n",
       "        vertical-align: middle;\n",
       "    }\n",
       "\n",
       "    .dataframe tbody tr th {\n",
       "        vertical-align: top;\n",
       "    }\n",
       "\n",
       "    .dataframe thead th {\n",
       "        text-align: right;\n",
       "    }\n",
       "</style>\n",
       "<table border=\"1\" class=\"dataframe\">\n",
       "  <thead>\n",
       "    <tr style=\"text-align: right;\">\n",
       "      <th></th>\n",
       "      <th>names</th>\n",
       "      <th>bag_of_words</th>\n",
       "    </tr>\n",
       "  </thead>\n",
       "  <tbody>\n",
       "    <tr>\n",
       "      <th>22</th>\n",
       "      <td>Don 2</td>\n",
       "      <td>hindi language movies bollywood crime action a...</td>\n",
       "    </tr>\n",
       "  </tbody>\n",
       "</table>\n",
       "</div>"
      ],
      "text/plain": [
       "    names                                       bag_of_words\n",
       "22  Don 2  hindi language movies bollywood crime action a..."
      ]
     },
     "execution_count": 208,
     "metadata": {},
     "output_type": "execute_result"
    }
   ],
   "source": [
    "reco_df[reco_df['names'] == 'Don 2']\n"
   ]
  },
  {
   "attachments": {},
   "cell_type": "markdown",
   "metadata": {},
   "source": [
    "It can be seen that movie which are quite similar in genre to Mission Majnu are Force 2',\n",
    " 'Codename: Tiranga',\n",
    " 'Saaho',\n",
    " 'Happy New Year',\n",
    " 'Gunjan Saxena: The Kargil Girl',\n",
    " 'Sooryavanshi',\n",
    " 'Don 2',\n",
    " 'An Action Hero',\n",
    " 'Malang',\n",
    " 'Gabbar Is Back'"
   ]
  },
  {
   "attachments": {},
   "cell_type": "markdown",
   "metadata": {},
   "source": [
    "<h1> To recommend shows casted by an actress </h1>"
   ]
  },
  {
   "cell_type": "markdown",
   "metadata": {},
   "source": []
  }
 ],
 "metadata": {
  "kernelspec": {
   "display_name": "base",
   "language": "python",
   "name": "python3"
  },
  "language_info": {
   "codemirror_mode": {
    "name": "ipython",
    "version": 3
   },
   "file_extension": ".py",
   "mimetype": "text/x-python",
   "name": "python",
   "nbconvert_exporter": "python",
   "pygments_lexer": "ipython3",
   "version": "3.8.8"
  },
  "orig_nbformat": 4,
  "vscode": {
   "interpreter": {
    "hash": "2f3e35b66d79550c77d3d7d3ff2437bb1667c324982b6e3bb81b1a6f02c3c690"
   }
  }
 },
 "nbformat": 4,
 "nbformat_minor": 2
}
