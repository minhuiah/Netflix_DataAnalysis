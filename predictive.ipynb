{
 "cells": [
  {
   "cell_type": "code",
   "execution_count": 3,
   "metadata": {},
   "outputs": [],
   "source": [
    "import pandas as pd \n",
    "import numpy as np\n",
    "import matplotlib.pyplot as plt\n",
    "import plotly.express as px\n",
    "from rake_nltk import Rake\n",
    "from sklearn.metrics.pairwise import cosine_similarity\n",
    "from sklearn.feature_extraction.text import CountVectorizer\n"
   ]
  },
  {
   "cell_type": "code",
   "execution_count": 4,
   "metadata": {},
   "outputs": [],
   "source": [
    "netflix_data = pd.read_csv('netfix_cleaned.csv')"
   ]
  },
  {
   "cell_type": "code",
   "execution_count": 248,
   "metadata": {},
   "outputs": [
    {
     "data": {
      "text/html": [
       "<div>\n",
       "<style scoped>\n",
       "    .dataframe tbody tr th:only-of-type {\n",
       "        vertical-align: middle;\n",
       "    }\n",
       "\n",
       "    .dataframe tbody tr th {\n",
       "        vertical-align: top;\n",
       "    }\n",
       "\n",
       "    .dataframe thead th {\n",
       "        text-align: right;\n",
       "    }\n",
       "</style>\n",
       "<table border=\"1\" class=\"dataframe\">\n",
       "  <thead>\n",
       "    <tr style=\"text-align: right;\">\n",
       "      <th></th>\n",
       "      <th>names</th>\n",
       "      <th>release_year</th>\n",
       "      <th>maturity_rating</th>\n",
       "      <th>duration</th>\n",
       "      <th>description</th>\n",
       "      <th>genre</th>\n",
       "      <th>mood</th>\n",
       "      <th>cast</th>\n",
       "      <th>subtitles</th>\n",
       "      <th>audio</th>\n",
       "    </tr>\n",
       "  </thead>\n",
       "  <tbody>\n",
       "    <tr>\n",
       "      <th>0</th>\n",
       "      <td>Mission Majnu</td>\n",
       "      <td>2023</td>\n",
       "      <td>U/A 16+</td>\n",
       "      <td>2h 9m</td>\n",
       "      <td>In the 1970s, an undercover Indian spy takes o...</td>\n",
       "      <td>['Spy Movies', 'Hindi-Language Movies', 'Bolly...</td>\n",
       "      <td>Suspenseful</td>\n",
       "      <td>['Sidharth Malhotra', 'Rashmika Mandanna', 'Pa...</td>\n",
       "      <td>['English,', 'English,', 'Hindi']</td>\n",
       "      <td>['English,', 'Hindi - Audio Description,', 'Hi...</td>\n",
       "    </tr>\n",
       "    <tr>\n",
       "      <th>1</th>\n",
       "      <td>Cirkus</td>\n",
       "      <td>2022</td>\n",
       "      <td>U/A 7+</td>\n",
       "      <td>2h 14m</td>\n",
       "      <td>Chaos and comedy take the spotlight when a rin...</td>\n",
       "      <td>['Hindi-Language Movies', 'Bollywood Movies', ...</td>\n",
       "      <td>Goofy</td>\n",
       "      <td>['Ranveer Singh', 'Varun Sharma', 'Pooja Hegde...</td>\n",
       "      <td>['English,', 'Hindi']</td>\n",
       "      <td>['Hindi [Original]']</td>\n",
       "    </tr>\n",
       "    <tr>\n",
       "      <th>2</th>\n",
       "      <td>Gangubai Kathiawadi</td>\n",
       "      <td>2022</td>\n",
       "      <td>U/A 16+</td>\n",
       "      <td>2h 33m</td>\n",
       "      <td>Duped and sold to a brothel, a young woman fea...</td>\n",
       "      <td>['Hindi-Language Movies', 'Movies Based on Boo...</td>\n",
       "      <td>Provocative</td>\n",
       "      <td>['Alia Bhatt', 'Vijay Raaz', 'Seema Pahwa', 'A...</td>\n",
       "      <td>['English,', 'Hindi']</td>\n",
       "      <td>['Hindi [Original],', 'Telugu']</td>\n",
       "    </tr>\n",
       "    <tr>\n",
       "      <th>3</th>\n",
       "      <td>Thunivu</td>\n",
       "      <td>2023</td>\n",
       "      <td>U/A 16+</td>\n",
       "      <td>2h 22m</td>\n",
       "      <td>A major bank heist takes an unnerving turn whe...</td>\n",
       "      <td>['Crime Movies', 'Action &amp; Adventure']</td>\n",
       "      <td>Exciting</td>\n",
       "      <td>['Ajith Kumar', 'Manju Warrier', 'Samuthirakan...</td>\n",
       "      <td>['English,', 'Hindi']</td>\n",
       "      <td>['Tamil [Original]']</td>\n",
       "    </tr>\n",
       "    <tr>\n",
       "      <th>4</th>\n",
       "      <td>Bhool Bhulaiyaa 2</td>\n",
       "      <td>2022</td>\n",
       "      <td>U/A 13+</td>\n",
       "      <td>2h 21m</td>\n",
       "      <td>When strangers Reet and Ruhan cross paths, the...</td>\n",
       "      <td>['Hindi-Language Movies', 'Bollywood Movies', ...</td>\n",
       "      <td>Offbeat</td>\n",
       "      <td>['Tabu', 'Kartik Aaryan', 'Kiara Advani', 'Raj...</td>\n",
       "      <td>['English,', 'Hindi']</td>\n",
       "      <td>['Hindi [Original]']</td>\n",
       "    </tr>\n",
       "  </tbody>\n",
       "</table>\n",
       "</div>"
      ],
      "text/plain": [
       "                 names  release_year maturity_rating duration  \\\n",
       "0        Mission Majnu          2023        U/A 16+     2h 9m   \n",
       "1               Cirkus          2022         U/A 7+    2h 14m   \n",
       "2  Gangubai Kathiawadi          2022        U/A 16+    2h 33m   \n",
       "3              Thunivu          2023        U/A 16+    2h 22m   \n",
       "4    Bhool Bhulaiyaa 2          2022        U/A 13+    2h 21m   \n",
       "\n",
       "                                         description  \\\n",
       "0  In the 1970s, an undercover Indian spy takes o...   \n",
       "1  Chaos and comedy take the spotlight when a rin...   \n",
       "2  Duped and sold to a brothel, a young woman fea...   \n",
       "3  A major bank heist takes an unnerving turn whe...   \n",
       "4  When strangers Reet and Ruhan cross paths, the...   \n",
       "\n",
       "                                               genre         mood  \\\n",
       "0  ['Spy Movies', 'Hindi-Language Movies', 'Bolly...  Suspenseful   \n",
       "1  ['Hindi-Language Movies', 'Bollywood Movies', ...        Goofy   \n",
       "2  ['Hindi-Language Movies', 'Movies Based on Boo...  Provocative   \n",
       "3             ['Crime Movies', 'Action & Adventure']     Exciting   \n",
       "4  ['Hindi-Language Movies', 'Bollywood Movies', ...      Offbeat   \n",
       "\n",
       "                                                cast  \\\n",
       "0  ['Sidharth Malhotra', 'Rashmika Mandanna', 'Pa...   \n",
       "1  ['Ranveer Singh', 'Varun Sharma', 'Pooja Hegde...   \n",
       "2  ['Alia Bhatt', 'Vijay Raaz', 'Seema Pahwa', 'A...   \n",
       "3  ['Ajith Kumar', 'Manju Warrier', 'Samuthirakan...   \n",
       "4  ['Tabu', 'Kartik Aaryan', 'Kiara Advani', 'Raj...   \n",
       "\n",
       "                           subtitles  \\\n",
       "0  ['English,', 'English,', 'Hindi']   \n",
       "1              ['English,', 'Hindi']   \n",
       "2              ['English,', 'Hindi']   \n",
       "3              ['English,', 'Hindi']   \n",
       "4              ['English,', 'Hindi']   \n",
       "\n",
       "                                               audio  \n",
       "0  ['English,', 'Hindi - Audio Description,', 'Hi...  \n",
       "1                               ['Hindi [Original]']  \n",
       "2                    ['Hindi [Original],', 'Telugu']  \n",
       "3                               ['Tamil [Original]']  \n",
       "4                               ['Hindi [Original]']  "
      ]
     },
     "execution_count": 248,
     "metadata": {},
     "output_type": "execute_result"
    }
   ],
   "source": [
    "netflix_data.head()"
   ]
  },
  {
   "cell_type": "code",
   "execution_count": 249,
   "metadata": {},
   "outputs": [
    {
     "data": {
      "text/html": [
       "<div>\n",
       "<style scoped>\n",
       "    .dataframe tbody tr th:only-of-type {\n",
       "        vertical-align: middle;\n",
       "    }\n",
       "\n",
       "    .dataframe tbody tr th {\n",
       "        vertical-align: top;\n",
       "    }\n",
       "\n",
       "    .dataframe thead th {\n",
       "        text-align: right;\n",
       "    }\n",
       "</style>\n",
       "<table border=\"1\" class=\"dataframe\">\n",
       "  <thead>\n",
       "    <tr style=\"text-align: right;\">\n",
       "      <th></th>\n",
       "      <th>release_year</th>\n",
       "    </tr>\n",
       "  </thead>\n",
       "  <tbody>\n",
       "    <tr>\n",
       "      <th>count</th>\n",
       "      <td>560.000000</td>\n",
       "    </tr>\n",
       "    <tr>\n",
       "      <th>mean</th>\n",
       "      <td>2016.521429</td>\n",
       "    </tr>\n",
       "    <tr>\n",
       "      <th>std</th>\n",
       "      <td>6.282517</td>\n",
       "    </tr>\n",
       "    <tr>\n",
       "      <th>min</th>\n",
       "      <td>1993.000000</td>\n",
       "    </tr>\n",
       "    <tr>\n",
       "      <th>25%</th>\n",
       "      <td>2012.000000</td>\n",
       "    </tr>\n",
       "    <tr>\n",
       "      <th>50%</th>\n",
       "      <td>2019.000000</td>\n",
       "    </tr>\n",
       "    <tr>\n",
       "      <th>75%</th>\n",
       "      <td>2022.000000</td>\n",
       "    </tr>\n",
       "    <tr>\n",
       "      <th>max</th>\n",
       "      <td>2023.000000</td>\n",
       "    </tr>\n",
       "  </tbody>\n",
       "</table>\n",
       "</div>"
      ],
      "text/plain": [
       "       release_year\n",
       "count    560.000000\n",
       "mean    2016.521429\n",
       "std        6.282517\n",
       "min     1993.000000\n",
       "25%     2012.000000\n",
       "50%     2019.000000\n",
       "75%     2022.000000\n",
       "max     2023.000000"
      ]
     },
     "execution_count": 249,
     "metadata": {},
     "output_type": "execute_result"
    }
   ],
   "source": [
    "netflix_data.describe()"
   ]
  },
  {
   "cell_type": "code",
   "execution_count": 250,
   "metadata": {},
   "outputs": [
    {
     "name": "stdout",
     "output_type": "stream",
     "text": [
      "['mood']\n"
     ]
    }
   ],
   "source": [
    "#finding if there is any nan column\n",
    "nans_indices = netflix_data.columns[netflix_data.isna().any()].tolist()\n",
    "print(nans_indices)"
   ]
  },
  {
   "cell_type": "code",
   "execution_count": 251,
   "metadata": {},
   "outputs": [],
   "source": [
    "#drop duplicate entry\n",
    "netflix_data.drop_duplicates(subset=\"names\", inplace=True)"
   ]
  },
  {
   "cell_type": "code",
   "execution_count": 252,
   "metadata": {},
   "outputs": [
    {
     "data": {
      "text/plain": [
       "(245, 10)"
      ]
     },
     "execution_count": 252,
     "metadata": {},
     "output_type": "execute_result"
    }
   ],
   "source": [
    "# to check if there is duplicate entry\n",
    "netflix_data.shape"
   ]
  },
  {
   "cell_type": "code",
   "execution_count": 253,
   "metadata": {},
   "outputs": [],
   "source": [
    "netflix_data.dropna(inplace=True)"
   ]
  },
  {
   "cell_type": "code",
   "execution_count": 254,
   "metadata": {},
   "outputs": [
    {
     "data": {
      "text/plain": [
       "array(['Suspenseful', 'Goofy', 'Provocative', 'Exciting', 'Offbeat',\n",
       "       'Quirky', 'Feel-Good', 'Emotional', 'Heartfelt', 'Ominous',\n",
       "       'Sentimental', 'Adrenaline Rush', 'Dark', 'Intimate', 'Charming',\n",
       "       'Violent', 'Gritty', 'Romantic', 'Scary', 'Witty', 'Mind-Bending',\n",
       "       'Steamy', 'Understated', 'Swoonworthy', 'Bittersweet', 'Inspiring',\n",
       "       'Raunchy', 'Chilling'], dtype=object)"
      ]
     },
     "execution_count": 254,
     "metadata": {},
     "output_type": "execute_result"
    }
   ],
   "source": [
    "# netflix_data['mood'].values\n",
    "netflix_data['mood'].unique()"
   ]
  },
  {
   "cell_type": "code",
   "execution_count": 255,
   "metadata": {},
   "outputs": [
    {
     "data": {
      "text/plain": [
       "names              0\n",
       "release_year       0\n",
       "maturity_rating    0\n",
       "duration           0\n",
       "description        0\n",
       "genre              0\n",
       "mood               0\n",
       "cast               0\n",
       "subtitles          0\n",
       "audio              0\n",
       "dtype: int64"
      ]
     },
     "execution_count": 255,
     "metadata": {},
     "output_type": "execute_result"
    }
   ],
   "source": [
    "netflix_data.isnull().sum()"
   ]
  },
  {
   "attachments": {},
   "cell_type": "markdown",
   "metadata": {},
   "source": [
    "<h1>Grouping Movies based on Mood</h1>"
   ]
  },
  {
   "cell_type": "code",
   "execution_count": 256,
   "metadata": {},
   "outputs": [
    {
     "name": "stdout",
     "output_type": "stream",
     "text": [
      "[40 18 17 17 16 13 12 11 10  8  7  6  6  5  5  5  5  5  3  3  3  2  2  2\n",
      "  1  1  1  1]\n"
     ]
    },
    {
     "data": {
      "image/png": "[encoded data removed]",
      "text/plain": [
       "<Figure size 540x252 with 1 Axes>"
      ]
     },
     "metadata": {
      "needs_background": "light"
     },
     "output_type": "display_data"
    }
   ],
   "source": [
    "mood = ['Suspenseful', 'Goofy', 'Provocative', 'Exciting', 'Offbeat',\n",
    "       'Quirky', 'Feel-Good', 'Emotional', 'Heartfelt', 'Ominous',\n",
    "       'Sentimental', 'Adrenaline Rush', 'Dark', 'Intimate', 'Charming',\n",
    "       'Violent', 'Gritty', 'Romantic', 'Scary', 'Witty', 'Mind-Bending',\n",
    "       'Steamy', 'Understated', 'Swoonworthy', 'Bittersweet', 'Inspiring',\n",
    "       'Raunchy', 'Chilling']\n",
    "\n",
    "counts = [29, 41, 2, 93, 15, 22,  32, 48, 36, 16,  18, 45, 13, 8, 5, 20, 10, 4, 4, 19, 14, 2, 1, 1, 4, 7,  2, 6]\n",
    "\n",
    "y = np.array(netflix_data['mood'].value_counts())\n",
    "print(y)\n",
    "\n",
    "fig, ax = plt.subplots()\n",
    "ax.bar(mood,counts)\n",
    "\n",
    "ax.set_ylabel('Count')\n",
    "ax.set_title('Movie Count Based on Mood')\n",
    "plt.xticks(rotation=90)\n",
    "plt.show()"
   ]
  },
  {
   "attachments": {},
   "cell_type": "markdown",
   "metadata": {},
   "source": [
    "<h1>Finding Movies Released in 2023</h1>"
   ]
  },
  {
   "cell_type": "code",
   "execution_count": 257,
   "metadata": {},
   "outputs": [
    {
     "data": {
      "text/html": [
       "<div>\n",
       "<style scoped>\n",
       "    .dataframe tbody tr th:only-of-type {\n",
       "        vertical-align: middle;\n",
       "    }\n",
       "\n",
       "    .dataframe tbody tr th {\n",
       "        vertical-align: top;\n",
       "    }\n",
       "\n",
       "    .dataframe thead th {\n",
       "        text-align: right;\n",
       "    }\n",
       "</style>\n",
       "<table border=\"1\" class=\"dataframe\">\n",
       "  <thead>\n",
       "    <tr style=\"text-align: right;\">\n",
       "      <th></th>\n",
       "      <th>names</th>\n",
       "      <th>release_year</th>\n",
       "      <th>maturity_rating</th>\n",
       "      <th>duration</th>\n",
       "      <th>description</th>\n",
       "      <th>genre</th>\n",
       "      <th>mood</th>\n",
       "      <th>cast</th>\n",
       "      <th>subtitles</th>\n",
       "      <th>audio</th>\n",
       "    </tr>\n",
       "  </thead>\n",
       "  <tbody>\n",
       "    <tr>\n",
       "      <th>0</th>\n",
       "      <td>Mission Majnu</td>\n",
       "      <td>2023</td>\n",
       "      <td>U/A 16+</td>\n",
       "      <td>2h 9m</td>\n",
       "      <td>In the 1970s, an undercover Indian spy takes o...</td>\n",
       "      <td>['Spy Movies', 'Hindi-Language Movies', 'Bolly...</td>\n",
       "      <td>Suspenseful</td>\n",
       "      <td>['Sidharth Malhotra', 'Rashmika Mandanna', 'Pa...</td>\n",
       "      <td>['English,', 'English,', 'Hindi']</td>\n",
       "      <td>['English,', 'Hindi - Audio Description,', 'Hi...</td>\n",
       "    </tr>\n",
       "    <tr>\n",
       "      <th>3</th>\n",
       "      <td>Thunivu</td>\n",
       "      <td>2023</td>\n",
       "      <td>U/A 16+</td>\n",
       "      <td>2h 22m</td>\n",
       "      <td>A major bank heist takes an unnerving turn whe...</td>\n",
       "      <td>['Crime Movies', 'Action &amp; Adventure']</td>\n",
       "      <td>Exciting</td>\n",
       "      <td>['Ajith Kumar', 'Manju Warrier', 'Samuthirakan...</td>\n",
       "      <td>['English,', 'Hindi']</td>\n",
       "      <td>['Tamil [Original]']</td>\n",
       "    </tr>\n",
       "    <tr>\n",
       "      <th>36</th>\n",
       "      <td>Nanpakal Nerathu Mayakkam</td>\n",
       "      <td>2023</td>\n",
       "      <td>U/A 13+</td>\n",
       "      <td>1h 47m</td>\n",
       "      <td>In this Malayalam-Tamil drama, an irritable Ja...</td>\n",
       "      <td>['Dramas']</td>\n",
       "      <td>Intimate</td>\n",
       "      <td>['Mammootty', 'Ramya Suvi', 'Ramya Pandian', '...</td>\n",
       "      <td>['English']</td>\n",
       "      <td>['Hindi,', 'Malayalam [Original],', 'Telugu']</td>\n",
       "    </tr>\n",
       "    <tr>\n",
       "      <th>175</th>\n",
       "      <td>Call Me Chihiro</td>\n",
       "      <td>2023</td>\n",
       "      <td>U/A 16+</td>\n",
       "      <td>2h 11m</td>\n",
       "      <td>An unapologetic former sex worker starts worki...</td>\n",
       "      <td>['Dramas']</td>\n",
       "      <td>Understated</td>\n",
       "      <td>['Kasumi Arimura', 'Hana Toyoshima', 'Tetta Sh...</td>\n",
       "      <td>['English,', 'English,', 'French,', 'Japanese']</td>\n",
       "      <td>['English,', 'Japanese - Audio Description,', ...</td>\n",
       "    </tr>\n",
       "    <tr>\n",
       "      <th>179</th>\n",
       "      <td>The Strays</td>\n",
       "      <td>2023</td>\n",
       "      <td>U/A 16+</td>\n",
       "      <td>1h 37m</td>\n",
       "      <td>A woman's meticulously crafted life of privile...</td>\n",
       "      <td>['Dramas', 'Thriller Movies']</td>\n",
       "      <td>Ominous</td>\n",
       "      <td>['Ashley Madekwe', 'Jorden Myrie', 'Bukky Bakr...</td>\n",
       "      <td>['English']</td>\n",
       "      <td>['English - Audio Description,', 'English [Ori...</td>\n",
       "    </tr>\n",
       "    <tr>\n",
       "      <th>181</th>\n",
       "      <td>We Have a Ghost</td>\n",
       "      <td>2023</td>\n",
       "      <td>U/A 13+</td>\n",
       "      <td>2h 7m</td>\n",
       "      <td>After finding a ghost with a murky past haunti...</td>\n",
       "      <td>['Family Features', 'US Movies', 'Teen Movies'...</td>\n",
       "      <td>Heartfelt</td>\n",
       "      <td>['David Harbour', 'Anthony Mackie', \"Jahi Di'A...</td>\n",
       "      <td>['English']</td>\n",
       "      <td>['English - Audio Description,', 'English [Ori...</td>\n",
       "    </tr>\n",
       "    <tr>\n",
       "      <th>193</th>\n",
       "      <td>Dog Gone</td>\n",
       "      <td>2023</td>\n",
       "      <td>U/A 7+</td>\n",
       "      <td>1h 35m</td>\n",
       "      <td>When his beloved dog goes missing, a young man...</td>\n",
       "      <td>['Family Features', 'Movies Based on Real Life...</td>\n",
       "      <td>Inspiring</td>\n",
       "      <td>['Rob Lowe', 'Johnny Berchtold', 'Kimberly Wil...</td>\n",
       "      <td>['English']</td>\n",
       "      <td>['English - Audio Description,', 'English [Ori...</td>\n",
       "    </tr>\n",
       "  </tbody>\n",
       "</table>\n",
       "</div>"
      ],
      "text/plain": [
       "                         names  release_year maturity_rating duration  \\\n",
       "0                Mission Majnu          2023        U/A 16+     2h 9m   \n",
       "3                      Thunivu          2023        U/A 16+    2h 22m   \n",
       "36   Nanpakal Nerathu Mayakkam          2023        U/A 13+    1h 47m   \n",
       "175            Call Me Chihiro          2023        U/A 16+    2h 11m   \n",
       "179                 The Strays          2023        U/A 16+    1h 37m   \n",
       "181            We Have a Ghost          2023        U/A 13+     2h 7m   \n",
       "193                   Dog Gone          2023         U/A 7+    1h 35m   \n",
       "\n",
       "                                           description  \\\n",
       "0    In the 1970s, an undercover Indian spy takes o...   \n",
       "3    A major bank heist takes an unnerving turn whe...   \n",
       "36   In this Malayalam-Tamil drama, an irritable Ja...   \n",
       "175  An unapologetic former sex worker starts worki...   \n",
       "179  A woman's meticulously crafted life of privile...   \n",
       "181  After finding a ghost with a murky past haunti...   \n",
       "193  When his beloved dog goes missing, a young man...   \n",
       "\n",
       "                                                 genre         mood  \\\n",
       "0    ['Spy Movies', 'Hindi-Language Movies', 'Bolly...  Suspenseful   \n",
       "3               ['Crime Movies', 'Action & Adventure']     Exciting   \n",
       "36                                          ['Dramas']     Intimate   \n",
       "175                                         ['Dramas']  Understated   \n",
       "179                      ['Dramas', 'Thriller Movies']      Ominous   \n",
       "181  ['Family Features', 'US Movies', 'Teen Movies'...    Heartfelt   \n",
       "193  ['Family Features', 'Movies Based on Real Life...    Inspiring   \n",
       "\n",
       "                                                  cast  \\\n",
       "0    ['Sidharth Malhotra', 'Rashmika Mandanna', 'Pa...   \n",
       "3    ['Ajith Kumar', 'Manju Warrier', 'Samuthirakan...   \n",
       "36   ['Mammootty', 'Ramya Suvi', 'Ramya Pandian', '...   \n",
       "175  ['Kasumi Arimura', 'Hana Toyoshima', 'Tetta Sh...   \n",
       "179  ['Ashley Madekwe', 'Jorden Myrie', 'Bukky Bakr...   \n",
       "181  ['David Harbour', 'Anthony Mackie', \"Jahi Di'A...   \n",
       "193  ['Rob Lowe', 'Johnny Berchtold', 'Kimberly Wil...   \n",
       "\n",
       "                                           subtitles  \\\n",
       "0                  ['English,', 'English,', 'Hindi']   \n",
       "3                              ['English,', 'Hindi']   \n",
       "36                                       ['English']   \n",
       "175  ['English,', 'English,', 'French,', 'Japanese']   \n",
       "179                                      ['English']   \n",
       "181                                      ['English']   \n",
       "193                                      ['English']   \n",
       "\n",
       "                                                 audio  \n",
       "0    ['English,', 'Hindi - Audio Description,', 'Hi...  \n",
       "3                                 ['Tamil [Original]']  \n",
       "36       ['Hindi,', 'Malayalam [Original],', 'Telugu']  \n",
       "175  ['English,', 'Japanese - Audio Description,', ...  \n",
       "179  ['English - Audio Description,', 'English [Ori...  \n",
       "181  ['English - Audio Description,', 'English [Ori...  \n",
       "193  ['English - Audio Description,', 'English [Ori...  "
      ]
     },
     "execution_count": 257,
     "metadata": {},
     "output_type": "execute_result"
    }
   ],
   "source": [
    "movies_2023 = netflix_data[netflix_data['release_year'] == 2023]\n",
    "movies_2023"
   ]
  },
  {
   "attachments": {},
   "cell_type": "markdown",
   "metadata": {},
   "source": [
    "<h1>Grouping Shows Based on Maturity Rating</h1>"
   ]
  },
  {
   "cell_type": "code",
   "execution_count": 258,
   "metadata": {},
   "outputs": [
    {
     "name": "stdout",
     "output_type": "stream",
     "text": [
      "[4 2 1]\n"
     ]
    },
    {
     "data": {
      "image/png": "[encoded data removed]",
      "text/plain": [
       "<Figure size 432x432 with 1 Axes>"
      ]
     },
     "metadata": {},
     "output_type": "display_data"
    }
   ],
   "source": [
    "#group the movies based on maturity rating\n",
    "maturity_cat = ['U/A 16+', 'U/A 13+', 'U/A 7+']\n",
    "maturity_rating_count = np.array(movies_2023['maturity_rating'].value_counts())\n",
    "print(maturity_rating_count)\n",
    "\n",
    "# movies_2023.plot.pie(y=maturity_rating_count,figsize=(5, 5))\n",
    "\n",
    "\n",
    "df = pd.DataFrame({'maturity_rating_count' : np.array(movies_2023['maturity_rating'].value_counts())},\n",
    "                   index=['U/A 16+', 'U/A 13+', 'U/A 7+'])\n",
    "\n",
    "plot = df.plot.pie(y='maturity_rating_count', figsize=(6, 6))"
   ]
  },
  {
   "cell_type": "code",
   "execution_count": 259,
   "metadata": {},
   "outputs": [
    {
     "data": {
      "text/html": [
       "<div>\n",
       "<style scoped>\n",
       "    .dataframe tbody tr th:only-of-type {\n",
       "        vertical-align: middle;\n",
       "    }\n",
       "\n",
       "    .dataframe tbody tr th {\n",
       "        vertical-align: top;\n",
       "    }\n",
       "\n",
       "    .dataframe thead th {\n",
       "        text-align: right;\n",
       "    }\n",
       "</style>\n",
       "<table border=\"1\" class=\"dataframe\">\n",
       "  <thead>\n",
       "    <tr style=\"text-align: right;\">\n",
       "      <th></th>\n",
       "      <th>names</th>\n",
       "      <th>release_year</th>\n",
       "      <th>mood</th>\n",
       "    </tr>\n",
       "  </thead>\n",
       "  <tbody>\n",
       "    <tr>\n",
       "      <th>0</th>\n",
       "      <td>Mission Majnu</td>\n",
       "      <td>2023</td>\n",
       "      <td>Suspenseful</td>\n",
       "    </tr>\n",
       "    <tr>\n",
       "      <th>1</th>\n",
       "      <td>Cirkus</td>\n",
       "      <td>2022</td>\n",
       "      <td>Goofy</td>\n",
       "    </tr>\n",
       "    <tr>\n",
       "      <th>2</th>\n",
       "      <td>Gangubai Kathiawadi</td>\n",
       "      <td>2022</td>\n",
       "      <td>Provocative</td>\n",
       "    </tr>\n",
       "    <tr>\n",
       "      <th>3</th>\n",
       "      <td>Thunivu</td>\n",
       "      <td>2023</td>\n",
       "      <td>Exciting</td>\n",
       "    </tr>\n",
       "    <tr>\n",
       "      <th>4</th>\n",
       "      <td>Bhool Bhulaiyaa 2</td>\n",
       "      <td>2022</td>\n",
       "      <td>Offbeat</td>\n",
       "    </tr>\n",
       "    <tr>\n",
       "      <th>...</th>\n",
       "      <td>...</td>\n",
       "      <td>...</td>\n",
       "      <td>...</td>\n",
       "    </tr>\n",
       "    <tr>\n",
       "      <th>538</th>\n",
       "      <td>Taare Zameen Par</td>\n",
       "      <td>2007</td>\n",
       "      <td>Inspiring</td>\n",
       "    </tr>\n",
       "    <tr>\n",
       "      <th>539</th>\n",
       "      <td>18 Pages</td>\n",
       "      <td>2022</td>\n",
       "      <td>Emotional</td>\n",
       "    </tr>\n",
       "    <tr>\n",
       "      <th>550</th>\n",
       "      <td>Kung-Fu Kings 4: The Challenge of Kung Fu Brot...</td>\n",
       "      <td>2018</td>\n",
       "      <td>Goofy</td>\n",
       "    </tr>\n",
       "    <tr>\n",
       "      <th>553</th>\n",
       "      <td>Haseen Dillruba</td>\n",
       "      <td>2021</td>\n",
       "      <td>Offbeat</td>\n",
       "    </tr>\n",
       "    <tr>\n",
       "      <th>559</th>\n",
       "      <td>Kabhi Khushi Kabhie Gham</td>\n",
       "      <td>2001</td>\n",
       "      <td>Sentimental</td>\n",
       "    </tr>\n",
       "  </tbody>\n",
       "</table>\n",
       "<p>225 rows × 3 columns</p>\n",
       "</div>"
      ],
      "text/plain": [
       "                                                 names  release_year  \\\n",
       "0                                        Mission Majnu          2023   \n",
       "1                                               Cirkus          2022   \n",
       "2                                  Gangubai Kathiawadi          2022   \n",
       "3                                              Thunivu          2023   \n",
       "4                                    Bhool Bhulaiyaa 2          2022   \n",
       "..                                                 ...           ...   \n",
       "538                                   Taare Zameen Par          2007   \n",
       "539                                           18 Pages          2022   \n",
       "550  Kung-Fu Kings 4: The Challenge of Kung Fu Brot...          2018   \n",
       "553                                    Haseen Dillruba          2021   \n",
       "559                           Kabhi Khushi Kabhie Gham          2001   \n",
       "\n",
       "            mood  \n",
       "0    Suspenseful  \n",
       "1          Goofy  \n",
       "2    Provocative  \n",
       "3       Exciting  \n",
       "4        Offbeat  \n",
       "..           ...  \n",
       "538    Inspiring  \n",
       "539    Emotional  \n",
       "550        Goofy  \n",
       "553      Offbeat  \n",
       "559  Sentimental  \n",
       "\n",
       "[225 rows x 3 columns]"
      ]
     },
     "execution_count": 259,
     "metadata": {},
     "output_type": "execute_result"
    }
   ],
   "source": [
    "#to get the movie, with its year released and also the casts\n",
    "\n",
    "netflix_data.iloc[:, [0,1,6]]"
   ]
  },
  {
   "cell_type": "code",
   "execution_count": 260,
   "metadata": {},
   "outputs": [
    {
     "data": {
      "text/html": [
       "<div>\n",
       "<style scoped>\n",
       "    .dataframe tbody tr th:only-of-type {\n",
       "        vertical-align: middle;\n",
       "    }\n",
       "\n",
       "    .dataframe tbody tr th {\n",
       "        vertical-align: top;\n",
       "    }\n",
       "\n",
       "    .dataframe thead th {\n",
       "        text-align: right;\n",
       "    }\n",
       "</style>\n",
       "<table border=\"1\" class=\"dataframe\">\n",
       "  <thead>\n",
       "    <tr style=\"text-align: right;\">\n",
       "      <th></th>\n",
       "      <th>names</th>\n",
       "      <th>release_year</th>\n",
       "      <th>maturity_rating</th>\n",
       "      <th>duration</th>\n",
       "      <th>description</th>\n",
       "      <th>genre</th>\n",
       "      <th>mood</th>\n",
       "      <th>cast</th>\n",
       "      <th>subtitles</th>\n",
       "      <th>audio</th>\n",
       "    </tr>\n",
       "  </thead>\n",
       "  <tbody>\n",
       "    <tr>\n",
       "      <th>538</th>\n",
       "      <td>Taare Zameen Par</td>\n",
       "      <td>2007</td>\n",
       "      <td>U/A 13+</td>\n",
       "      <td>2h 42m</td>\n",
       "      <td>When daydreamer Ishaan is sent to boarding sch...</td>\n",
       "      <td>['Hindi-Language Movies', 'Bollywood Movies', ...</td>\n",
       "      <td>Inspiring</td>\n",
       "      <td>['Aamir Khan', 'Darsheel Safary', 'Tanay Chhed...</td>\n",
       "      <td>['English']</td>\n",
       "      <td>['Hindi [Original]']</td>\n",
       "    </tr>\n",
       "    <tr>\n",
       "      <th>539</th>\n",
       "      <td>18 Pages</td>\n",
       "      <td>2022</td>\n",
       "      <td>U/A 13+</td>\n",
       "      <td>2h 17m</td>\n",
       "      <td>When a heartbroken Siddhu stumbles upon a two-...</td>\n",
       "      <td>['Dramas', 'Romantic Movies']</td>\n",
       "      <td>Emotional</td>\n",
       "      <td>['Nikhil Siddharth', 'Anupama Parameswaran', '...</td>\n",
       "      <td>['English']</td>\n",
       "      <td>['Telugu [Original]']</td>\n",
       "    </tr>\n",
       "    <tr>\n",
       "      <th>550</th>\n",
       "      <td>Kung-Fu Kings 4: The Challenge of Kung Fu Brot...</td>\n",
       "      <td>2018</td>\n",
       "      <td>U/A 7+</td>\n",
       "      <td>1h 26m</td>\n",
       "      <td>While in Japan, best friends Motu and Patlu ha...</td>\n",
       "      <td>['Hindi-Language Movies', 'Children &amp; Family M...</td>\n",
       "      <td>Goofy</td>\n",
       "      <td>['Saurav Chakraborty', 'Sanket Mhatre', 'Kamal...</td>\n",
       "      <td>['English']</td>\n",
       "      <td>['Bangla,', 'Gujarati,', 'Hindi [Original],', ...</td>\n",
       "    </tr>\n",
       "    <tr>\n",
       "      <th>553</th>\n",
       "      <td>Haseen Dillruba</td>\n",
       "      <td>2021</td>\n",
       "      <td>U/A 16+</td>\n",
       "      <td>2h 16m</td>\n",
       "      <td>Under investigation as a suspect in her husban...</td>\n",
       "      <td>['Hindi-Language Movies', 'Bollywood Movies', ...</td>\n",
       "      <td>Offbeat</td>\n",
       "      <td>['Taapsee Pannu', 'Vikrant Massey', 'Harshvard...</td>\n",
       "      <td>['English,', 'Hindi']</td>\n",
       "      <td>['English,', 'Hindi - Audio Description,', 'Hi...</td>\n",
       "    </tr>\n",
       "    <tr>\n",
       "      <th>559</th>\n",
       "      <td>Kabhi Khushi Kabhie Gham</td>\n",
       "      <td>2001</td>\n",
       "      <td>U/A 13+</td>\n",
       "      <td>3h 29m</td>\n",
       "      <td>Years after his father disowns his adopted bro...</td>\n",
       "      <td>['Hindi-Language Movies', 'Bollywood Movies', ...</td>\n",
       "      <td>Sentimental</td>\n",
       "      <td>['Amitabh Bachchan', 'Jaya Bhaduri', 'Shah Ruk...</td>\n",
       "      <td>['English']</td>\n",
       "      <td>['Hindi [Original]']</td>\n",
       "    </tr>\n",
       "  </tbody>\n",
       "</table>\n",
       "</div>"
      ],
      "text/plain": [
       "                                                 names  release_year  \\\n",
       "538                                   Taare Zameen Par          2007   \n",
       "539                                           18 Pages          2022   \n",
       "550  Kung-Fu Kings 4: The Challenge of Kung Fu Brot...          2018   \n",
       "553                                    Haseen Dillruba          2021   \n",
       "559                           Kabhi Khushi Kabhie Gham          2001   \n",
       "\n",
       "    maturity_rating duration  \\\n",
       "538        U/A 13+    2h 42m   \n",
       "539        U/A 13+    2h 17m   \n",
       "550         U/A 7+    1h 26m   \n",
       "553        U/A 16+    2h 16m   \n",
       "559        U/A 13+    3h 29m   \n",
       "\n",
       "                                           description  \\\n",
       "538  When daydreamer Ishaan is sent to boarding sch...   \n",
       "539  When a heartbroken Siddhu stumbles upon a two-...   \n",
       "550  While in Japan, best friends Motu and Patlu ha...   \n",
       "553  Under investigation as a suspect in her husban...   \n",
       "559  Years after his father disowns his adopted bro...   \n",
       "\n",
       "                                                 genre         mood  \\\n",
       "538  ['Hindi-Language Movies', 'Bollywood Movies', ...    Inspiring   \n",
       "539                      ['Dramas', 'Romantic Movies']    Emotional   \n",
       "550  ['Hindi-Language Movies', 'Children & Family M...        Goofy   \n",
       "553  ['Hindi-Language Movies', 'Bollywood Movies', ...      Offbeat   \n",
       "559  ['Hindi-Language Movies', 'Bollywood Movies', ...  Sentimental   \n",
       "\n",
       "                                                  cast              subtitles  \\\n",
       "538  ['Aamir Khan', 'Darsheel Safary', 'Tanay Chhed...            ['English']   \n",
       "539  ['Nikhil Siddharth', 'Anupama Parameswaran', '...            ['English']   \n",
       "550  ['Saurav Chakraborty', 'Sanket Mhatre', 'Kamal...            ['English']   \n",
       "553  ['Taapsee Pannu', 'Vikrant Massey', 'Harshvard...  ['English,', 'Hindi']   \n",
       "559  ['Amitabh Bachchan', 'Jaya Bhaduri', 'Shah Ruk...            ['English']   \n",
       "\n",
       "                                                 audio  \n",
       "538                               ['Hindi [Original]']  \n",
       "539                              ['Telugu [Original]']  \n",
       "550  ['Bangla,', 'Gujarati,', 'Hindi [Original],', ...  \n",
       "553  ['English,', 'Hindi - Audio Description,', 'Hi...  \n",
       "559                               ['Hindi [Original]']  "
      ]
     },
     "execution_count": 260,
     "metadata": {},
     "output_type": "execute_result"
    }
   ],
   "source": [
    "netflix_data.tail(5)"
   ]
  },
  {
   "attachments": {},
   "cell_type": "markdown",
   "metadata": {},
   "source": [
    "<h1>Finding Shows casted by Kiara Advani :) </h1>"
   ]
  },
  {
   "cell_type": "code",
   "execution_count": 261,
   "metadata": {},
   "outputs": [
    {
     "name": "stdout",
     "output_type": "stream",
     "text": [
      "['Bhool Bhulaiyaa 2', 'Kabir Singh', 'Lust Stories', 'Indoo Ki Jawani']\n"
     ]
    }
   ],
   "source": [
    "# Kiara Advani is my fav actress <333 , so i am gg to find which show she casts in\n",
    "\n",
    "casts = netflix_data['cast']\n",
    "cast_nparr = np.array(casts)\n",
    "movie_nparr = np.array(netflix_data['names'])\n",
    "# cast_nparr\n",
    "# movie_nparr\n",
    "\n",
    "new_arr = [movie_nparr,cast_nparr]\n",
    "movie_list = []\n",
    "for i in range(len(movie_nparr)):\n",
    "    if 'Kiara Advani' in new_arr[1][i]:\n",
    "        movie_list.append(new_arr[0][i])\n",
    "print(movie_list)\n"
   ]
  },
  {
   "cell_type": "code",
   "execution_count": 268,
   "metadata": {},
   "outputs": [
    {
     "data": {
      "text/html": [
       "<div>\n",
       "<style scoped>\n",
       "    .dataframe tbody tr th:only-of-type {\n",
       "        vertical-align: middle;\n",
       "    }\n",
       "\n",
       "    .dataframe tbody tr th {\n",
       "        vertical-align: top;\n",
       "    }\n",
       "\n",
       "    .dataframe thead th {\n",
       "        text-align: right;\n",
       "    }\n",
       "</style>\n",
       "<table border=\"1\" class=\"dataframe\">\n",
       "  <thead>\n",
       "    <tr style=\"text-align: right;\">\n",
       "      <th></th>\n",
       "      <th>names</th>\n",
       "      <th>release_year</th>\n",
       "      <th>maturity_rating</th>\n",
       "      <th>duration</th>\n",
       "      <th>description</th>\n",
       "      <th>genre</th>\n",
       "      <th>mood</th>\n",
       "      <th>cast</th>\n",
       "      <th>subtitles</th>\n",
       "      <th>audio</th>\n",
       "    </tr>\n",
       "  </thead>\n",
       "  <tbody>\n",
       "    <tr>\n",
       "      <th>0</th>\n",
       "      <td>Mission Majnu</td>\n",
       "      <td>2023</td>\n",
       "      <td>U/A 16+</td>\n",
       "      <td>2h 9m</td>\n",
       "      <td>In the 1970s, an undercover Indian spy takes o...</td>\n",
       "      <td>['Spy Movies', 'Hindi-Language Movies', 'Bolly...</td>\n",
       "      <td>Suspenseful</td>\n",
       "      <td>['Sidharth Malhotra', 'Rashmika Mandanna', 'Pa...</td>\n",
       "      <td>['English,', 'English,', 'Hindi']</td>\n",
       "      <td>['English,', 'Hindi - Audio Description,', 'Hi...</td>\n",
       "    </tr>\n",
       "    <tr>\n",
       "      <th>36</th>\n",
       "      <td>Nanpakal Nerathu Mayakkam</td>\n",
       "      <td>2023</td>\n",
       "      <td>U/A 13+</td>\n",
       "      <td>1h 47m</td>\n",
       "      <td>In this Malayalam-Tamil drama, an irritable Ja...</td>\n",
       "      <td>['Dramas']</td>\n",
       "      <td>Intimate</td>\n",
       "      <td>['Mammootty', 'Ramya Suvi', 'Ramya Pandian', '...</td>\n",
       "      <td>['English']</td>\n",
       "      <td>['Hindi,', 'Malayalam [Original],', 'Telugu']</td>\n",
       "    </tr>\n",
       "    <tr>\n",
       "      <th>179</th>\n",
       "      <td>The Strays</td>\n",
       "      <td>2023</td>\n",
       "      <td>U/A 16+</td>\n",
       "      <td>1h 37m</td>\n",
       "      <td>A woman's meticulously crafted life of privile...</td>\n",
       "      <td>['Dramas', 'Thriller Movies']</td>\n",
       "      <td>Ominous</td>\n",
       "      <td>['Ashley Madekwe', 'Jorden Myrie', 'Bukky Bakr...</td>\n",
       "      <td>['English']</td>\n",
       "      <td>['English - Audio Description,', 'English [Ori...</td>\n",
       "    </tr>\n",
       "    <tr>\n",
       "      <th>193</th>\n",
       "      <td>Dog Gone</td>\n",
       "      <td>2023</td>\n",
       "      <td>U/A 7+</td>\n",
       "      <td>1h 35m</td>\n",
       "      <td>When his beloved dog goes missing, a young man...</td>\n",
       "      <td>['Family Features', 'Movies Based on Real Life...</td>\n",
       "      <td>Inspiring</td>\n",
       "      <td>['Rob Lowe', 'Johnny Berchtold', 'Kimberly Wil...</td>\n",
       "      <td>['English']</td>\n",
       "      <td>['English - Audio Description,', 'English [Ori...</td>\n",
       "    </tr>\n",
       "    <tr>\n",
       "      <th>175</th>\n",
       "      <td>Call Me Chihiro</td>\n",
       "      <td>2023</td>\n",
       "      <td>U/A 16+</td>\n",
       "      <td>2h 11m</td>\n",
       "      <td>An unapologetic former sex worker starts worki...</td>\n",
       "      <td>['Dramas']</td>\n",
       "      <td>Understated</td>\n",
       "      <td>['Kasumi Arimura', 'Hana Toyoshima', 'Tetta Sh...</td>\n",
       "      <td>['English,', 'English,', 'French,', 'Japanese']</td>\n",
       "      <td>['English,', 'Japanese - Audio Description,', ...</td>\n",
       "    </tr>\n",
       "    <tr>\n",
       "      <th>...</th>\n",
       "      <td>...</td>\n",
       "      <td>...</td>\n",
       "      <td>...</td>\n",
       "      <td>...</td>\n",
       "      <td>...</td>\n",
       "      <td>...</td>\n",
       "      <td>...</td>\n",
       "      <td>...</td>\n",
       "      <td>...</td>\n",
       "      <td>...</td>\n",
       "    </tr>\n",
       "    <tr>\n",
       "      <th>75</th>\n",
       "      <td>Jurassic Park III</td>\n",
       "      <td>2001</td>\n",
       "      <td>U/A 16+</td>\n",
       "      <td>1h 32m</td>\n",
       "      <td>An aerial tour of an infamous dinosaur island ...</td>\n",
       "      <td>['Sci-Fi Movies', 'US Movies', 'Movies Based o...</td>\n",
       "      <td>Exciting</td>\n",
       "      <td>['Sam Neill', 'Téa Leoni', 'William H. Macy', ...</td>\n",
       "      <td>['English,', 'Hindi']</td>\n",
       "      <td>['English - Audio Description,', 'English [Ori...</td>\n",
       "    </tr>\n",
       "    <tr>\n",
       "      <th>104</th>\n",
       "      <td>Shrek</td>\n",
       "      <td>2001</td>\n",
       "      <td>U/A 7+</td>\n",
       "      <td>1h 30m</td>\n",
       "      <td>On a mission to retrieve a princess from a fir...</td>\n",
       "      <td>['Family Features', 'US Movies', 'Movies Based...</td>\n",
       "      <td>Witty</td>\n",
       "      <td>['Mike Myers', 'Eddie Murphy', 'Cameron Diaz',...</td>\n",
       "      <td>['English,', 'Hindi']</td>\n",
       "      <td>['English - Audio Description,', 'English [Ori...</td>\n",
       "    </tr>\n",
       "    <tr>\n",
       "      <th>559</th>\n",
       "      <td>Kabhi Khushi Kabhie Gham</td>\n",
       "      <td>2001</td>\n",
       "      <td>U/A 13+</td>\n",
       "      <td>3h 29m</td>\n",
       "      <td>Years after his father disowns his adopted bro...</td>\n",
       "      <td>['Hindi-Language Movies', 'Bollywood Movies', ...</td>\n",
       "      <td>Sentimental</td>\n",
       "      <td>['Amitabh Bachchan', 'Jaya Bhaduri', 'Shah Ruk...</td>\n",
       "      <td>['English']</td>\n",
       "      <td>['Hindi [Original]']</td>\n",
       "    </tr>\n",
       "    <tr>\n",
       "      <th>291</th>\n",
       "      <td>Final Destination</td>\n",
       "      <td>2000</td>\n",
       "      <td>A</td>\n",
       "      <td>1h 37m</td>\n",
       "      <td>After narrowly avoiding a fatal plane explosio...</td>\n",
       "      <td>['US Movies', 'Horror Movies']</td>\n",
       "      <td>Scary</td>\n",
       "      <td>['Devon Sawa', 'Ali Larter', 'Seann William Sc...</td>\n",
       "      <td>['English']</td>\n",
       "      <td>['English [Original],', 'Hindi']</td>\n",
       "    </tr>\n",
       "    <tr>\n",
       "      <th>84</th>\n",
       "      <td>Stuart Little</td>\n",
       "      <td>1999</td>\n",
       "      <td>U/A 7+</td>\n",
       "      <td>1h 24m</td>\n",
       "      <td>When his parents adopt a mouse instead of a li...</td>\n",
       "      <td>['Family Features', 'US Movies', 'Movies Based...</td>\n",
       "      <td>Heartfelt</td>\n",
       "      <td>['Michael J. Fox', 'Jonathan Lipnicki', 'Geena...</td>\n",
       "      <td>['English,', 'English,', 'Hindi']</td>\n",
       "      <td>['English [Original],', 'Hindi']</td>\n",
       "    </tr>\n",
       "  </tbody>\n",
       "</table>\n",
       "<p>225 rows × 10 columns</p>\n",
       "</div>"
      ],
      "text/plain": [
       "                         names  release_year maturity_rating duration  \\\n",
       "0                Mission Majnu          2023        U/A 16+     2h 9m   \n",
       "36   Nanpakal Nerathu Mayakkam          2023        U/A 13+    1h 47m   \n",
       "179                 The Strays          2023        U/A 16+    1h 37m   \n",
       "193                   Dog Gone          2023         U/A 7+    1h 35m   \n",
       "175            Call Me Chihiro          2023        U/A 16+    2h 11m   \n",
       "..                         ...           ...             ...      ...   \n",
       "75           Jurassic Park III          2001        U/A 16+    1h 32m   \n",
       "104                      Shrek          2001         U/A 7+    1h 30m   \n",
       "559   Kabhi Khushi Kabhie Gham          2001        U/A 13+    3h 29m   \n",
       "291          Final Destination          2000              A    1h 37m   \n",
       "84               Stuart Little          1999         U/A 7+    1h 24m   \n",
       "\n",
       "                                           description  \\\n",
       "0    In the 1970s, an undercover Indian spy takes o...   \n",
       "36   In this Malayalam-Tamil drama, an irritable Ja...   \n",
       "179  A woman's meticulously crafted life of privile...   \n",
       "193  When his beloved dog goes missing, a young man...   \n",
       "175  An unapologetic former sex worker starts worki...   \n",
       "..                                                 ...   \n",
       "75   An aerial tour of an infamous dinosaur island ...   \n",
       "104  On a mission to retrieve a princess from a fir...   \n",
       "559  Years after his father disowns his adopted bro...   \n",
       "291  After narrowly avoiding a fatal plane explosio...   \n",
       "84   When his parents adopt a mouse instead of a li...   \n",
       "\n",
       "                                                 genre         mood  \\\n",
       "0    ['Spy Movies', 'Hindi-Language Movies', 'Bolly...  Suspenseful   \n",
       "36                                          ['Dramas']     Intimate   \n",
       "179                      ['Dramas', 'Thriller Movies']      Ominous   \n",
       "193  ['Family Features', 'Movies Based on Real Life...    Inspiring   \n",
       "175                                         ['Dramas']  Understated   \n",
       "..                                                 ...          ...   \n",
       "75   ['Sci-Fi Movies', 'US Movies', 'Movies Based o...     Exciting   \n",
       "104  ['Family Features', 'US Movies', 'Movies Based...        Witty   \n",
       "559  ['Hindi-Language Movies', 'Bollywood Movies', ...  Sentimental   \n",
       "291                     ['US Movies', 'Horror Movies']        Scary   \n",
       "84   ['Family Features', 'US Movies', 'Movies Based...    Heartfelt   \n",
       "\n",
       "                                                  cast  \\\n",
       "0    ['Sidharth Malhotra', 'Rashmika Mandanna', 'Pa...   \n",
       "36   ['Mammootty', 'Ramya Suvi', 'Ramya Pandian', '...   \n",
       "179  ['Ashley Madekwe', 'Jorden Myrie', 'Bukky Bakr...   \n",
       "193  ['Rob Lowe', 'Johnny Berchtold', 'Kimberly Wil...   \n",
       "175  ['Kasumi Arimura', 'Hana Toyoshima', 'Tetta Sh...   \n",
       "..                                                 ...   \n",
       "75   ['Sam Neill', 'Téa Leoni', 'William H. Macy', ...   \n",
       "104  ['Mike Myers', 'Eddie Murphy', 'Cameron Diaz',...   \n",
       "559  ['Amitabh Bachchan', 'Jaya Bhaduri', 'Shah Ruk...   \n",
       "291  ['Devon Sawa', 'Ali Larter', 'Seann William Sc...   \n",
       "84   ['Michael J. Fox', 'Jonathan Lipnicki', 'Geena...   \n",
       "\n",
       "                                           subtitles  \\\n",
       "0                  ['English,', 'English,', 'Hindi']   \n",
       "36                                       ['English']   \n",
       "179                                      ['English']   \n",
       "193                                      ['English']   \n",
       "175  ['English,', 'English,', 'French,', 'Japanese']   \n",
       "..                                               ...   \n",
       "75                             ['English,', 'Hindi']   \n",
       "104                            ['English,', 'Hindi']   \n",
       "559                                      ['English']   \n",
       "291                                      ['English']   \n",
       "84                 ['English,', 'English,', 'Hindi']   \n",
       "\n",
       "                                                 audio  \n",
       "0    ['English,', 'Hindi - Audio Description,', 'Hi...  \n",
       "36       ['Hindi,', 'Malayalam [Original],', 'Telugu']  \n",
       "179  ['English - Audio Description,', 'English [Ori...  \n",
       "193  ['English - Audio Description,', 'English [Ori...  \n",
       "175  ['English,', 'Japanese - Audio Description,', ...  \n",
       "..                                                 ...  \n",
       "75   ['English - Audio Description,', 'English [Ori...  \n",
       "104  ['English - Audio Description,', 'English [Ori...  \n",
       "559                               ['Hindi [Original]']  \n",
       "291                   ['English [Original],', 'Hindi']  \n",
       "84                    ['English [Original],', 'Hindi']  \n",
       "\n",
       "[225 rows x 10 columns]"
      ]
     },
     "execution_count": 268,
     "metadata": {},
     "output_type": "execute_result"
    }
   ],
   "source": [
    "netflix_data_sorted_years = netflix_data.sort_values(by = 'release_year', axis=0, ascending=False)\n",
    "netflix_data_sorted_years"
   ]
  },
  {
   "cell_type": "code",
   "execution_count": 272,
   "metadata": {},
   "outputs": [
    {
     "data": {
      "application/vnd.plotly.v1+json": {
       "config": {
        "plotlyServerURL": "https://plot.ly"
       },
       "data": [
        {
         "alignmentgroup": "True",
         "hovertemplate": "Year=%{x}<br>Count per Year=%{y}<br>color=%{marker.color}<extra></extra>",
         "legendgroup": "",
         "marker": {
          "color": [
           2023,
           2022,
           2019,
           2021,
           2012,
           2006,
           2018,
           2009,
           2011,
           2013,
           2015,
           2004,
           2010,
           2007,
           2014,
           2016,
           2020,
           2017,
           2001,
           1999,
           2005,
           2008,
           2003,
           2000
          ],
          "coloraxis": "coloraxis",
          "pattern": {
           "shape": ""
          }
         },
         "name": "",
         "offsetgroup": "",
         "orientation": "v",
         "showlegend": false,
         "textposition": "auto",
         "type": "bar",
         "x": [
          2023,
          2022,
          2019,
          2021,
          2012,
          2006,
          2018,
          2009,
          2011,
          2013,
          2015,
          2004,
          2010,
          2007,
          2014,
          2016,
          2020,
          2017,
          2001,
          1999,
          2005,
          2008,
          2003,
          2000
         ],
         "xaxis": "x",
         "y": [
          55,
          23,
          18,
          15,
          12,
          12,
          10,
          10,
          8,
          8,
          7,
          6,
          5,
          5,
          5,
          5,
          4,
          4,
          4,
          3,
          3,
          1,
          1,
          1
         ],
         "yaxis": "y"
        }
       ],
       "layout": {
        "barmode": "relative",
        "coloraxis": {
         "colorbar": {
          "title": {
           "text": "color"
          }
         },
         "colorscale": [
          [
           0,
           "#0d0887"
          ],
          [
           0.1111111111111111,
           "#46039f"
          ],
          [
           0.2222222222222222,
           "#7201a8"
          ],
          [
           0.3333333333333333,
           "#9c179e"
          ],
          [
           0.4444444444444444,
           "#bd3786"
          ],
          [
           0.5555555555555556,
           "#d8576b"
          ],
          [
           0.6666666666666666,
           "#ed7953"
          ],
          [
           0.7777777777777778,
           "#fb9f3a"
          ],
          [
           0.8888888888888888,
           "#fdca26"
          ],
          [
           1,
           "#f0f921"
          ]
         ]
        },
        "legend": {
         "tracegroupgap": 0
        },
        "template": {
         "data": {
          "bar": [
           {
            "error_x": {
             "color": "#2a3f5f"
            },
            "error_y": {
             "color": "#2a3f5f"
            },
            "marker": {
             "line": {
              "color": "#E5ECF6",
              "width": 0.5
             },
             "pattern": {
              "fillmode": "overlay",
              "size": 10,
              "solidity": 0.2
             }
            },
            "type": "bar"
           }
          ],
          "barpolar": [
           {
            "marker": {
             "line": {
              "color": "#E5ECF6",
              "width": 0.5
             },
             "pattern": {
              "fillmode": "overlay",
              "size": 10,
              "solidity": 0.2
             }
            },
            "type": "barpolar"
           }
          ],
          "carpet": [
           {
            "aaxis": {
             "endlinecolor": "#2a3f5f",
             "gridcolor": "white",
             "linecolor": "white",
             "minorgridcolor": "white",
             "startlinecolor": "#2a3f5f"
            },
            "baxis": {
             "endlinecolor": "#2a3f5f",
             "gridcolor": "white",
             "linecolor": "white",
             "minorgridcolor": "white",
             "startlinecolor": "#2a3f5f"
            },
            "type": "carpet"
           }
          ],
          "choropleth": [
           {
            "colorbar": {
             "outlinewidth": 0,
             "ticks": ""
            },
            "type": "choropleth"
           }
          ],
          "contour": [
           {
            "colorbar": {
             "outlinewidth": 0,
             "ticks": ""
            },
            "colorscale": [
             [
              0,
              "#0d0887"
             ],
             [
              0.1111111111111111,
              "#46039f"
             ],
             [
              0.2222222222222222,
              "#7201a8"
             ],
             [
              0.3333333333333333,
              "#9c179e"
             ],
             [
              0.4444444444444444,
              "#bd3786"
             ],
             [
              0.5555555555555556,
              "#d8576b"
             ],
             [
              0.6666666666666666,
              "#ed7953"
             ],
             [
              0.7777777777777778,
              "#fb9f3a"
             ],
             [
              0.8888888888888888,
              "#fdca26"
             ],
             [
              1,
              "#f0f921"
             ]
            ],
            "type": "contour"
           }
          ],
          "contourcarpet": [
           {
            "colorbar": {
             "outlinewidth": 0,
             "ticks": ""
            },
            "type": "contourcarpet"
           }
          ],
          "heatmap": [
           {
            "colorbar": {
             "outlinewidth": 0,
             "ticks": ""
            },
            "colorscale": [
             [
              0,
              "#0d0887"
             ],
             [
              0.1111111111111111,
              "#46039f"
             ],
             [
              0.2222222222222222,
              "#7201a8"
             ],
             [
              0.3333333333333333,
              "#9c179e"
             ],
             [
              0.4444444444444444,
              "#bd3786"
             ],
             [
              0.5555555555555556,
              "#d8576b"
             ],
             [
              0.6666666666666666,
              "#ed7953"
             ],
             [
              0.7777777777777778,
              "#fb9f3a"
             ],
             [
              0.8888888888888888,
              "#fdca26"
             ],
             [
              1,
              "#f0f921"
             ]
            ],
            "type": "heatmap"
           }
          ],
          "heatmapgl": [
           {
            "colorbar": {
             "outlinewidth": 0,
             "ticks": ""
            },
            "colorscale": [
             [
              0,
              "#0d0887"
             ],
             [
              0.1111111111111111,
              "#46039f"
             ],
             [
              0.2222222222222222,
              "#7201a8"
             ],
             [
              0.3333333333333333,
              "#9c179e"
             ],
             [
              0.4444444444444444,
              "#bd3786"
             ],
             [
              0.5555555555555556,
              "#d8576b"
             ],
             [
              0.6666666666666666,
              "#ed7953"
             ],
             [
              0.7777777777777778,
              "#fb9f3a"
             ],
             [
              0.8888888888888888,
              "#fdca26"
             ],
             [
              1,
              "#f0f921"
             ]
            ],
            "type": "heatmapgl"
           }
          ],
          "histogram": [
           {
            "marker": {
             "pattern": {
              "fillmode": "overlay",
              "size": 10,
              "solidity": 0.2
             }
            },
            "type": "histogram"
           }
          ],
          "histogram2d": [
           {
            "colorbar": {
             "outlinewidth": 0,
             "ticks": ""
            },
            "colorscale": [
             [
              0,
              "#0d0887"
             ],
             [
              0.1111111111111111,
              "#46039f"
             ],
             [
              0.2222222222222222,
              "#7201a8"
             ],
             [
              0.3333333333333333,
              "#9c179e"
             ],
             [
              0.4444444444444444,
              "#bd3786"
             ],
             [
              0.5555555555555556,
              "#d8576b"
             ],
             [
              0.6666666666666666,
              "#ed7953"
             ],
             [
              0.7777777777777778,
              "#fb9f3a"
             ],
             [
              0.8888888888888888,
              "#fdca26"
             ],
             [
              1,
              "#f0f921"
             ]
            ],
            "type": "histogram2d"
           }
          ],
          "histogram2dcontour": [
           {
            "colorbar": {
             "outlinewidth": 0,
             "ticks": ""
            },
            "colorscale": [
             [
              0,
              "#0d0887"
             ],
             [
              0.1111111111111111,
              "#46039f"
             ],
             [
              0.2222222222222222,
              "#7201a8"
             ],
             [
              0.3333333333333333,
              "#9c179e"
             ],
             [
              0.4444444444444444,
              "#bd3786"
             ],
             [
              0.5555555555555556,
              "#d8576b"
             ],
             [
              0.6666666666666666,
              "#ed7953"
             ],
             [
              0.7777777777777778,
              "#fb9f3a"
             ],
             [
              0.8888888888888888,
              "#fdca26"
             ],
             [
              1,
              "#f0f921"
             ]
            ],
            "type": "histogram2dcontour"
           }
          ],
          "mesh3d": [
           {
            "colorbar": {
             "outlinewidth": 0,
             "ticks": ""
            },
            "type": "mesh3d"
           }
          ],
          "parcoords": [
           {
            "line": {
             "colorbar": {
              "outlinewidth": 0,
              "ticks": ""
             }
            },
            "type": "parcoords"
           }
          ],
          "pie": [
           {
            "automargin": true,
            "type": "pie"
           }
          ],
          "scatter": [
           {
            "fillpattern": {
             "fillmode": "overlay",
             "size": 10,
             "solidity": 0.2
            },
            "type": "scatter"
           }
          ],
          "scatter3d": [
           {
            "line": {
             "colorbar": {
              "outlinewidth": 0,
              "ticks": ""
             }
            },
            "marker": {
             "colorbar": {
              "outlinewidth": 0,
              "ticks": ""
             }
            },
            "type": "scatter3d"
           }
          ],
          "scattercarpet": [
           {
            "marker": {
             "colorbar": {
              "outlinewidth": 0,
              "ticks": ""
             }
            },
            "type": "scattercarpet"
           }
          ],
          "scattergeo": [
           {
            "marker": {
             "colorbar": {
              "outlinewidth": 0,
              "ticks": ""
             }
            },
            "type": "scattergeo"
           }
          ],
          "scattergl": [
           {
            "marker": {
             "colorbar": {
              "outlinewidth": 0,
              "ticks": ""
             }
            },
            "type": "scattergl"
           }
          ],
          "scattermapbox": [
           {
            "marker": {
             "colorbar": {
              "outlinewidth": 0,
              "ticks": ""
             }
            },
            "type": "scattermapbox"
           }
          ],
          "scatterpolar": [
           {
            "marker": {
             "colorbar": {
              "outlinewidth": 0,
              "ticks": ""
             }
            },
            "type": "scatterpolar"
           }
          ],
          "scatterpolargl": [
           {
            "marker": {
             "colorbar": {
              "outlinewidth": 0,
              "ticks": ""
             }
            },
            "type": "scatterpolargl"
           }
          ],
          "scatterternary": [
           {
            "marker": {
             "colorbar": {
              "outlinewidth": 0,
              "ticks": ""
             }
            },
            "type": "scatterternary"
           }
          ],
          "surface": [
           {
            "colorbar": {
             "outlinewidth": 0,
             "ticks": ""
            },
            "colorscale": [
             [
              0,
              "#0d0887"
             ],
             [
              0.1111111111111111,
              "#46039f"
             ],
             [
              0.2222222222222222,
              "#7201a8"
             ],
             [
              0.3333333333333333,
              "#9c179e"
             ],
             [
              0.4444444444444444,
              "#bd3786"
             ],
             [
              0.5555555555555556,
              "#d8576b"
             ],
             [
              0.6666666666666666,
              "#ed7953"
             ],
             [
              0.7777777777777778,
              "#fb9f3a"
             ],
             [
              0.8888888888888888,
              "#fdca26"
             ],
             [
              1,
              "#f0f921"
             ]
            ],
            "type": "surface"
           }
          ],
          "table": [
           {
            "cells": {
             "fill": {
              "color": "#EBF0F8"
             },
             "line": {
              "color": "white"
             }
            },
            "header": {
             "fill": {
              "color": "#C8D4E3"
             },
             "line": {
              "color": "white"
             }
            },
            "type": "table"
           }
          ]
         },
         "layout": {
          "annotationdefaults": {
           "arrowcolor": "#2a3f5f",
           "arrowhead": 0,
           "arrowwidth": 1
          },
          "autotypenumbers": "strict",
          "coloraxis": {
           "colorbar": {
            "outlinewidth": 0,
            "ticks": ""
           }
          },
          "colorscale": {
           "diverging": [
            [
             0,
             "#8e0152"
            ],
            [
             0.1,
             "#c51b7d"
            ],
            [
             0.2,
             "#de77ae"
            ],
            [
             0.3,
             "#f1b6da"
            ],
            [
             0.4,
             "#fde0ef"
            ],
            [
             0.5,
             "#f7f7f7"
            ],
            [
             0.6,
             "#e6f5d0"
            ],
            [
             0.7,
             "#b8e186"
            ],
            [
             0.8,
             "#7fbc41"
            ],
            [
             0.9,
             "#4d9221"
            ],
            [
             1,
             "#276419"
            ]
           ],
           "sequential": [
            [
             0,
             "#0d0887"
            ],
            [
             0.1111111111111111,
             "#46039f"
            ],
            [
             0.2222222222222222,
             "#7201a8"
            ],
            [
             0.3333333333333333,
             "#9c179e"
            ],
            [
             0.4444444444444444,
             "#bd3786"
            ],
            [
             0.5555555555555556,
             "#d8576b"
            ],
            [
             0.6666666666666666,
             "#ed7953"
            ],
            [
             0.7777777777777778,
             "#fb9f3a"
            ],
            [
             0.8888888888888888,
             "#fdca26"
            ],
            [
             1,
             "#f0f921"
            ]
           ],
           "sequentialminus": [
            [
             0,
             "#0d0887"
            ],
            [
             0.1111111111111111,
             "#46039f"
            ],
            [
             0.2222222222222222,
             "#7201a8"
            ],
            [
             0.3333333333333333,
             "#9c179e"
            ],
            [
             0.4444444444444444,
             "#bd3786"
            ],
            [
             0.5555555555555556,
             "#d8576b"
            ],
            [
             0.6666666666666666,
             "#ed7953"
            ],
            [
             0.7777777777777778,
             "#fb9f3a"
            ],
            [
             0.8888888888888888,
             "#fdca26"
            ],
            [
             1,
             "#f0f921"
            ]
           ]
          },
          "colorway": [
           "#636efa",
           "#EF553B",
           "#00cc96",
           "#ab63fa",
           "#FFA15A",
           "#19d3f3",
           "#FF6692",
           "#B6E880",
           "#FF97FF",
           "#FECB52"
          ],
          "font": {
           "color": "#2a3f5f"
          },
          "geo": {
           "bgcolor": "white",
           "lakecolor": "white",
           "landcolor": "#E5ECF6",
           "showlakes": true,
           "showland": true,
           "subunitcolor": "white"
          },
          "hoverlabel": {
           "align": "left"
          },
          "hovermode": "closest",
          "mapbox": {
           "style": "light"
          },
          "paper_bgcolor": "white",
          "plot_bgcolor": "#E5ECF6",
          "polar": {
           "angularaxis": {
            "gridcolor": "white",
            "linecolor": "white",
            "ticks": ""
           },
           "bgcolor": "#E5ECF6",
           "radialaxis": {
            "gridcolor": "white",
            "linecolor": "white",
            "ticks": ""
           }
          },
          "scene": {
           "xaxis": {
            "backgroundcolor": "#E5ECF6",
            "gridcolor": "white",
            "gridwidth": 2,
            "linecolor": "white",
            "showbackground": true,
            "ticks": "",
            "zerolinecolor": "white"
           },
           "yaxis": {
            "backgroundcolor": "#E5ECF6",
            "gridcolor": "white",
            "gridwidth": 2,
            "linecolor": "white",
            "showbackground": true,
            "ticks": "",
            "zerolinecolor": "white"
           },
           "zaxis": {
            "backgroundcolor": "#E5ECF6",
            "gridcolor": "white",
            "gridwidth": 2,
            "linecolor": "white",
            "showbackground": true,
            "ticks": "",
            "zerolinecolor": "white"
           }
          },
          "shapedefaults": {
           "line": {
            "color": "#2a3f5f"
           }
          },
          "ternary": {
           "aaxis": {
            "gridcolor": "white",
            "linecolor": "white",
            "ticks": ""
           },
           "baxis": {
            "gridcolor": "white",
            "linecolor": "white",
            "ticks": ""
           },
           "bgcolor": "#E5ECF6",
           "caxis": {
            "gridcolor": "white",
            "linecolor": "white",
            "ticks": ""
           }
          },
          "title": {
           "x": 0.05
          },
          "xaxis": {
           "automargin": true,
           "gridcolor": "white",
           "linecolor": "white",
           "ticks": "",
           "title": {
            "standoff": 15
           },
           "zerolinecolor": "white",
           "zerolinewidth": 2
          },
          "yaxis": {
           "automargin": true,
           "gridcolor": "white",
           "linecolor": "white",
           "ticks": "",
           "title": {
            "standoff": 15
           },
           "zerolinecolor": "white",
           "zerolinewidth": 2
          }
         }
        },
        "title": {
         "text": "Number of Netflix Shows Released Per Year"
        },
        "xaxis": {
         "anchor": "y",
         "domain": [
          0,
          1
         ],
         "title": {
          "text": "Year"
         }
        },
        "yaxis": {
         "anchor": "x",
         "domain": [
          0,
          1
         ],
         "title": {
          "text": "Count per Year"
         }
        }
       }
      }
     },
     "metadata": {},
     "output_type": "display_data"
    }
   ],
   "source": [
    "year = netflix_data['release_year'].unique()\n",
    "# print(year)\n",
    "count_per_year = netflix_data['release_year'].value_counts()\n",
    "# print(count_per_year)\n",
    "\n",
    "fig = px.bar(netflix_data, y =count_per_year, x=year, \n",
    "             orientation='v', color=year, \n",
    "             title='Number of Netflix Shows Released Per Year',\n",
    "             labels={'x': 'Year', 'y': 'Count per Year'}\n",
    "            )\n",
    "fig.show()\n"
   ]
  },
  {
   "attachments": {},
   "cell_type": "markdown",
   "metadata": {},
   "source": [
    "<h1>Recommend Shows based on Actress</h1>"
   ]
  },
  {
   "cell_type": "code",
   "execution_count": 8,
   "metadata": {},
   "outputs": [
    {
     "data": {
      "text/html": [
       "<div>\n",
       "<style scoped>\n",
       "    .dataframe tbody tr th:only-of-type {\n",
       "        vertical-align: middle;\n",
       "    }\n",
       "\n",
       "    .dataframe tbody tr th {\n",
       "        vertical-align: top;\n",
       "    }\n",
       "\n",
       "    .dataframe thead th {\n",
       "        text-align: right;\n",
       "    }\n",
       "</style>\n",
       "<table border=\"1\" class=\"dataframe\">\n",
       "  <thead>\n",
       "    <tr style=\"text-align: right;\">\n",
       "      <th></th>\n",
       "      <th>names</th>\n",
       "      <th>cast</th>\n",
       "      <th>genre</th>\n",
       "    </tr>\n",
       "  </thead>\n",
       "  <tbody>\n",
       "    <tr>\n",
       "      <th>0</th>\n",
       "      <td>Mission Majnu</td>\n",
       "      <td>['Sidharth Malhotra', 'Rashmika Mandanna', 'Pa...</td>\n",
       "      <td>['Spy Movies', 'Hindi-Language Movies', 'Bolly...</td>\n",
       "    </tr>\n",
       "    <tr>\n",
       "      <th>1</th>\n",
       "      <td>Cirkus</td>\n",
       "      <td>['Ranveer Singh', 'Varun Sharma', 'Pooja Hegde...</td>\n",
       "      <td>['Hindi-Language Movies', 'Bollywood Movies', ...</td>\n",
       "    </tr>\n",
       "    <tr>\n",
       "      <th>2</th>\n",
       "      <td>Gangubai Kathiawadi</td>\n",
       "      <td>['Alia Bhatt', 'Vijay Raaz', 'Seema Pahwa', 'A...</td>\n",
       "      <td>['Hindi-Language Movies', 'Movies Based on Boo...</td>\n",
       "    </tr>\n",
       "    <tr>\n",
       "      <th>3</th>\n",
       "      <td>Thunivu</td>\n",
       "      <td>['Ajith Kumar', 'Manju Warrier', 'Samuthirakan...</td>\n",
       "      <td>['Crime Movies', 'Action &amp; Adventure']</td>\n",
       "    </tr>\n",
       "    <tr>\n",
       "      <th>4</th>\n",
       "      <td>Bhool Bhulaiyaa 2</td>\n",
       "      <td>['Tabu', 'Kartik Aaryan', 'Kiara Advani', 'Raj...</td>\n",
       "      <td>['Hindi-Language Movies', 'Bollywood Movies', ...</td>\n",
       "    </tr>\n",
       "  </tbody>\n",
       "</table>\n",
       "</div>"
      ],
      "text/plain": [
       "                 names                                               cast  \\\n",
       "0        Mission Majnu  ['Sidharth Malhotra', 'Rashmika Mandanna', 'Pa...   \n",
       "1               Cirkus  ['Ranveer Singh', 'Varun Sharma', 'Pooja Hegde...   \n",
       "2  Gangubai Kathiawadi  ['Alia Bhatt', 'Vijay Raaz', 'Seema Pahwa', 'A...   \n",
       "3              Thunivu  ['Ajith Kumar', 'Manju Warrier', 'Samuthirakan...   \n",
       "4    Bhool Bhulaiyaa 2  ['Tabu', 'Kartik Aaryan', 'Kiara Advani', 'Raj...   \n",
       "\n",
       "                                               genre  \n",
       "0  ['Spy Movies', 'Hindi-Language Movies', 'Bolly...  \n",
       "1  ['Hindi-Language Movies', 'Bollywood Movies', ...  \n",
       "2  ['Hindi-Language Movies', 'Movies Based on Boo...  \n",
       "3             ['Crime Movies', 'Action & Adventure']  \n",
       "4  ['Hindi-Language Movies', 'Bollywood Movies', ...  "
      ]
     },
     "execution_count": 8,
     "metadata": {},
     "output_type": "execute_result"
    }
   ],
   "source": [
    "#Decide which features to use to do recommendation\n",
    "\n",
    "reco_df= netflix_data[['names', 'cast', 'genre']]\n",
    "reco_df.head()"
   ]
  },
  {
   "cell_type": "code",
   "execution_count": 9,
   "metadata": {},
   "outputs": [
    {
     "data": {
      "text/plain": [
       "0    ['Sidharth Malhotra', 'Rashmika Mandanna', 'Pa...\n",
       "1    ['Ranveer Singh', 'Varun Sharma', 'Pooja Hegde...\n",
       "2    ['Alia Bhatt', 'Vijay Raaz', 'Seema Pahwa', 'A...\n",
       "3    ['Ajith Kumar', 'Manju Warrier', 'Samuthirakan...\n",
       "4    ['Tabu', 'Kartik Aaryan', 'Kiara Advani', 'Raj...\n",
       "Name: cast, dtype: object"
      ]
     },
     "execution_count": 9,
     "metadata": {},
     "output_type": "execute_result"
    }
   ],
   "source": [
    "#Suggest a Similar Content based on certain actress\n",
    "reco_df['cast'].head()"
   ]
  },
  {
   "cell_type": "code",
   "execution_count": 10,
   "metadata": {},
   "outputs": [
    {
     "name": "stderr",
     "output_type": "stream",
     "text": [
      "<ipython-input-10-03f6cb13b6ea>:6: SettingWithCopyWarning: \n",
      "A value is trying to be set on a copy of a slice from a DataFrame.\n",
      "Try using .loc[row_indexer,col_indexer] = value instead\n",
      "\n",
      "See the caveats in the documentation: https://pandas.pydata.org/pandas-docs/stable/user_guide/indexing.html#returning-a-view-versus-a-copy\n",
      "  reco_df['cast'] = reco_df['cast'].apply(lambda x: ','.join(x).lower().replace(' ',''))\n"
     ]
    }
   ],
   "source": [
    "# for index, row in reco_df.iterrows():\n",
    "#     print(row['cast'])\n",
    "#     for cast in row['cast']:\n",
    "#         cast = cast.lower().replace(' ','')\n",
    "\n",
    "reco_df['cast'] = reco_df['cast'].apply(lambda x: ','.join(x).lower().replace(' ',''))\n"
   ]
  },
  {
   "cell_type": "code",
   "execution_count": 11,
   "metadata": {},
   "outputs": [
    {
     "data": {
      "text/plain": [
       "0    [,',s,i,d,h,a,r,t,h,,m,a,l,h,o,t,r,a,',,,,',r,...\n",
       "1    [,',r,a,n,v,e,e,r,,s,i,n,g,h,',,,,',v,a,r,u,n,...\n",
       "2    [,',a,l,i,a,,b,h,a,t,t,',,,,',v,i,j,a,y,,r,a,a...\n",
       "3    [,',a,j,i,t,h,,k,u,m,a,r,',,,,',m,a,n,j,u,,w,a...\n",
       "4    [,',t,a,b,u,',,,,',k,a,r,t,i,k,,a,a,r,y,a,n,',...\n",
       "Name: cast, dtype: object"
      ]
     },
     "execution_count": 11,
     "metadata": {},
     "output_type": "execute_result"
    }
   ],
   "source": [
    "reco_df['cast'].head()"
   ]
  },
  {
   "cell_type": "code",
   "execution_count": null,
   "metadata": {},
   "outputs": [],
   "source": []
  }
 ],
 "metadata": {
  "kernelspec": {
   "display_name": "base",
   "language": "python",
   "name": "python3"
  },
  "language_info": {
   "codemirror_mode": {
    "name": "ipython",
    "version": 3
   },
   "file_extension": ".py",
   "mimetype": "text/x-python",
   "name": "python",
   "nbconvert_exporter": "python",
   "pygments_lexer": "ipython3",
   "version": "3.8.8"
  },
  "orig_nbformat": 4,
  "vscode": {
   "interpreter": {
    "hash": "2f3e35b66d79550c77d3d7d3ff2437bb1667c324982b6e3bb81b1a6f02c3c690"
   }
  }
 },
 "nbformat": 4,
 "nbformat_minor": 2
}
